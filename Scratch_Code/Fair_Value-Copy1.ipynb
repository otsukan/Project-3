{
 "cells": [
  {
   "cell_type": "code",
   "execution_count": 3,
   "metadata": {},
   "outputs": [
    {
     "name": "stderr",
     "output_type": "stream",
     "text": [
      "Using TensorFlow backend.\n",
      "ERROR:fbprophet:Importing plotly failed. Interactive plots will not work.\n"
     ]
    }
   ],
   "source": [
    "import requests\n",
    "import json\n",
    "import pandas as pd\n",
    "import numpy as np\n",
    "import stocker as st\n",
    "import yahoo_finance as yf\n",
    "import yahoofinancials \n",
    "from pandas_datareader import data\n",
    "from stocker import Stocker as st\n",
    "import matplotlib.pyplot as plt"
   ]
  },
  {
   "cell_type": "code",
   "execution_count": 4,
   "metadata": {},
   "outputs": [],
   "source": [
    "API_KEY = 'ce3f5e09820555d58e3615b5f773b88b'"
   ]
  },
  {
   "cell_type": "code",
   "execution_count": null,
   "metadata": {},
   "outputs": [],
   "source": [
    ", 'GS', 'BK', 'ARW', 'M', 'AMAT'"
   ]
  },
  {
   "cell_type": "code",
   "execution_count": 55,
   "metadata": {},
   "outputs": [],
   "source": [
    "ticker_symbols = ['TRV', 'HBI']\n",
    "for symbol in ticker_symbols:\n",
    "    \n",
    "    response = requests.get(f'https://datafied.api.edgar-online.com/v2/corefinancials/ann.json?primarysymbols={symbol}&fiscalperiod=2019q4&appkey={API_KEY}').json()\n",
    "    \n",
    "    data = response['result']['rows'][0]['values']\n",
    "    \n",
    "    if symbol == 'TRV':\n",
    "        \n",
    "        columns = []\n",
    "        for x in data:\n",
    "            columns.append(x['field'])\n",
    "\n",
    "        values = []\n",
    "        for x in data:\n",
    "            values.append(x['value'])\n",
    "\n",
    "        financials_df = pd.DataFrame([values], columns=columns)\n",
    "        \n",
    "    else:\n",
    "        \n",
    "        columns2 = []\n",
    "        for x in data:\n",
    "            columns2.append(x['field'])\n",
    "        \n",
    "        values2 = []\n",
    "        for x in data:\n",
    "            values2.append(x['value'])\n",
    "        \n",
    "        financials_df2 = pd.DataFrame([values2], columns=columns2)\n",
    "        \n",
    "        \n",
    "#     financials = financials_df.append(financials_df2)\n",
    "    \n",
    "#     values2 = []\n"
   ]
  },
  {
   "cell_type": "code",
   "execution_count": 59,
   "metadata": {},
   "outputs": [
    {
     "data": {
      "text/html": [
       "<div>\n",
       "<style scoped>\n",
       "    .dataframe tbody tr th:only-of-type {\n",
       "        vertical-align: middle;\n",
       "    }\n",
       "\n",
       "    .dataframe tbody tr th {\n",
       "        vertical-align: top;\n",
       "    }\n",
       "\n",
       "    .dataframe thead th {\n",
       "        text-align: right;\n",
       "    }\n",
       "</style>\n",
       "<table border=\"1\" class=\"dataframe\">\n",
       "  <thead>\n",
       "    <tr style=\"text-align: right;\">\n",
       "      <th></th>\n",
       "      <th>taxonomyid</th>\n",
       "      <th>cik</th>\n",
       "      <th>companyname</th>\n",
       "      <th>entityid</th>\n",
       "      <th>primaryexchange</th>\n",
       "      <th>marketoperator</th>\n",
       "      <th>markettier</th>\n",
       "      <th>primarysymbol</th>\n",
       "      <th>siccode</th>\n",
       "      <th>sicdescription</th>\n",
       "      <th>...</th>\n",
       "      <th>intangibleassets</th>\n",
       "      <th>otherassets</th>\n",
       "      <th>otherliabilities</th>\n",
       "      <th>retainedearnings</th>\n",
       "      <th>totalassets</th>\n",
       "      <th>totalliabilities</th>\n",
       "      <th>totallongtermdebt</th>\n",
       "      <th>totalreceivablesnet</th>\n",
       "      <th>totalstockholdersequity</th>\n",
       "      <th>treasurystock</th>\n",
       "    </tr>\n",
       "  </thead>\n",
       "  <tbody>\n",
       "    <tr>\n",
       "      <th>0</th>\n",
       "      <td>50</td>\n",
       "      <td>0000086312</td>\n",
       "      <td>TRAVELERS COMPANIES, INC.</td>\n",
       "      <td>8335</td>\n",
       "      <td>NYSE</td>\n",
       "      <td>NYSE</td>\n",
       "      <td>NYSE</td>\n",
       "      <td>TRV</td>\n",
       "      <td>6331</td>\n",
       "      <td>Fire, Marine and Casualty Insurance</td>\n",
       "      <td>...</td>\n",
       "      <td>330000000.0</td>\n",
       "      <td>3.799000e+09</td>\n",
       "      <td>7.712100e+10</td>\n",
       "      <td>3.697700e+10</td>\n",
       "      <td>1.101220e+11</td>\n",
       "      <td>8.417900e+10</td>\n",
       "      <td>6.558000e+09</td>\n",
       "      <td>2.076300e+10</td>\n",
       "      <td>2.594300e+10</td>\n",
       "      <td>-3.514300e+10</td>\n",
       "    </tr>\n",
       "  </tbody>\n",
       "</table>\n",
       "<p>1 rows × 60 columns</p>\n",
       "</div>"
      ],
      "text/plain": [
       "   taxonomyid         cik                companyname  entityid  \\\n",
       "0          50  0000086312  TRAVELERS COMPANIES, INC.      8335   \n",
       "\n",
       "  primaryexchange marketoperator markettier primarysymbol siccode  \\\n",
       "0            NYSE           NYSE       NYSE           TRV    6331   \n",
       "\n",
       "                        sicdescription  ...  intangibleassets   otherassets  \\\n",
       "0  Fire, Marine and Casualty Insurance  ...       330000000.0  3.799000e+09   \n",
       "\n",
       "  otherliabilities  retainedearnings   totalassets  totalliabilities  \\\n",
       "0     7.712100e+10      3.697700e+10  1.101220e+11      8.417900e+10   \n",
       "\n",
       "  totallongtermdebt  totalreceivablesnet totalstockholdersequity  \\\n",
       "0      6.558000e+09         2.076300e+10            2.594300e+10   \n",
       "\n",
       "   treasurystock  \n",
       "0  -3.514300e+10  \n",
       "\n",
       "[1 rows x 60 columns]"
      ]
     },
     "execution_count": 59,
     "metadata": {},
     "output_type": "execute_result"
    }
   ],
   "source": [
    "financials_df"
   ]
  },
  {
   "cell_type": "code",
   "execution_count": 67,
   "metadata": {},
   "outputs": [
    {
     "data": {
      "text/plain": [
       "Index(['taxonomyid', 'cik', 'companyname', 'entityid', 'primaryexchange',\n",
       "       'marketoperator', 'markettier', 'primarysymbol', 'siccode',\n",
       "       'sicdescription', 'usdconversionrate', 'restated', 'receiveddate',\n",
       "       'preliminary', 'periodlengthcode', 'periodlength', 'periodenddate',\n",
       "       'original', 'formtype', 'fiscalyear', 'fiscalquarter', 'dcn',\n",
       "       'currencycode', 'crosscalculated', 'audited', 'amended',\n",
       "       'changeincurrentassets', 'changeincurrentliabilities', 'dividendspaid',\n",
       "       'effectofexchangerateoncash', 'cashfromfinancingactivities',\n",
       "       'cashfrominvestingactivities', 'cashfromoperatingactivities',\n",
       "       'cfdepreciationamortization', 'changeinaccountsreceivable',\n",
       "       'investmentchangesnet', 'netchangeincash', 'totaladjustments', 'ebit',\n",
       "       'incomebeforetaxes', 'interestexpense', 'netincome',\n",
       "       'netincomeapplicabletocommon', 'totalrevenue',\n",
       "       'sellinggeneraladministrativeexpenses', 'commonstock',\n",
       "       'deferredcharges', 'cashandcashequivalents',\n",
       "       'cashcashequivalentsandshortterminvestments', 'goodwill',\n",
       "       'intangibleassets', 'otherassets', 'otherliabilities',\n",
       "       'retainedearnings', 'totalassets', 'totalliabilities',\n",
       "       'totallongtermdebt', 'totalreceivablesnet', 'totalstockholdersequity',\n",
       "       'treasurystock'],\n",
       "      dtype='object')"
      ]
     },
     "execution_count": 67,
     "metadata": {},
     "output_type": "execute_result"
    }
   ],
   "source": [
    "financials_df.keys()"
   ]
  },
  {
   "cell_type": "code",
   "execution_count": 60,
   "metadata": {},
   "outputs": [
    {
     "data": {
      "text/html": [
       "<div>\n",
       "<style scoped>\n",
       "    .dataframe tbody tr th:only-of-type {\n",
       "        vertical-align: middle;\n",
       "    }\n",
       "\n",
       "    .dataframe tbody tr th {\n",
       "        vertical-align: top;\n",
       "    }\n",
       "\n",
       "    .dataframe thead th {\n",
       "        text-align: right;\n",
       "    }\n",
       "</style>\n",
       "<table border=\"1\" class=\"dataframe\">\n",
       "  <thead>\n",
       "    <tr style=\"text-align: right;\">\n",
       "      <th></th>\n",
       "      <th>taxonomyid</th>\n",
       "      <th>cik</th>\n",
       "      <th>companyname</th>\n",
       "      <th>entityid</th>\n",
       "      <th>primaryexchange</th>\n",
       "      <th>marketoperator</th>\n",
       "      <th>markettier</th>\n",
       "      <th>primarysymbol</th>\n",
       "      <th>siccode</th>\n",
       "      <th>sicdescription</th>\n",
       "      <th>...</th>\n",
       "      <th>propertyplantequipmentnet</th>\n",
       "      <th>retainedearnings</th>\n",
       "      <th>totalassets</th>\n",
       "      <th>totalcurrentassets</th>\n",
       "      <th>totalcurrentliabilities</th>\n",
       "      <th>totalliabilities</th>\n",
       "      <th>totallongtermdebt</th>\n",
       "      <th>totalreceivablesnet</th>\n",
       "      <th>totalshorttermdebt</th>\n",
       "      <th>totalstockholdersequity</th>\n",
       "    </tr>\n",
       "  </thead>\n",
       "  <tbody>\n",
       "    <tr>\n",
       "      <th>0</th>\n",
       "      <td>50</td>\n",
       "      <td>0001359841</td>\n",
       "      <td>HANESBRANDS INC.</td>\n",
       "      <td>709744</td>\n",
       "      <td>NYSE</td>\n",
       "      <td>NYSE</td>\n",
       "      <td>NYSE</td>\n",
       "      <td>HBI</td>\n",
       "      <td>5600</td>\n",
       "      <td>Retail-Apparel and Accessory Stores</td>\n",
       "      <td>...</td>\n",
       "      <td>587896000.0</td>\n",
       "      <td>1.546224e+09</td>\n",
       "      <td>7.353986e+09</td>\n",
       "      <td>3.224565e+09</td>\n",
       "      <td>1.771439e+09</td>\n",
       "      <td>6.117391e+09</td>\n",
       "      <td>3.256870e+09</td>\n",
       "      <td>815210000.0</td>\n",
       "      <td>115158000.0</td>\n",
       "      <td>1.236595e+09</td>\n",
       "    </tr>\n",
       "  </tbody>\n",
       "</table>\n",
       "<p>1 rows × 69 columns</p>\n",
       "</div>"
      ],
      "text/plain": [
       "   taxonomyid         cik       companyname  entityid primaryexchange  \\\n",
       "0          50  0001359841  HANESBRANDS INC.    709744            NYSE   \n",
       "\n",
       "  marketoperator markettier primarysymbol siccode  \\\n",
       "0           NYSE       NYSE           HBI    5600   \n",
       "\n",
       "                        sicdescription  ...  propertyplantequipmentnet  \\\n",
       "0  Retail-Apparel and Accessory Stores  ...                587896000.0   \n",
       "\n",
       "   retainedearnings   totalassets  totalcurrentassets totalcurrentliabilities  \\\n",
       "0      1.546224e+09  7.353986e+09        3.224565e+09            1.771439e+09   \n",
       "\n",
       "   totalliabilities totallongtermdebt  totalreceivablesnet totalshorttermdebt  \\\n",
       "0      6.117391e+09      3.256870e+09          815210000.0        115158000.0   \n",
       "\n",
       "   totalstockholdersequity  \n",
       "0             1.236595e+09  \n",
       "\n",
       "[1 rows x 69 columns]"
      ]
     },
     "execution_count": 60,
     "metadata": {},
     "output_type": "execute_result"
    }
   ],
   "source": [
    "financials_df2"
   ]
  },
  {
   "cell_type": "code",
   "execution_count": 64,
   "metadata": {},
   "outputs": [],
   "source": [
    "test = financials_df.append(financials_df2)"
   ]
  },
  {
   "cell_type": "code",
   "execution_count": 73,
   "metadata": {},
   "outputs": [
    {
     "data": {
      "text/html": [
       "<div>\n",
       "<style scoped>\n",
       "    .dataframe tbody tr th:only-of-type {\n",
       "        vertical-align: middle;\n",
       "    }\n",
       "\n",
       "    .dataframe tbody tr th {\n",
       "        vertical-align: top;\n",
       "    }\n",
       "\n",
       "    .dataframe thead th {\n",
       "        text-align: right;\n",
       "    }\n",
       "</style>\n",
       "<table border=\"1\" class=\"dataframe\">\n",
       "  <thead>\n",
       "    <tr style=\"text-align: right;\">\n",
       "      <th></th>\n",
       "      <th>capitalexpenditures</th>\n",
       "      <th>cashandcashequivalents</th>\n",
       "      <th>cashcashequivalentsandshortterminvestments</th>\n",
       "      <th>cashfromfinancingactivities</th>\n",
       "      <th>cashfrominvestingactivities</th>\n",
       "      <th>cashfromoperatingactivities</th>\n",
       "      <th>cfdepreciationamortization</th>\n",
       "      <th>changeinaccountsreceivable</th>\n",
       "      <th>changeincurrentassets</th>\n",
       "      <th>changeincurrentliabilities</th>\n",
       "      <th>...</th>\n",
       "      <th>totalcurrentassets</th>\n",
       "      <th>totalcurrentliabilities</th>\n",
       "      <th>totalliabilities</th>\n",
       "      <th>totallongtermdebt</th>\n",
       "      <th>totalreceivablesnet</th>\n",
       "      <th>totalrevenue</th>\n",
       "      <th>totalshorttermdebt</th>\n",
       "      <th>totalstockholdersequity</th>\n",
       "      <th>treasurystock</th>\n",
       "      <th>usdconversionrate</th>\n",
       "    </tr>\n",
       "  </thead>\n",
       "  <tbody>\n",
       "    <tr>\n",
       "      <th>0</th>\n",
       "      <td>NaN</td>\n",
       "      <td>494000000.0</td>\n",
       "      <td>494000000.0</td>\n",
       "      <td>-2.187000e+09</td>\n",
       "      <td>-2.902000e+09</td>\n",
       "      <td>5.205000e+09</td>\n",
       "      <td>5.364000e+09</td>\n",
       "      <td>-227000000.0</td>\n",
       "      <td>-3.927000e+09</td>\n",
       "      <td>1.008000e+09</td>\n",
       "      <td>...</td>\n",
       "      <td>NaN</td>\n",
       "      <td>NaN</td>\n",
       "      <td>8.417900e+10</td>\n",
       "      <td>6.558000e+09</td>\n",
       "      <td>2.076300e+10</td>\n",
       "      <td>3.158100e+10</td>\n",
       "      <td>NaN</td>\n",
       "      <td>2.594300e+10</td>\n",
       "      <td>-3.514300e+10</td>\n",
       "      <td>1.0</td>\n",
       "    </tr>\n",
       "    <tr>\n",
       "      <th>0</th>\n",
       "      <td>-101084000.0</td>\n",
       "      <td>328876000.0</td>\n",
       "      <td>328876000.0</td>\n",
       "      <td>-8.240100e+08</td>\n",
       "      <td>-1.096600e+08</td>\n",
       "      <td>8.034320e+08</td>\n",
       "      <td>1.416980e+08</td>\n",
       "      <td>45157000.0</td>\n",
       "      <td>1.924870e+08</td>\n",
       "      <td>-1.810030e+08</td>\n",
       "      <td>...</td>\n",
       "      <td>3.224565e+09</td>\n",
       "      <td>1.771439e+09</td>\n",
       "      <td>6.117391e+09</td>\n",
       "      <td>3.256870e+09</td>\n",
       "      <td>8.152100e+08</td>\n",
       "      <td>6.966923e+09</td>\n",
       "      <td>115158000.0</td>\n",
       "      <td>1.236595e+09</td>\n",
       "      <td>NaN</td>\n",
       "      <td>1.0</td>\n",
       "    </tr>\n",
       "  </tbody>\n",
       "</table>\n",
       "<p>2 rows × 70 columns</p>\n",
       "</div>"
      ],
      "text/plain": [
       "   capitalexpenditures  cashandcashequivalents  \\\n",
       "0                  NaN             494000000.0   \n",
       "0         -101084000.0             328876000.0   \n",
       "\n",
       "   cashcashequivalentsandshortterminvestments  cashfromfinancingactivities  \\\n",
       "0                                 494000000.0                -2.187000e+09   \n",
       "0                                 328876000.0                -8.240100e+08   \n",
       "\n",
       "   cashfrominvestingactivities  cashfromoperatingactivities  \\\n",
       "0                -2.902000e+09                 5.205000e+09   \n",
       "0                -1.096600e+08                 8.034320e+08   \n",
       "\n",
       "   cfdepreciationamortization  changeinaccountsreceivable  \\\n",
       "0                5.364000e+09                -227000000.0   \n",
       "0                1.416980e+08                  45157000.0   \n",
       "\n",
       "   changeincurrentassets  changeincurrentliabilities  ...  totalcurrentassets  \\\n",
       "0          -3.927000e+09                1.008000e+09  ...                 NaN   \n",
       "0           1.924870e+08               -1.810030e+08  ...        3.224565e+09   \n",
       "\n",
       "  totalcurrentliabilities  totalliabilities totallongtermdebt  \\\n",
       "0                     NaN      8.417900e+10      6.558000e+09   \n",
       "0            1.771439e+09      6.117391e+09      3.256870e+09   \n",
       "\n",
       "   totalreceivablesnet  totalrevenue totalshorttermdebt  \\\n",
       "0         2.076300e+10  3.158100e+10                NaN   \n",
       "0         8.152100e+08  6.966923e+09        115158000.0   \n",
       "\n",
       "  totalstockholdersequity  treasurystock  usdconversionrate  \n",
       "0            2.594300e+10  -3.514300e+10                1.0  \n",
       "0            1.236595e+09            NaN                1.0  \n",
       "\n",
       "[2 rows x 70 columns]"
      ]
     },
     "execution_count": 73,
     "metadata": {},
     "output_type": "execute_result"
    }
   ],
   "source": [
    "test.drop(columns={'amended', 'audited'})"
   ]
  },
  {
   "cell_type": "code",
   "execution_count": 74,
   "metadata": {},
   "outputs": [
    {
     "data": {
      "text/plain": [
       "0    TRAVELERS COMPANIES, INC.\n",
       "0             HANESBRANDS INC.\n",
       "Name: companyname, dtype: object"
      ]
     },
     "execution_count": 74,
     "metadata": {},
     "output_type": "execute_result"
    }
   ],
   "source": [
    "test['companyname']"
   ]
  },
  {
   "cell_type": "code",
   "execution_count": 58,
   "metadata": {},
   "outputs": [],
   "source": []
  },
  {
   "cell_type": "code",
   "execution_count": 59,
   "metadata": {},
   "outputs": [],
   "source": []
  },
  {
   "cell_type": "code",
   "execution_count": 60,
   "metadata": {},
   "outputs": [
    {
     "name": "stdout",
     "output_type": "stream",
     "text": [
      "MSFT Stocker Initialized. Data covers 1986-03-13 00:00:00 to 2018-03-27 00:00:00.\n"
     ]
    }
   ],
   "source": [
    "microsoft = st.Stocker(ticker='MSFT')"
   ]
  },
  {
   "cell_type": "code",
   "execution_count": 61,
   "metadata": {},
   "outputs": [],
   "source": [
    "total_hold_profit = microsoft.buy_and_hold(start_date='2005-12-30', end_date='2016-12-30', nshares=1)"
   ]
  },
  {
   "cell_type": "code",
   "execution_count": 62,
   "metadata": {},
   "outputs": [
    {
     "data": {
      "text/plain": [
       "40.95812949571899"
      ]
     },
     "execution_count": 62,
     "metadata": {},
     "output_type": "execute_result"
    }
   ],
   "source": [
    "total_hold_profit"
   ]
  },
  {
   "cell_type": "code",
   "execution_count": 63,
   "metadata": {},
   "outputs": [],
   "source": [
    "financials['Total_Hold_Profit'] = total_hold_profit"
   ]
  },
  {
   "cell_type": "code",
   "execution_count": 64,
   "metadata": {},
   "outputs": [
    {
     "data": {
      "text/html": [
       "<div>\n",
       "<style scoped>\n",
       "    .dataframe tbody tr th:only-of-type {\n",
       "        vertical-align: middle;\n",
       "    }\n",
       "\n",
       "    .dataframe tbody tr th {\n",
       "        vertical-align: top;\n",
       "    }\n",
       "\n",
       "    .dataframe thead th {\n",
       "        text-align: right;\n",
       "    }\n",
       "</style>\n",
       "<table border=\"1\" class=\"dataframe\">\n",
       "  <thead>\n",
       "    <tr style=\"text-align: right;\">\n",
       "      <th></th>\n",
       "      <th>taxonomyid</th>\n",
       "      <th>cik</th>\n",
       "      <th>companyname</th>\n",
       "      <th>entityid</th>\n",
       "      <th>primaryexchange</th>\n",
       "      <th>marketoperator</th>\n",
       "      <th>markettier</th>\n",
       "      <th>primarysymbol</th>\n",
       "      <th>siccode</th>\n",
       "      <th>sicdescription</th>\n",
       "      <th>...</th>\n",
       "      <th>retainedearnings</th>\n",
       "      <th>totalassets</th>\n",
       "      <th>totalcurrentassets</th>\n",
       "      <th>totalcurrentliabilities</th>\n",
       "      <th>totalliabilities</th>\n",
       "      <th>totallongtermdebt</th>\n",
       "      <th>totalreceivablesnet</th>\n",
       "      <th>totalshorttermdebt</th>\n",
       "      <th>totalstockholdersequity</th>\n",
       "      <th>Total_Hold_Profit</th>\n",
       "    </tr>\n",
       "  </thead>\n",
       "  <tbody>\n",
       "    <tr>\n",
       "      <th>0</th>\n",
       "      <td>50</td>\n",
       "      <td>0000789019</td>\n",
       "      <td>MICROSOFT CORP</td>\n",
       "      <td>8528</td>\n",
       "      <td>Nasdaq Global Market</td>\n",
       "      <td>NASDAQ</td>\n",
       "      <td>NASDAQ Global Select Market</td>\n",
       "      <td>MSFT</td>\n",
       "      <td>7372</td>\n",
       "      <td>Services-Prepackaged Software</td>\n",
       "      <td>...</td>\n",
       "      <td>2.415000e+10</td>\n",
       "      <td>2.865560e+11</td>\n",
       "      <td>1.755520e+11</td>\n",
       "      <td>6.942000e+10</td>\n",
       "      <td>1.842260e+11</td>\n",
       "      <td>6.666200e+10</td>\n",
       "      <td>2.952400e+10</td>\n",
       "      <td>5.516000e+09</td>\n",
       "      <td>1.023300e+11</td>\n",
       "      <td>40.958129</td>\n",
       "    </tr>\n",
       "    <tr>\n",
       "      <th>0</th>\n",
       "      <td>50</td>\n",
       "      <td>0000789019</td>\n",
       "      <td>MICROSOFT CORP</td>\n",
       "      <td>8528</td>\n",
       "      <td>Nasdaq Global Market</td>\n",
       "      <td>NASDAQ</td>\n",
       "      <td>NASDAQ Global Select Market</td>\n",
       "      <td>MSFT</td>\n",
       "      <td>7372</td>\n",
       "      <td>Services-Prepackaged Software</td>\n",
       "      <td>...</td>\n",
       "      <td>1.368200e+10</td>\n",
       "      <td>2.588480e+11</td>\n",
       "      <td>1.696620e+11</td>\n",
       "      <td>5.848800e+10</td>\n",
       "      <td>1.761300e+11</td>\n",
       "      <td>7.224200e+10</td>\n",
       "      <td>2.648100e+10</td>\n",
       "      <td>3.998000e+09</td>\n",
       "      <td>8.271800e+10</td>\n",
       "      <td>40.958129</td>\n",
       "    </tr>\n",
       "  </tbody>\n",
       "</table>\n",
       "<p>2 rows × 70 columns</p>\n",
       "</div>"
      ],
      "text/plain": [
       "   taxonomyid         cik     companyname  entityid       primaryexchange  \\\n",
       "0          50  0000789019  MICROSOFT CORP      8528  Nasdaq Global Market   \n",
       "0          50  0000789019  MICROSOFT CORP      8528  Nasdaq Global Market   \n",
       "\n",
       "  marketoperator                   markettier primarysymbol siccode  \\\n",
       "0         NASDAQ  NASDAQ Global Select Market          MSFT    7372   \n",
       "0         NASDAQ  NASDAQ Global Select Market          MSFT    7372   \n",
       "\n",
       "                  sicdescription  ...  retainedearnings   totalassets  \\\n",
       "0  Services-Prepackaged Software  ...      2.415000e+10  2.865560e+11   \n",
       "0  Services-Prepackaged Software  ...      1.368200e+10  2.588480e+11   \n",
       "\n",
       "  totalcurrentassets  totalcurrentliabilities totalliabilities  \\\n",
       "0       1.755520e+11             6.942000e+10     1.842260e+11   \n",
       "0       1.696620e+11             5.848800e+10     1.761300e+11   \n",
       "\n",
       "   totallongtermdebt totalreceivablesnet  totalshorttermdebt  \\\n",
       "0       6.666200e+10        2.952400e+10        5.516000e+09   \n",
       "0       7.224200e+10        2.648100e+10        3.998000e+09   \n",
       "\n",
       "  totalstockholdersequity  Total_Hold_Profit  \n",
       "0            1.023300e+11          40.958129  \n",
       "0            8.271800e+10          40.958129  \n",
       "\n",
       "[2 rows x 70 columns]"
      ]
     },
     "execution_count": 64,
     "metadata": {},
     "output_type": "execute_result"
    }
   ],
   "source": [
    "financials"
   ]
  },
  {
   "cell_type": "code",
   "execution_count": null,
   "metadata": {},
   "outputs": [],
   "source": []
  }
 ],
 "metadata": {
  "kernelspec": {
   "display_name": "Python 3",
   "language": "python",
   "name": "python3"
  },
  "language_info": {
   "codemirror_mode": {
    "name": "ipython",
    "version": 3
   },
   "file_extension": ".py",
   "mimetype": "text/x-python",
   "name": "python",
   "nbconvert_exporter": "python",
   "pygments_lexer": "ipython3",
   "version": "3.7.3"
  }
 },
 "nbformat": 4,
 "nbformat_minor": 2
}
