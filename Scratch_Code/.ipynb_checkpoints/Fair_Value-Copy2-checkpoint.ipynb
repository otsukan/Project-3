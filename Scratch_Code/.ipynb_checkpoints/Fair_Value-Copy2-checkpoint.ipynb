{
 "cells": [
  {
   "cell_type": "code",
   "execution_count": 160,
   "metadata": {},
   "outputs": [],
   "source": [
    "import requests\n",
    "import json\n",
    "import pandas as pd\n",
    "import numpy as np\n",
    "import stocker as st\n",
    "import yahoo_finance as yf\n",
    "import yahoofinancials \n",
    "from pandas_datareader import data\n",
    "from stocker import Stocker as st\n",
    "import matplotlib.pyplot as plt"
   ]
  },
  {
   "cell_type": "code",
   "execution_count": 2,
   "metadata": {},
   "outputs": [],
   "source": [
    "API_KEY = 'ce3f5e09820555d58e3615b5f773b88b'"
   ]
  },
  {
   "cell_type": "code",
   "execution_count": 65,
   "metadata": {},
   "outputs": [],
   "source": [
    "ticker_symbols = ['TRV', 'HBI', 'GS', 'BK', 'ARW', 'M', 'AMAT']"
   ]
  },
  {
   "cell_type": "code",
   "execution_count": 50,
   "metadata": {},
   "outputs": [],
   "source": [
    "response = requests.get(f'https://datafied.api.edgar-online.com/v2/corefinancials/ann.json?primarysymbols={ticker_symbols}&fiscalperiod=2019q4&appkey={API_KEY}').json()"
   ]
  },
  {
   "cell_type": "code",
   "execution_count": 51,
   "metadata": {},
   "outputs": [],
   "source": [
    "data = response['result']['rows'][0]['values']"
   ]
  },
  {
   "cell_type": "code",
   "execution_count": 52,
   "metadata": {},
   "outputs": [],
   "source": [
    "columns = []\n",
    "for x in data:\n",
    "    columns.append(x['field'])"
   ]
  },
  {
   "cell_type": "code",
   "execution_count": 53,
   "metadata": {},
   "outputs": [],
   "source": [
    "values = []\n",
    "for x in data:\n",
    "    values.append(x['value'])"
   ]
  },
  {
   "cell_type": "code",
   "execution_count": 54,
   "metadata": {},
   "outputs": [],
   "source": [
    "financials_df = pd.DataFrame([values], columns=columns)"
   ]
  },
  {
   "cell_type": "code",
   "execution_count": 3,
   "metadata": {},
   "outputs": [],
   "source": [
    "response18 = requests.get(f'https://datafied.api.edgar-online.com/v2/corefinancials/ann?primarysymbols=MSFT&appkey={API_KEY}').json()"
   ]
  },
  {
   "cell_type": "code",
   "execution_count": 56,
   "metadata": {},
   "outputs": [],
   "source": [
    "data18 = response18['result']['rows'][1]['values']"
   ]
  },
  {
   "cell_type": "code",
   "execution_count": 57,
   "metadata": {},
   "outputs": [],
   "source": [
    "values18 = []\n",
    "for x in data18:\n",
    "    values18.append(x['value'])"
   ]
  },
  {
   "cell_type": "code",
   "execution_count": 58,
   "metadata": {},
   "outputs": [],
   "source": [
    "financials_df2 = pd.DataFrame([values18], columns=columns)"
   ]
  },
  {
   "cell_type": "code",
   "execution_count": 59,
   "metadata": {},
   "outputs": [],
   "source": [
    "financials = financials_df.append(financials_df2)"
   ]
  },
  {
   "cell_type": "code",
   "execution_count": 60,
   "metadata": {},
   "outputs": [
    {
     "name": "stdout",
     "output_type": "stream",
     "text": [
      "MSFT Stocker Initialized. Data covers 1986-03-13 00:00:00 to 2018-03-27 00:00:00.\n"
     ]
    }
   ],
   "source": [
    "microsoft = st.Stocker(ticker='MSFT')"
   ]
  },
  {
   "cell_type": "code",
   "execution_count": 61,
   "metadata": {},
   "outputs": [],
   "source": [
    "total_hold_profit = microsoft.buy_and_hold(start_date='2005-12-30', end_date='2016-12-30', nshares=1)"
   ]
  },
  {
   "cell_type": "code",
   "execution_count": 62,
   "metadata": {},
   "outputs": [
    {
     "data": {
      "text/plain": [
       "40.95812949571899"
      ]
     },
     "execution_count": 62,
     "metadata": {},
     "output_type": "execute_result"
    }
   ],
   "source": [
    "total_hold_profit"
   ]
  },
  {
   "cell_type": "code",
   "execution_count": 63,
   "metadata": {},
   "outputs": [],
   "source": [
    "financials['Total_Hold_Profit'] = total_hold_profit"
   ]
  },
  {
   "cell_type": "code",
   "execution_count": 64,
   "metadata": {},
   "outputs": [
    {
     "data": {
      "text/html": [
       "<div>\n",
       "<style scoped>\n",
       "    .dataframe tbody tr th:only-of-type {\n",
       "        vertical-align: middle;\n",
       "    }\n",
       "\n",
       "    .dataframe tbody tr th {\n",
       "        vertical-align: top;\n",
       "    }\n",
       "\n",
       "    .dataframe thead th {\n",
       "        text-align: right;\n",
       "    }\n",
       "</style>\n",
       "<table border=\"1\" class=\"dataframe\">\n",
       "  <thead>\n",
       "    <tr style=\"text-align: right;\">\n",
       "      <th></th>\n",
       "      <th>taxonomyid</th>\n",
       "      <th>cik</th>\n",
       "      <th>companyname</th>\n",
       "      <th>entityid</th>\n",
       "      <th>primaryexchange</th>\n",
       "      <th>marketoperator</th>\n",
       "      <th>markettier</th>\n",
       "      <th>primarysymbol</th>\n",
       "      <th>siccode</th>\n",
       "      <th>sicdescription</th>\n",
       "      <th>...</th>\n",
       "      <th>retainedearnings</th>\n",
       "      <th>totalassets</th>\n",
       "      <th>totalcurrentassets</th>\n",
       "      <th>totalcurrentliabilities</th>\n",
       "      <th>totalliabilities</th>\n",
       "      <th>totallongtermdebt</th>\n",
       "      <th>totalreceivablesnet</th>\n",
       "      <th>totalshorttermdebt</th>\n",
       "      <th>totalstockholdersequity</th>\n",
       "      <th>Total_Hold_Profit</th>\n",
       "    </tr>\n",
       "  </thead>\n",
       "  <tbody>\n",
       "    <tr>\n",
       "      <th>0</th>\n",
       "      <td>50</td>\n",
       "      <td>0000789019</td>\n",
       "      <td>MICROSOFT CORP</td>\n",
       "      <td>8528</td>\n",
       "      <td>Nasdaq Global Market</td>\n",
       "      <td>NASDAQ</td>\n",
       "      <td>NASDAQ Global Select Market</td>\n",
       "      <td>MSFT</td>\n",
       "      <td>7372</td>\n",
       "      <td>Services-Prepackaged Software</td>\n",
       "      <td>...</td>\n",
       "      <td>2.415000e+10</td>\n",
       "      <td>2.865560e+11</td>\n",
       "      <td>1.755520e+11</td>\n",
       "      <td>6.942000e+10</td>\n",
       "      <td>1.842260e+11</td>\n",
       "      <td>6.666200e+10</td>\n",
       "      <td>2.952400e+10</td>\n",
       "      <td>5.516000e+09</td>\n",
       "      <td>1.023300e+11</td>\n",
       "      <td>40.958129</td>\n",
       "    </tr>\n",
       "    <tr>\n",
       "      <th>0</th>\n",
       "      <td>50</td>\n",
       "      <td>0000789019</td>\n",
       "      <td>MICROSOFT CORP</td>\n",
       "      <td>8528</td>\n",
       "      <td>Nasdaq Global Market</td>\n",
       "      <td>NASDAQ</td>\n",
       "      <td>NASDAQ Global Select Market</td>\n",
       "      <td>MSFT</td>\n",
       "      <td>7372</td>\n",
       "      <td>Services-Prepackaged Software</td>\n",
       "      <td>...</td>\n",
       "      <td>1.368200e+10</td>\n",
       "      <td>2.588480e+11</td>\n",
       "      <td>1.696620e+11</td>\n",
       "      <td>5.848800e+10</td>\n",
       "      <td>1.761300e+11</td>\n",
       "      <td>7.224200e+10</td>\n",
       "      <td>2.648100e+10</td>\n",
       "      <td>3.998000e+09</td>\n",
       "      <td>8.271800e+10</td>\n",
       "      <td>40.958129</td>\n",
       "    </tr>\n",
       "  </tbody>\n",
       "</table>\n",
       "<p>2 rows × 70 columns</p>\n",
       "</div>"
      ],
      "text/plain": [
       "   taxonomyid         cik     companyname  entityid       primaryexchange  \\\n",
       "0          50  0000789019  MICROSOFT CORP      8528  Nasdaq Global Market   \n",
       "0          50  0000789019  MICROSOFT CORP      8528  Nasdaq Global Market   \n",
       "\n",
       "  marketoperator                   markettier primarysymbol siccode  \\\n",
       "0         NASDAQ  NASDAQ Global Select Market          MSFT    7372   \n",
       "0         NASDAQ  NASDAQ Global Select Market          MSFT    7372   \n",
       "\n",
       "                  sicdescription  ...  retainedearnings   totalassets  \\\n",
       "0  Services-Prepackaged Software  ...      2.415000e+10  2.865560e+11   \n",
       "0  Services-Prepackaged Software  ...      1.368200e+10  2.588480e+11   \n",
       "\n",
       "  totalcurrentassets  totalcurrentliabilities totalliabilities  \\\n",
       "0       1.755520e+11             6.942000e+10     1.842260e+11   \n",
       "0       1.696620e+11             5.848800e+10     1.761300e+11   \n",
       "\n",
       "   totallongtermdebt totalreceivablesnet  totalshorttermdebt  \\\n",
       "0       6.666200e+10        2.952400e+10        5.516000e+09   \n",
       "0       7.224200e+10        2.648100e+10        3.998000e+09   \n",
       "\n",
       "  totalstockholdersequity  Total_Hold_Profit  \n",
       "0            1.023300e+11          40.958129  \n",
       "0            8.271800e+10          40.958129  \n",
       "\n",
       "[2 rows x 70 columns]"
      ]
     },
     "execution_count": 64,
     "metadata": {},
     "output_type": "execute_result"
    }
   ],
   "source": [
    "financials"
   ]
  },
  {
   "cell_type": "code",
   "execution_count": null,
   "metadata": {},
   "outputs": [],
   "source": [
    " 'HBI', 'GS', 'BK', 'ARW', 'M', 'AMAT']"
   ]
  },
  {
   "cell_type": "code",
   "execution_count": 174,
   "metadata": {},
   "outputs": [
    {
     "data": {
      "text/html": [
       "<div>\n",
       "<style scoped>\n",
       "    .dataframe tbody tr th:only-of-type {\n",
       "        vertical-align: middle;\n",
       "    }\n",
       "\n",
       "    .dataframe tbody tr th {\n",
       "        vertical-align: top;\n",
       "    }\n",
       "\n",
       "    .dataframe thead th {\n",
       "        text-align: right;\n",
       "    }\n",
       "</style>\n",
       "<table border=\"1\" class=\"dataframe\">\n",
       "  <thead>\n",
       "    <tr style=\"text-align: right;\">\n",
       "      <th></th>\n",
       "    </tr>\n",
       "  </thead>\n",
       "  <tbody>\n",
       "  </tbody>\n",
       "</table>\n",
       "</div>"
      ],
      "text/plain": [
       "Empty DataFrame\n",
       "Columns: []\n",
       "Index: []"
      ]
     },
     "execution_count": 174,
     "metadata": {},
     "output_type": "execute_result"
    }
   ],
   "source": [
    "frame = pd.DataFrame()\n",
    "frame"
   ]
  },
  {
   "cell_type": "code",
   "execution_count": 181,
   "metadata": {},
   "outputs": [],
   "source": [
    "response3 = requests.get('https://financialmodelingprep.com/api/v3/financial-ratios/TRV').json()\n",
    "    \n",
    "columns = []\n",
    "\n",
    "columns.append('symbol')\n",
    "\n",
    "columns.append('date')\n",
    "\n",
    "data = []\n",
    "\n",
    "data.append(response3['symbol'])\n",
    "\n",
    "data.append(response3['ratios'][-1]['date'])\n",
    "\n",
    "keys = response3['ratios'][-1]['investmentValuationRatios']\n",
    "for key in keys:\n",
    "    columns.append(key)\n",
    "\n",
    "values = response3['ratios'][-1]['investmentValuationRatios']\n",
    "for value in values:\n",
    "    data.append(values[value])\n",
    "\n",
    "dataframe = pd.DataFrame([data], columns=columns)\n",
    "\n",
    "frame = frame.append(dataframe)"
   ]
  },
  {
   "cell_type": "code",
   "execution_count": 182,
   "metadata": {},
   "outputs": [
    {
     "data": {
      "text/html": [
       "<div>\n",
       "<style scoped>\n",
       "    .dataframe tbody tr th:only-of-type {\n",
       "        vertical-align: middle;\n",
       "    }\n",
       "\n",
       "    .dataframe tbody tr th {\n",
       "        vertical-align: top;\n",
       "    }\n",
       "\n",
       "    .dataframe thead th {\n",
       "        text-align: right;\n",
       "    }\n",
       "</style>\n",
       "<table border=\"1\" class=\"dataframe\">\n",
       "  <thead>\n",
       "    <tr style=\"text-align: right;\">\n",
       "      <th></th>\n",
       "      <th>symbol</th>\n",
       "      <th>date</th>\n",
       "      <th>priceBookValueRatio</th>\n",
       "      <th>priceToBookRatio</th>\n",
       "      <th>priceToSalesRatio</th>\n",
       "      <th>priceEarningsRatio</th>\n",
       "      <th>receivablesTurnover</th>\n",
       "      <th>priceToFreeCashFlowsRatio</th>\n",
       "      <th>priceToOperatingCashFlowsRatio</th>\n",
       "      <th>priceCashFlowRatio</th>\n",
       "      <th>priceEarningsToGrowthRatio</th>\n",
       "      <th>priceSalesRatio</th>\n",
       "      <th>dividendYield</th>\n",
       "      <th>enterpriseValueMultiple</th>\n",
       "      <th>priceFairValue</th>\n",
       "    </tr>\n",
       "  </thead>\n",
       "  <tbody>\n",
       "    <tr>\n",
       "      <th>0</th>\n",
       "      <td>TRV</td>\n",
       "      <td>2009-12-31</td>\n",
       "      <td>0.9719</td>\n",
       "      <td>1.1357</td>\n",
       "      <td>1.1038</td>\n",
       "      <td>7.815</td>\n",
       "      <td>0.9774</td>\n",
       "      <td>6.637</td>\n",
       "      <td>6.4387</td>\n",
       "      <td>0</td>\n",
       "      <td>0</td>\n",
       "      <td>0</td>\n",
       "      <td></td>\n",
       "      <td>0.050068721774985</td>\n",
       "      <td>0</td>\n",
       "    </tr>\n",
       "  </tbody>\n",
       "</table>\n",
       "</div>"
      ],
      "text/plain": [
       "  symbol        date priceBookValueRatio priceToBookRatio priceToSalesRatio  \\\n",
       "0    TRV  2009-12-31              0.9719           1.1357            1.1038   \n",
       "\n",
       "  priceEarningsRatio receivablesTurnover priceToFreeCashFlowsRatio  \\\n",
       "0              7.815              0.9774                     6.637   \n",
       "\n",
       "  priceToOperatingCashFlowsRatio priceCashFlowRatio  \\\n",
       "0                         6.4387                  0   \n",
       "\n",
       "  priceEarningsToGrowthRatio priceSalesRatio dividendYield  \\\n",
       "0                          0               0                 \n",
       "\n",
       "  enterpriseValueMultiple priceFairValue  \n",
       "0       0.050068721774985              0  "
      ]
     },
     "execution_count": 182,
     "metadata": {},
     "output_type": "execute_result"
    }
   ],
   "source": [
    "frame"
   ]
  },
  {
   "cell_type": "code",
   "execution_count": 183,
   "metadata": {},
   "outputs": [],
   "source": [
    "ticker_symbols = ['TRV', 'AAPL']\n",
    "\n",
    "dataframe2 = pd.DataFrame()\n",
    "\n",
    "for ticker in ticker_symbols:\n",
    "    \n",
    "    response3 = requests.get(f'https://financialmodelingprep.com/api/v3/financial-ratios/{ticker}').json()\n",
    "    \n",
    "    columns = []\n",
    "\n",
    "    columns.append('symbol')\n",
    "\n",
    "    columns.append('date')\n",
    "\n",
    "    data = []\n",
    "\n",
    "    data.append(response3['symbol'])\n",
    "\n",
    "    data.append(response3['ratios'][-1]['date'])\n",
    "\n",
    "    keys = response3['ratios'][-1]['investmentValuationRatios']\n",
    "    for key in keys:\n",
    "        columns.append(key)\n",
    "\n",
    "    values = response3['ratios'][-1]['investmentValuationRatios']\n",
    "    for value in values:\n",
    "        data.append(values[value])\n",
    "\n",
    "    dataframe = pd.DataFrame([data], columns=columns)\n",
    "    \n",
    "    dataframe2 = dataframe2.append(dataframe)"
   ]
  },
  {
   "cell_type": "code",
   "execution_count": 184,
   "metadata": {},
   "outputs": [
    {
     "data": {
      "text/html": [
       "<div>\n",
       "<style scoped>\n",
       "    .dataframe tbody tr th:only-of-type {\n",
       "        vertical-align: middle;\n",
       "    }\n",
       "\n",
       "    .dataframe tbody tr th {\n",
       "        vertical-align: top;\n",
       "    }\n",
       "\n",
       "    .dataframe thead th {\n",
       "        text-align: right;\n",
       "    }\n",
       "</style>\n",
       "<table border=\"1\" class=\"dataframe\">\n",
       "  <thead>\n",
       "    <tr style=\"text-align: right;\">\n",
       "      <th></th>\n",
       "      <th>symbol</th>\n",
       "      <th>date</th>\n",
       "      <th>priceBookValueRatio</th>\n",
       "      <th>priceToBookRatio</th>\n",
       "      <th>priceToSalesRatio</th>\n",
       "      <th>priceEarningsRatio</th>\n",
       "      <th>receivablesTurnover</th>\n",
       "      <th>priceToFreeCashFlowsRatio</th>\n",
       "      <th>priceToOperatingCashFlowsRatio</th>\n",
       "      <th>priceCashFlowRatio</th>\n",
       "      <th>priceEarningsToGrowthRatio</th>\n",
       "      <th>priceSalesRatio</th>\n",
       "      <th>dividendYield</th>\n",
       "      <th>enterpriseValueMultiple</th>\n",
       "      <th>priceFairValue</th>\n",
       "    </tr>\n",
       "  </thead>\n",
       "  <tbody>\n",
       "    <tr>\n",
       "      <th>0</th>\n",
       "      <td>TRV</td>\n",
       "      <td>2009-12-31</td>\n",
       "      <td>0.9719</td>\n",
       "      <td>1.1357</td>\n",
       "      <td>1.1038</td>\n",
       "      <td>7.815</td>\n",
       "      <td>0.9774</td>\n",
       "      <td>6.637</td>\n",
       "      <td>6.4387</td>\n",
       "      <td>0</td>\n",
       "      <td>0</td>\n",
       "      <td>0</td>\n",
       "      <td></td>\n",
       "      <td>0.050068721774985</td>\n",
       "      <td>0</td>\n",
       "    </tr>\n",
       "    <tr>\n",
       "      <th>0</th>\n",
       "      <td>AAPL</td>\n",
       "      <td>2009-09-26</td>\n",
       "      <td>5.2835</td>\n",
       "      <td>3.5533</td>\n",
       "      <td>3.8866</td>\n",
       "      <td>20.192</td>\n",
       "      <td>11.4735</td>\n",
       "      <td>18.5821</td>\n",
       "      <td>16.4147</td>\n",
       "      <td>0</td>\n",
       "      <td>0</td>\n",
       "      <td>0</td>\n",
       "      <td></td>\n",
       "      <td>0.411171875</td>\n",
       "      <td>0</td>\n",
       "    </tr>\n",
       "  </tbody>\n",
       "</table>\n",
       "</div>"
      ],
      "text/plain": [
       "  symbol        date priceBookValueRatio priceToBookRatio priceToSalesRatio  \\\n",
       "0    TRV  2009-12-31              0.9719           1.1357            1.1038   \n",
       "0   AAPL  2009-09-26              5.2835           3.5533            3.8866   \n",
       "\n",
       "  priceEarningsRatio receivablesTurnover priceToFreeCashFlowsRatio  \\\n",
       "0              7.815              0.9774                     6.637   \n",
       "0             20.192             11.4735                   18.5821   \n",
       "\n",
       "  priceToOperatingCashFlowsRatio priceCashFlowRatio  \\\n",
       "0                         6.4387                  0   \n",
       "0                        16.4147                  0   \n",
       "\n",
       "  priceEarningsToGrowthRatio priceSalesRatio dividendYield  \\\n",
       "0                          0               0                 \n",
       "0                          0               0                 \n",
       "\n",
       "  enterpriseValueMultiple priceFairValue  \n",
       "0       0.050068721774985              0  \n",
       "0             0.411171875              0  "
      ]
     },
     "execution_count": 184,
     "metadata": {},
     "output_type": "execute_result"
    }
   ],
   "source": [
    "dataframe2"
   ]
  },
  {
   "cell_type": "code",
   "execution_count": null,
   "metadata": {},
   "outputs": [],
   "source": [
    " else:\n",
    "        \n",
    "        columns = []\n",
    "\n",
    "        columns.append('symbol')\n",
    "\n",
    "        columns.append('date')\n",
    "\n",
    "        data = []\n",
    "\n",
    "        data.append(response3['symbol'])\n",
    "\n",
    "        data.append(response3['ratios'][-1]['date'])\n",
    "\n",
    "        keys = response3['ratios'][-1]['investmentValuationRatios']\n",
    "        for key in keys:\n",
    "            columns.append(key)\n",
    "\n",
    "        values = response3['ratios'][-1]['investmentValuationRatios']\n",
    "        for value in values:\n",
    "            data.append(values[value])\n",
    "\n",
    "        trv_df = pd.DataFrame([data], columns=columns)\n",
    "\n",
    "        dataframe.append(trv_df)"
   ]
  }
 ],
 "metadata": {
  "kernelspec": {
   "display_name": "Python 3",
   "language": "python",
   "name": "python3"
  },
  "language_info": {
   "codemirror_mode": {
    "name": "ipython",
    "version": 3
   },
   "file_extension": ".py",
   "mimetype": "text/x-python",
   "name": "python",
   "nbconvert_exporter": "python",
   "pygments_lexer": "ipython3",
   "version": "3.7.3"
  }
 },
 "nbformat": 4,
 "nbformat_minor": 2
}
