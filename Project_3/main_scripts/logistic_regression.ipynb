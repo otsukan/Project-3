{
 "cells": [
  {
   "cell_type": "code",
   "execution_count": 1,
   "metadata": {},
   "outputs": [],
   "source": [
    "# importing necessary modules.\n",
    "import pandas as pd\n",
    "from sqlalchemy import create_engine\n",
    "import numpy as np\n",
    "import matplotlib.pyplot as plt\n",
    "import config9 as cfg"
   ]
  },
  {
   "cell_type": "code",
   "execution_count": 2,
   "metadata": {},
   "outputs": [],
   "source": [
    "# saving a postgress password and database name to variables to access postgres sql optimal portfolio database.\n",
    "postgres_password = cfg.password\n",
    "database_name = 'optimal_portfolio'"
   ]
  },
  {
   "cell_type": "code",
   "execution_count": 3,
   "metadata": {},
   "outputs": [],
   "source": [
    "# creating a connection to postgres database.\n",
    "rds_connection_string = f'postgres:{postgres_password}@localhost:5432/{database_name}'\n",
    "engine = create_engine(f'postgres://{rds_connection_string}')"
   ]
  },
  {
   "cell_type": "code",
   "execution_count": 4,
   "metadata": {},
   "outputs": [
    {
     "data": {
      "text/plain": [
       "['sandp']"
      ]
     },
     "execution_count": 4,
     "metadata": {},
     "output_type": "execute_result"
    }
   ],
   "source": [
    "# checking out the table names in the database.\n",
    "engine.table_names()"
   ]
  },
  {
   "cell_type": "code",
   "execution_count": 5,
   "metadata": {},
   "outputs": [
    {
     "data": {
      "text/html": [
       "<div>\n",
       "<style scoped>\n",
       "    .dataframe tbody tr th:only-of-type {\n",
       "        vertical-align: middle;\n",
       "    }\n",
       "\n",
       "    .dataframe tbody tr th {\n",
       "        vertical-align: top;\n",
       "    }\n",
       "\n",
       "    .dataframe thead th {\n",
       "        text-align: right;\n",
       "    }\n",
       "</style>\n",
       "<table border=\"1\" class=\"dataframe\">\n",
       "  <thead>\n",
       "    <tr style=\"text-align: right;\">\n",
       "      <th></th>\n",
       "      <th>symbol</th>\n",
       "      <th>name</th>\n",
       "      <th>price_to_bookvalue</th>\n",
       "      <th>price_to_book</th>\n",
       "      <th>price_to_sales</th>\n",
       "      <th>price_to_earnings</th>\n",
       "      <th>receivables_turnover</th>\n",
       "      <th>price_to_free_cash_flow</th>\n",
       "      <th>price_to_operating_cash_flow</th>\n",
       "      <th>enterprise_value_multiple</th>\n",
       "      <th>...</th>\n",
       "      <th>inventory_growth</th>\n",
       "      <th>asset_growth</th>\n",
       "      <th>book_value_per_share_growth</th>\n",
       "      <th>debt_growth</th>\n",
       "      <th>randd_expense_growth</th>\n",
       "      <th>sganda_expense_growth</th>\n",
       "      <th>percent_return_on_investment</th>\n",
       "      <th>industry</th>\n",
       "      <th>sector</th>\n",
       "      <th>above_below_sandp_return</th>\n",
       "    </tr>\n",
       "  </thead>\n",
       "  <tbody>\n",
       "    <tr>\n",
       "      <th>0</th>\n",
       "      <td>A</td>\n",
       "      <td>Agilent Technologies, Inc.</td>\n",
       "      <td>2.55170</td>\n",
       "      <td>5.17165</td>\n",
       "      <td>1.48130</td>\n",
       "      <td>6.30885</td>\n",
       "      <td>7.0014</td>\n",
       "      <td>18.1807</td>\n",
       "      <td>13.57995</td>\n",
       "      <td>16.746223</td>\n",
       "      <td>...</td>\n",
       "      <td>0.0758</td>\n",
       "      <td>0.18005</td>\n",
       "      <td>0.15185</td>\n",
       "      <td>0.31885</td>\n",
       "      <td>-0.0674</td>\n",
       "      <td>0.01880</td>\n",
       "      <td>215.407785</td>\n",
       "      <td>Medical Diagnostics &amp; Research</td>\n",
       "      <td>Healthcare</td>\n",
       "      <td>0</td>\n",
       "    </tr>\n",
       "    <tr>\n",
       "      <th>1</th>\n",
       "      <td>AAL</td>\n",
       "      <td>American Airlines Group, Inc.</td>\n",
       "      <td>-99.00000</td>\n",
       "      <td>-99.00000</td>\n",
       "      <td>0.11565</td>\n",
       "      <td>-99.00000</td>\n",
       "      <td>27.3348</td>\n",
       "      <td>-99.0000</td>\n",
       "      <td>2.20925</td>\n",
       "      <td>61.812855</td>\n",
       "      <td>...</td>\n",
       "      <td>0.0637</td>\n",
       "      <td>-0.00170</td>\n",
       "      <td>-0.06235</td>\n",
       "      <td>0.00975</td>\n",
       "      <td>-99.0000</td>\n",
       "      <td>0.01435</td>\n",
       "      <td>492.976589</td>\n",
       "      <td>Airlines</td>\n",
       "      <td>Industrials</td>\n",
       "      <td>1</td>\n",
       "    </tr>\n",
       "    <tr>\n",
       "      <th>2</th>\n",
       "      <td>AAP</td>\n",
       "      <td>Advance Auto Parts, Inc.</td>\n",
       "      <td>2.95660</td>\n",
       "      <td>3.10380</td>\n",
       "      <td>0.70600</td>\n",
       "      <td>14.16840</td>\n",
       "      <td>57.0461</td>\n",
       "      <td>7.4185</td>\n",
       "      <td>5.46130</td>\n",
       "      <td>0.499984</td>\n",
       "      <td>...</td>\n",
       "      <td>0.0054</td>\n",
       "      <td>0.03670</td>\n",
       "      <td>0.19520</td>\n",
       "      <td>-0.57150</td>\n",
       "      <td>-99.0000</td>\n",
       "      <td>0.10360</td>\n",
       "      <td>158.290852</td>\n",
       "      <td>Retail - Apparel &amp; Specialty</td>\n",
       "      <td>Consumer Cyclical</td>\n",
       "      <td>0</td>\n",
       "    </tr>\n",
       "    <tr>\n",
       "      <th>3</th>\n",
       "      <td>AAPL</td>\n",
       "      <td>Apple, Inc.</td>\n",
       "      <td>5.42765</td>\n",
       "      <td>4.62715</td>\n",
       "      <td>3.98235</td>\n",
       "      <td>19.54495</td>\n",
       "      <td>10.0906</td>\n",
       "      <td>17.3279</td>\n",
       "      <td>15.35960</td>\n",
       "      <td>0.493341</td>\n",
       "      <td>...</td>\n",
       "      <td>0.6019</td>\n",
       "      <td>0.44800</td>\n",
       "      <td>0.44245</td>\n",
       "      <td>-99.00000</td>\n",
       "      <td>0.2694</td>\n",
       "      <td>0.21645</td>\n",
       "      <td>641.441749</td>\n",
       "      <td>Computer Hardware</td>\n",
       "      <td>Technology</td>\n",
       "      <td>1</td>\n",
       "    </tr>\n",
       "    <tr>\n",
       "      <th>4</th>\n",
       "      <td>ABBV</td>\n",
       "      <td>AbbVie, Inc.</td>\n",
       "      <td>16.46870</td>\n",
       "      <td>-99.00000</td>\n",
       "      <td>3.01900</td>\n",
       "      <td>10.48360</td>\n",
       "      <td>-99.0000</td>\n",
       "      <td>9.2123</td>\n",
       "      <td>8.74540</td>\n",
       "      <td>0.001609</td>\n",
       "      <td>...</td>\n",
       "      <td>-99.0000</td>\n",
       "      <td>-99.00000</td>\n",
       "      <td>-99.00000</td>\n",
       "      <td>-99.00000</td>\n",
       "      <td>0.4613</td>\n",
       "      <td>0.14080</td>\n",
       "      <td>127.493713</td>\n",
       "      <td>Drug Manufacturers</td>\n",
       "      <td>Healthcare</td>\n",
       "      <td>0</td>\n",
       "    </tr>\n",
       "  </tbody>\n",
       "</table>\n",
       "<p>5 rows × 84 columns</p>\n",
       "</div>"
      ],
      "text/plain": [
       "  symbol                           name  price_to_bookvalue  price_to_book  \\\n",
       "0      A     Agilent Technologies, Inc.             2.55170        5.17165   \n",
       "1    AAL  American Airlines Group, Inc.           -99.00000      -99.00000   \n",
       "2    AAP       Advance Auto Parts, Inc.             2.95660        3.10380   \n",
       "3   AAPL                    Apple, Inc.             5.42765        4.62715   \n",
       "4   ABBV                   AbbVie, Inc.            16.46870      -99.00000   \n",
       "\n",
       "   price_to_sales  price_to_earnings  receivables_turnover  \\\n",
       "0         1.48130            6.30885                7.0014   \n",
       "1         0.11565          -99.00000               27.3348   \n",
       "2         0.70600           14.16840               57.0461   \n",
       "3         3.98235           19.54495               10.0906   \n",
       "4         3.01900           10.48360              -99.0000   \n",
       "\n",
       "   price_to_free_cash_flow  price_to_operating_cash_flow  \\\n",
       "0                  18.1807                      13.57995   \n",
       "1                 -99.0000                       2.20925   \n",
       "2                   7.4185                       5.46130   \n",
       "3                  17.3279                      15.35960   \n",
       "4                   9.2123                       8.74540   \n",
       "\n",
       "   enterprise_value_multiple  ...  inventory_growth  asset_growth  \\\n",
       "0                  16.746223  ...            0.0758       0.18005   \n",
       "1                  61.812855  ...            0.0637      -0.00170   \n",
       "2                   0.499984  ...            0.0054       0.03670   \n",
       "3                   0.493341  ...            0.6019       0.44800   \n",
       "4                   0.001609  ...          -99.0000     -99.00000   \n",
       "\n",
       "   book_value_per_share_growth  debt_growth  randd_expense_growth  \\\n",
       "0                      0.15185      0.31885               -0.0674   \n",
       "1                     -0.06235      0.00975              -99.0000   \n",
       "2                      0.19520     -0.57150              -99.0000   \n",
       "3                      0.44245    -99.00000                0.2694   \n",
       "4                    -99.00000    -99.00000                0.4613   \n",
       "\n",
       "   sganda_expense_growth  percent_return_on_investment  \\\n",
       "0                0.01880                    215.407785   \n",
       "1                0.01435                    492.976589   \n",
       "2                0.10360                    158.290852   \n",
       "3                0.21645                    641.441749   \n",
       "4                0.14080                    127.493713   \n",
       "\n",
       "                         industry             sector  above_below_sandp_return  \n",
       "0  Medical Diagnostics & Research         Healthcare                         0  \n",
       "1                        Airlines        Industrials                         1  \n",
       "2    Retail - Apparel & Specialty  Consumer Cyclical                         0  \n",
       "3               Computer Hardware         Technology                         1  \n",
       "4              Drug Manufacturers         Healthcare                         0  \n",
       "\n",
       "[5 rows x 84 columns]"
      ]
     },
     "execution_count": 5,
     "metadata": {},
     "output_type": "execute_result"
    }
   ],
   "source": [
    "# checking out the SandP_500 table.\n",
    "sandp = pd.read_sql_query('SELECT * FROM sandp', con=engine)\n",
    "sandp.head()"
   ]
  },
  {
   "cell_type": "code",
   "execution_count": 6,
   "metadata": {},
   "outputs": [],
   "source": [
    "# converting industry columns into 1's and 0's.\n",
    "industry = pd.get_dummies(sandp['industry'])"
   ]
  },
  {
   "cell_type": "code",
   "execution_count": 7,
   "metadata": {},
   "outputs": [],
   "source": [
    "# converting sector columns into 1's and 0's.\n",
    "sector = pd.get_dummies(sandp['sector'])"
   ]
  },
  {
   "cell_type": "code",
   "execution_count": 8,
   "metadata": {},
   "outputs": [],
   "source": [
    "# bringing everything together.\n",
    "sandp = pd.concat([sandp, industry, sector], axis=1)"
   ]
  },
  {
   "cell_type": "code",
   "execution_count": 9,
   "metadata": {},
   "outputs": [],
   "source": [
    "# dropping industry and sector columns.\n",
    "sandp.drop(['industry', 'sector'], axis=1, inplace=True)"
   ]
  },
  {
   "cell_type": "code",
   "execution_count": 10,
   "metadata": {},
   "outputs": [],
   "source": [
    "# dropping the symbol and name columns.\n",
    "sandp = sandp.drop(columns=['symbol', 'name'])"
   ]
  },
  {
   "cell_type": "code",
   "execution_count": 11,
   "metadata": {},
   "outputs": [],
   "source": [
    "# dropping percent_return on investment column.\n",
    "sandp.drop(['percent_return_on_investment'], axis=1, inplace=True)"
   ]
  },
  {
   "cell_type": "code",
   "execution_count": 12,
   "metadata": {},
   "outputs": [],
   "source": [
    "# looping through the columns to find to be able to view all the column names.\n",
    "names = []\n",
    "for x in sandp.columns:\n",
    "    names.append(x)"
   ]
  },
  {
   "cell_type": "code",
   "execution_count": 13,
   "metadata": {},
   "outputs": [],
   "source": [
    "# setting an sandp dataframe with just the predictor feature columns to a variable.\n",
    "X = sandp[['net_income_growth','short_term_coverage_ratio','eps_diluted_growth', 'gross_profit_margin', 'price_to_book', 'price_to_sales', 'price_to_free_cash_flow', 'asset_growth', 'Airlines',\n",
    "'Computer Hardware','Drug Manufacturers', 'Medical Devices','Application Software', 'Semiconductors','Consumer Packaged Goods', \n",
    "'Business Services', 'Credit Services','Utilities - Regulated', 'Insurance - Life', 'REITs','Brokers & Exchanges','Biotechnology',\n",
    "'Asset Management', 'Online Media','Oil & Gas - E&P','Autos', 'Banks', 'Travel & Leisure', 'Entertainment','Agriculture',\n",
    "'Transportation & Logistics','Oil & Gas - Integrated','Industrial Distribution','Metals & Mining','Oil & Gas - Services',\n",
    "'Personal Services','Engineering & Construction', 'Oil & Gas - Midstream','Beverages - Non-Alcoholic', 'Truck Manufacturing', \n",
    "'Employment Services', 'Forest Products']]\n",
    "\n",
    "# setting the above_below_sandp_return column of 0's and 1's that represent if a stock beat the sandp return as a variable, which is the variable we want to predict in our upcoming machine learning module.\n",
    "target = sandp['above_below_sandp_return']"
   ]
  },
  {
   "cell_type": "code",
   "execution_count": 14,
   "metadata": {},
   "outputs": [],
   "source": [
    "# splitting the 468 stocks/rows in our sandp dataframe into a training set and a testing set. \n",
    "from sklearn.model_selection import train_test_split\n",
    "X_train, X_test, target_train, target_test = train_test_split(X, target, random_state=76)"
   ]
  },
  {
   "cell_type": "code",
   "execution_count": 15,
   "metadata": {},
   "outputs": [
    {
     "data": {
      "text/plain": [
       "LogisticRegression(C=1.0, class_weight=None, dual=False, fit_intercept=True,\n",
       "                   intercept_scaling=1, l1_ratio=None, max_iter=100,\n",
       "                   multi_class='warn', n_jobs=None, penalty='l2',\n",
       "                   random_state=None, solver='warn', tol=0.0001, verbose=0,\n",
       "                   warm_start=False)"
      ]
     },
     "execution_count": 15,
     "metadata": {},
     "output_type": "execute_result"
    }
   ],
   "source": [
    "# creating a logistic regression model and saving it as a variable called classifier.\n",
    "from sklearn.linear_model import LogisticRegression\n",
    "classifier = LogisticRegression()\n",
    "classifier"
   ]
  },
  {
   "cell_type": "code",
   "execution_count": 16,
   "metadata": {},
   "outputs": [
    {
     "name": "stderr",
     "output_type": "stream",
     "text": [
      "C:\\Users\\natha\\Anaconda3\\lib\\site-packages\\sklearn\\linear_model\\logistic.py:432: FutureWarning: Default solver will be changed to 'lbfgs' in 0.22. Specify a solver to silence this warning.\n",
      "  FutureWarning)\n"
     ]
    },
    {
     "data": {
      "text/plain": [
       "LogisticRegression(C=1.0, class_weight=None, dual=False, fit_intercept=True,\n",
       "                   intercept_scaling=1, l1_ratio=None, max_iter=100,\n",
       "                   multi_class='warn', n_jobs=None, penalty='l2',\n",
       "                   random_state=None, solver='warn', tol=0.0001, verbose=0,\n",
       "                   warm_start=False)"
      ]
     },
     "execution_count": 16,
     "metadata": {},
     "output_type": "execute_result"
    }
   ],
   "source": [
    "# fitting/training the logsitic regression model on the training data.\n",
    "classifier.fit(X_train, target_train)"
   ]
  },
  {
   "cell_type": "code",
   "execution_count": 17,
   "metadata": {},
   "outputs": [
    {
     "name": "stdout",
     "output_type": "stream",
     "text": [
      "Training Data Score: 0.7150997150997151\n",
      "Testing Data Score: 0.7521367521367521\n"
     ]
    }
   ],
   "source": [
    "# viewing the accuracy of the logistic regression model on the training and testing data.\n",
    "print(f'Training Data Score: {classifier.score(X_train, target_train)}')\n",
    "print(f'Testing Data Score: {classifier.score(X_test, target_test)}')"
   ]
  },
  {
   "cell_type": "code",
   "execution_count": 18,
   "metadata": {},
   "outputs": [
    {
     "data": {
      "text/html": [
       "<div>\n",
       "<style scoped>\n",
       "    .dataframe tbody tr th:only-of-type {\n",
       "        vertical-align: middle;\n",
       "    }\n",
       "\n",
       "    .dataframe tbody tr th {\n",
       "        vertical-align: top;\n",
       "    }\n",
       "\n",
       "    .dataframe thead th {\n",
       "        text-align: right;\n",
       "    }\n",
       "</style>\n",
       "<table border=\"1\" class=\"dataframe\">\n",
       "  <thead>\n",
       "    <tr style=\"text-align: right;\">\n",
       "      <th></th>\n",
       "      <th>Prediction</th>\n",
       "      <th>Actual</th>\n",
       "    </tr>\n",
       "  </thead>\n",
       "  <tbody>\n",
       "    <tr>\n",
       "      <th>0</th>\n",
       "      <td>1</td>\n",
       "      <td>1</td>\n",
       "    </tr>\n",
       "    <tr>\n",
       "      <th>1</th>\n",
       "      <td>0</td>\n",
       "      <td>0</td>\n",
       "    </tr>\n",
       "    <tr>\n",
       "      <th>2</th>\n",
       "      <td>1</td>\n",
       "      <td>1</td>\n",
       "    </tr>\n",
       "    <tr>\n",
       "      <th>3</th>\n",
       "      <td>1</td>\n",
       "      <td>1</td>\n",
       "    </tr>\n",
       "    <tr>\n",
       "      <th>4</th>\n",
       "      <td>0</td>\n",
       "      <td>0</td>\n",
       "    </tr>\n",
       "  </tbody>\n",
       "</table>\n",
       "</div>"
      ],
      "text/plain": [
       "   Prediction  Actual\n",
       "0           1       1\n",
       "1           0       0\n",
       "2           1       1\n",
       "3           1       1\n",
       "4           0       0"
      ]
     },
     "execution_count": 18,
     "metadata": {},
     "output_type": "execute_result"
    }
   ],
   "source": [
    "# applying the model to the testing data and viewing the results.\n",
    "predictions = classifier.predict(X_test)\n",
    "pd.DataFrame({'Prediction': predictions, 'Actual': target_test}).reset_index(drop=True).head()"
   ]
  },
  {
   "cell_type": "code",
   "execution_count": 19,
   "metadata": {},
   "outputs": [
    {
     "data": {
      "text/plain": [
       "0    80\n",
       "1    37\n",
       "Name: above_below_sandp_return, dtype: int64"
      ]
     },
     "execution_count": 19,
     "metadata": {},
     "output_type": "execute_result"
    }
   ],
   "source": [
    "# viewing the distribution of the testing data's 0's and 1's.\n",
    "target_test.value_counts()"
   ]
  },
  {
   "cell_type": "code",
   "execution_count": 20,
   "metadata": {},
   "outputs": [
    {
     "data": {
      "text/plain": [
       "0.3162393162393162"
      ]
     },
     "execution_count": 20,
     "metadata": {},
     "output_type": "execute_result"
    }
   ],
   "source": [
    "# calculating the mean of the testing data, so we can compare it to the machine learning models accurac. If the accuracy is above the mean, it means we are doing better than just randomly choosing all 1's.\n",
    "target_test.mean()"
   ]
  },
  {
   "cell_type": "code",
   "execution_count": 21,
   "metadata": {},
   "outputs": [
    {
     "name": "stdout",
     "output_type": "stream",
     "text": [
      "              precision    recall  f1-score   support\n",
      "\n",
      "           0       0.78      0.89      0.83        80\n",
      "           1       0.65      0.46      0.54        37\n",
      "\n",
      "    accuracy                           0.75       117\n",
      "   macro avg       0.72      0.67      0.69       117\n",
      "weighted avg       0.74      0.75      0.74       117\n",
      "\n"
     ]
    }
   ],
   "source": [
    "# viewing the overal report card of our logistic regression model.\n",
    "from sklearn.metrics import classification_report\n",
    "print(classification_report(target_test, predictions))"
   ]
  },
  {
   "cell_type": "code",
   "execution_count": 22,
   "metadata": {},
   "outputs": [
    {
     "data": {
      "text/html": [
       "<div>\n",
       "<style scoped>\n",
       "    .dataframe tbody tr th:only-of-type {\n",
       "        vertical-align: middle;\n",
       "    }\n",
       "\n",
       "    .dataframe tbody tr th {\n",
       "        vertical-align: top;\n",
       "    }\n",
       "\n",
       "    .dataframe thead th {\n",
       "        text-align: right;\n",
       "    }\n",
       "</style>\n",
       "<table border=\"1\" class=\"dataframe\">\n",
       "  <thead>\n",
       "    <tr style=\"text-align: right;\">\n",
       "      <th></th>\n",
       "      <th>Prediction</th>\n",
       "      <th>Actual</th>\n",
       "    </tr>\n",
       "  </thead>\n",
       "  <tbody>\n",
       "    <tr>\n",
       "      <th>0</th>\n",
       "      <td>0</td>\n",
       "      <td>0</td>\n",
       "    </tr>\n",
       "    <tr>\n",
       "      <th>1</th>\n",
       "      <td>1</td>\n",
       "      <td>1</td>\n",
       "    </tr>\n",
       "    <tr>\n",
       "      <th>2</th>\n",
       "      <td>1</td>\n",
       "      <td>0</td>\n",
       "    </tr>\n",
       "    <tr>\n",
       "      <th>3</th>\n",
       "      <td>0</td>\n",
       "      <td>1</td>\n",
       "    </tr>\n",
       "    <tr>\n",
       "      <th>4</th>\n",
       "      <td>0</td>\n",
       "      <td>0</td>\n",
       "    </tr>\n",
       "  </tbody>\n",
       "</table>\n",
       "</div>"
      ],
      "text/plain": [
       "   Prediction  Actual\n",
       "0           0       0\n",
       "1           1       1\n",
       "2           1       0\n",
       "3           0       1\n",
       "4           0       0"
      ]
     },
     "execution_count": 22,
     "metadata": {},
     "output_type": "execute_result"
    }
   ],
   "source": [
    "# applying our machine learning model on the whole sandp/468 stocks to get a predicted list of 0's and 1's.\n",
    "predictions2 = classifier.predict(X)\n",
    "# viewing results.\n",
    "pd.DataFrame({'Prediction': predictions2, 'Actual': target}).reset_index(drop=True).head()"
   ]
  },
  {
   "cell_type": "code",
   "execution_count": 23,
   "metadata": {},
   "outputs": [
    {
     "data": {
      "text/html": [
       "<div>\n",
       "<style scoped>\n",
       "    .dataframe tbody tr th:only-of-type {\n",
       "        vertical-align: middle;\n",
       "    }\n",
       "\n",
       "    .dataframe tbody tr th {\n",
       "        vertical-align: top;\n",
       "    }\n",
       "\n",
       "    .dataframe thead th {\n",
       "        text-align: right;\n",
       "    }\n",
       "</style>\n",
       "<table border=\"1\" class=\"dataframe\">\n",
       "  <thead>\n",
       "    <tr style=\"text-align: right;\">\n",
       "      <th></th>\n",
       "      <th>symbol</th>\n",
       "      <th>name</th>\n",
       "      <th>price_to_bookvalue</th>\n",
       "      <th>price_to_book</th>\n",
       "      <th>price_to_sales</th>\n",
       "      <th>price_to_earnings</th>\n",
       "      <th>receivables_turnover</th>\n",
       "      <th>price_to_free_cash_flow</th>\n",
       "      <th>price_to_operating_cash_flow</th>\n",
       "      <th>enterprise_value_multiple</th>\n",
       "      <th>...</th>\n",
       "      <th>inventory_growth</th>\n",
       "      <th>asset_growth</th>\n",
       "      <th>book_value_per_share_growth</th>\n",
       "      <th>debt_growth</th>\n",
       "      <th>randd_expense_growth</th>\n",
       "      <th>sganda_expense_growth</th>\n",
       "      <th>percent_return_on_investment</th>\n",
       "      <th>industry</th>\n",
       "      <th>sector</th>\n",
       "      <th>above_below_sandp_return</th>\n",
       "    </tr>\n",
       "  </thead>\n",
       "  <tbody>\n",
       "    <tr>\n",
       "      <th>0</th>\n",
       "      <td>A</td>\n",
       "      <td>Agilent Technologies, Inc.</td>\n",
       "      <td>2.55170</td>\n",
       "      <td>5.17165</td>\n",
       "      <td>1.48130</td>\n",
       "      <td>6.30885</td>\n",
       "      <td>7.0014</td>\n",
       "      <td>18.1807</td>\n",
       "      <td>13.57995</td>\n",
       "      <td>16.746223</td>\n",
       "      <td>...</td>\n",
       "      <td>0.0758</td>\n",
       "      <td>0.18005</td>\n",
       "      <td>0.15185</td>\n",
       "      <td>0.31885</td>\n",
       "      <td>-0.0674</td>\n",
       "      <td>0.01880</td>\n",
       "      <td>215.407785</td>\n",
       "      <td>Medical Diagnostics &amp; Research</td>\n",
       "      <td>Healthcare</td>\n",
       "      <td>0</td>\n",
       "    </tr>\n",
       "    <tr>\n",
       "      <th>1</th>\n",
       "      <td>AAL</td>\n",
       "      <td>American Airlines Group, Inc.</td>\n",
       "      <td>-99.00000</td>\n",
       "      <td>-99.00000</td>\n",
       "      <td>0.11565</td>\n",
       "      <td>-99.00000</td>\n",
       "      <td>27.3348</td>\n",
       "      <td>-99.0000</td>\n",
       "      <td>2.20925</td>\n",
       "      <td>61.812855</td>\n",
       "      <td>...</td>\n",
       "      <td>0.0637</td>\n",
       "      <td>-0.00170</td>\n",
       "      <td>-0.06235</td>\n",
       "      <td>0.00975</td>\n",
       "      <td>-99.0000</td>\n",
       "      <td>0.01435</td>\n",
       "      <td>492.976589</td>\n",
       "      <td>Airlines</td>\n",
       "      <td>Industrials</td>\n",
       "      <td>1</td>\n",
       "    </tr>\n",
       "    <tr>\n",
       "      <th>2</th>\n",
       "      <td>AAP</td>\n",
       "      <td>Advance Auto Parts, Inc.</td>\n",
       "      <td>2.95660</td>\n",
       "      <td>3.10380</td>\n",
       "      <td>0.70600</td>\n",
       "      <td>14.16840</td>\n",
       "      <td>57.0461</td>\n",
       "      <td>7.4185</td>\n",
       "      <td>5.46130</td>\n",
       "      <td>0.499984</td>\n",
       "      <td>...</td>\n",
       "      <td>0.0054</td>\n",
       "      <td>0.03670</td>\n",
       "      <td>0.19520</td>\n",
       "      <td>-0.57150</td>\n",
       "      <td>-99.0000</td>\n",
       "      <td>0.10360</td>\n",
       "      <td>158.290852</td>\n",
       "      <td>Retail - Apparel &amp; Specialty</td>\n",
       "      <td>Consumer Cyclical</td>\n",
       "      <td>0</td>\n",
       "    </tr>\n",
       "    <tr>\n",
       "      <th>3</th>\n",
       "      <td>AAPL</td>\n",
       "      <td>Apple, Inc.</td>\n",
       "      <td>5.42765</td>\n",
       "      <td>4.62715</td>\n",
       "      <td>3.98235</td>\n",
       "      <td>19.54495</td>\n",
       "      <td>10.0906</td>\n",
       "      <td>17.3279</td>\n",
       "      <td>15.35960</td>\n",
       "      <td>0.493341</td>\n",
       "      <td>...</td>\n",
       "      <td>0.6019</td>\n",
       "      <td>0.44800</td>\n",
       "      <td>0.44245</td>\n",
       "      <td>-99.00000</td>\n",
       "      <td>0.2694</td>\n",
       "      <td>0.21645</td>\n",
       "      <td>641.441749</td>\n",
       "      <td>Computer Hardware</td>\n",
       "      <td>Technology</td>\n",
       "      <td>1</td>\n",
       "    </tr>\n",
       "    <tr>\n",
       "      <th>4</th>\n",
       "      <td>ABBV</td>\n",
       "      <td>AbbVie, Inc.</td>\n",
       "      <td>16.46870</td>\n",
       "      <td>-99.00000</td>\n",
       "      <td>3.01900</td>\n",
       "      <td>10.48360</td>\n",
       "      <td>-99.0000</td>\n",
       "      <td>9.2123</td>\n",
       "      <td>8.74540</td>\n",
       "      <td>0.001609</td>\n",
       "      <td>...</td>\n",
       "      <td>-99.0000</td>\n",
       "      <td>-99.00000</td>\n",
       "      <td>-99.00000</td>\n",
       "      <td>-99.00000</td>\n",
       "      <td>0.4613</td>\n",
       "      <td>0.14080</td>\n",
       "      <td>127.493713</td>\n",
       "      <td>Drug Manufacturers</td>\n",
       "      <td>Healthcare</td>\n",
       "      <td>0</td>\n",
       "    </tr>\n",
       "  </tbody>\n",
       "</table>\n",
       "<p>5 rows × 84 columns</p>\n",
       "</div>"
      ],
      "text/plain": [
       "  symbol                           name  price_to_bookvalue  price_to_book  \\\n",
       "0      A     Agilent Technologies, Inc.             2.55170        5.17165   \n",
       "1    AAL  American Airlines Group, Inc.           -99.00000      -99.00000   \n",
       "2    AAP       Advance Auto Parts, Inc.             2.95660        3.10380   \n",
       "3   AAPL                    Apple, Inc.             5.42765        4.62715   \n",
       "4   ABBV                   AbbVie, Inc.            16.46870      -99.00000   \n",
       "\n",
       "   price_to_sales  price_to_earnings  receivables_turnover  \\\n",
       "0         1.48130            6.30885                7.0014   \n",
       "1         0.11565          -99.00000               27.3348   \n",
       "2         0.70600           14.16840               57.0461   \n",
       "3         3.98235           19.54495               10.0906   \n",
       "4         3.01900           10.48360              -99.0000   \n",
       "\n",
       "   price_to_free_cash_flow  price_to_operating_cash_flow  \\\n",
       "0                  18.1807                      13.57995   \n",
       "1                 -99.0000                       2.20925   \n",
       "2                   7.4185                       5.46130   \n",
       "3                  17.3279                      15.35960   \n",
       "4                   9.2123                       8.74540   \n",
       "\n",
       "   enterprise_value_multiple  ...  inventory_growth  asset_growth  \\\n",
       "0                  16.746223  ...            0.0758       0.18005   \n",
       "1                  61.812855  ...            0.0637      -0.00170   \n",
       "2                   0.499984  ...            0.0054       0.03670   \n",
       "3                   0.493341  ...            0.6019       0.44800   \n",
       "4                   0.001609  ...          -99.0000     -99.00000   \n",
       "\n",
       "   book_value_per_share_growth  debt_growth  randd_expense_growth  \\\n",
       "0                      0.15185      0.31885               -0.0674   \n",
       "1                     -0.06235      0.00975              -99.0000   \n",
       "2                      0.19520     -0.57150              -99.0000   \n",
       "3                      0.44245    -99.00000                0.2694   \n",
       "4                    -99.00000    -99.00000                0.4613   \n",
       "\n",
       "   sganda_expense_growth  percent_return_on_investment  \\\n",
       "0                0.01880                    215.407785   \n",
       "1                0.01435                    492.976589   \n",
       "2                0.10360                    158.290852   \n",
       "3                0.21645                    641.441749   \n",
       "4                0.14080                    127.493713   \n",
       "\n",
       "                         industry             sector  above_below_sandp_return  \n",
       "0  Medical Diagnostics & Research         Healthcare                         0  \n",
       "1                        Airlines        Industrials                         1  \n",
       "2    Retail - Apparel & Specialty  Consumer Cyclical                         0  \n",
       "3               Computer Hardware         Technology                         1  \n",
       "4              Drug Manufacturers         Healthcare                         0  \n",
       "\n",
       "[5 rows x 84 columns]"
      ]
     },
     "execution_count": 23,
     "metadata": {},
     "output_type": "execute_result"
    }
   ],
   "source": [
    "# reading in the SandP_500 table from our postgress sql database.\n",
    "sandp = pd.read_sql_query('SELECT * FROM sandp', con=engine)\n",
    "sandp.head()"
   ]
  },
  {
   "cell_type": "code",
   "execution_count": 24,
   "metadata": {},
   "outputs": [],
   "source": [
    "# refining the sandp dataframe.\n",
    "sandp = sandp[['name', 'percent_return_on_investment', 'above_below_sandp_return']]"
   ]
  },
  {
   "cell_type": "code",
   "execution_count": 25,
   "metadata": {},
   "outputs": [
    {
     "data": {
      "text/html": [
       "<div>\n",
       "<style scoped>\n",
       "    .dataframe tbody tr th:only-of-type {\n",
       "        vertical-align: middle;\n",
       "    }\n",
       "\n",
       "    .dataframe tbody tr th {\n",
       "        vertical-align: top;\n",
       "    }\n",
       "\n",
       "    .dataframe thead th {\n",
       "        text-align: right;\n",
       "    }\n",
       "</style>\n",
       "<table border=\"1\" class=\"dataframe\">\n",
       "  <thead>\n",
       "    <tr style=\"text-align: right;\">\n",
       "      <th></th>\n",
       "      <th>name</th>\n",
       "      <th>percent_return_on_investment</th>\n",
       "      <th>above_below_sandp_return</th>\n",
       "    </tr>\n",
       "  </thead>\n",
       "  <tbody>\n",
       "    <tr>\n",
       "      <th>0</th>\n",
       "      <td>Agilent Technologies, Inc.</td>\n",
       "      <td>215.407785</td>\n",
       "      <td>0</td>\n",
       "    </tr>\n",
       "    <tr>\n",
       "      <th>1</th>\n",
       "      <td>American Airlines Group, Inc.</td>\n",
       "      <td>492.976589</td>\n",
       "      <td>1</td>\n",
       "    </tr>\n",
       "    <tr>\n",
       "      <th>2</th>\n",
       "      <td>Advance Auto Parts, Inc.</td>\n",
       "      <td>158.290852</td>\n",
       "      <td>0</td>\n",
       "    </tr>\n",
       "    <tr>\n",
       "      <th>3</th>\n",
       "      <td>Apple, Inc.</td>\n",
       "      <td>641.441749</td>\n",
       "      <td>1</td>\n",
       "    </tr>\n",
       "    <tr>\n",
       "      <th>4</th>\n",
       "      <td>AbbVie, Inc.</td>\n",
       "      <td>127.493713</td>\n",
       "      <td>0</td>\n",
       "    </tr>\n",
       "  </tbody>\n",
       "</table>\n",
       "</div>"
      ],
      "text/plain": [
       "                            name  percent_return_on_investment  \\\n",
       "0     Agilent Technologies, Inc.                    215.407785   \n",
       "1  American Airlines Group, Inc.                    492.976589   \n",
       "2       Advance Auto Parts, Inc.                    158.290852   \n",
       "3                    Apple, Inc.                    641.441749   \n",
       "4                   AbbVie, Inc.                    127.493713   \n",
       "\n",
       "   above_below_sandp_return  \n",
       "0                         0  \n",
       "1                         1  \n",
       "2                         0  \n",
       "3                         1  \n",
       "4                         0  "
      ]
     },
     "execution_count": 25,
     "metadata": {},
     "output_type": "execute_result"
    }
   ],
   "source": [
    "# viewing the newly refined dataframe.\n",
    "sandp.head()"
   ]
  },
  {
   "cell_type": "code",
   "execution_count": 26,
   "metadata": {},
   "outputs": [],
   "source": [
    "# appending the predictions made from applying the logistic regression model to the total 468 sandp stocks to the read in and refined sandp dataframe.\n",
    "sandp['predictions'] = predictions2"
   ]
  },
  {
   "cell_type": "code",
   "execution_count": 27,
   "metadata": {},
   "outputs": [
    {
     "data": {
      "text/html": [
       "<div>\n",
       "<style scoped>\n",
       "    .dataframe tbody tr th:only-of-type {\n",
       "        vertical-align: middle;\n",
       "    }\n",
       "\n",
       "    .dataframe tbody tr th {\n",
       "        vertical-align: top;\n",
       "    }\n",
       "\n",
       "    .dataframe thead th {\n",
       "        text-align: right;\n",
       "    }\n",
       "</style>\n",
       "<table border=\"1\" class=\"dataframe\">\n",
       "  <thead>\n",
       "    <tr style=\"text-align: right;\">\n",
       "      <th></th>\n",
       "      <th>name</th>\n",
       "      <th>percent_return_on_investment</th>\n",
       "      <th>above_below_sandp_return</th>\n",
       "      <th>predictions</th>\n",
       "    </tr>\n",
       "  </thead>\n",
       "  <tbody>\n",
       "    <tr>\n",
       "      <th>0</th>\n",
       "      <td>Agilent Technologies, Inc.</td>\n",
       "      <td>215.407785</td>\n",
       "      <td>0</td>\n",
       "      <td>0</td>\n",
       "    </tr>\n",
       "    <tr>\n",
       "      <th>1</th>\n",
       "      <td>American Airlines Group, Inc.</td>\n",
       "      <td>492.976589</td>\n",
       "      <td>1</td>\n",
       "      <td>1</td>\n",
       "    </tr>\n",
       "    <tr>\n",
       "      <th>2</th>\n",
       "      <td>Advance Auto Parts, Inc.</td>\n",
       "      <td>158.290852</td>\n",
       "      <td>0</td>\n",
       "      <td>1</td>\n",
       "    </tr>\n",
       "    <tr>\n",
       "      <th>3</th>\n",
       "      <td>Apple, Inc.</td>\n",
       "      <td>641.441749</td>\n",
       "      <td>1</td>\n",
       "      <td>0</td>\n",
       "    </tr>\n",
       "    <tr>\n",
       "      <th>4</th>\n",
       "      <td>AbbVie, Inc.</td>\n",
       "      <td>127.493713</td>\n",
       "      <td>0</td>\n",
       "      <td>0</td>\n",
       "    </tr>\n",
       "  </tbody>\n",
       "</table>\n",
       "</div>"
      ],
      "text/plain": [
       "                            name  percent_return_on_investment  \\\n",
       "0     Agilent Technologies, Inc.                    215.407785   \n",
       "1  American Airlines Group, Inc.                    492.976589   \n",
       "2       Advance Auto Parts, Inc.                    158.290852   \n",
       "3                    Apple, Inc.                    641.441749   \n",
       "4                   AbbVie, Inc.                    127.493713   \n",
       "\n",
       "   above_below_sandp_return  predictions  \n",
       "0                         0            0  \n",
       "1                         1            1  \n",
       "2                         0            1  \n",
       "3                         1            0  \n",
       "4                         0            0  "
      ]
     },
     "execution_count": 27,
     "metadata": {},
     "output_type": "execute_result"
    }
   ],
   "source": [
    "# viewing the results.\n",
    "sandp.head()"
   ]
  },
  {
   "cell_type": "code",
   "execution_count": 28,
   "metadata": {},
   "outputs": [
    {
     "data": {
      "text/plain": [
       "0    360\n",
       "1    108\n",
       "Name: predictions, dtype: int64"
      ]
     },
     "execution_count": 28,
     "metadata": {},
     "output_type": "execute_result"
    }
   ],
   "source": [
    "# getting a sense of the distribution of our predictions.\n",
    "sandp['predictions'].value_counts()"
   ]
  },
  {
   "cell_type": "code",
   "execution_count": 29,
   "metadata": {},
   "outputs": [
    {
     "name": "stdout",
     "output_type": "stream",
     "text": [
      "74\n"
     ]
    }
   ],
   "source": [
    "# looping through the predictions columns and appending only the the 1's corresponding returns, stocks predicted to beat the sandp, to a list\n",
    "r = 0\n",
    "predicted_positives = []\n",
    "for (x,y) in zip(sandp['predictions'],sandp['percent_return_on_investment']):\n",
    "    if x == 1:\n",
    "        predicted_positives.append(y)\n",
    "        \n",
    "        # getting a feel for how many stocks of our predicted 1's actually did beat the sandp return.\n",
    "        if y > 228:\n",
    "            r += 1\n",
    "\n",
    "# viewing the number of stocks that did beat the sandp out of our 105 predicted 1's.            \n",
    "print(r)"
   ]
  },
  {
   "cell_type": "code",
   "execution_count": 30,
   "metadata": {},
   "outputs": [
    {
     "data": {
      "text/html": [
       "<div>\n",
       "<style scoped>\n",
       "    .dataframe tbody tr th:only-of-type {\n",
       "        vertical-align: middle;\n",
       "    }\n",
       "\n",
       "    .dataframe tbody tr th {\n",
       "        vertical-align: top;\n",
       "    }\n",
       "\n",
       "    .dataframe thead th {\n",
       "        text-align: right;\n",
       "    }\n",
       "</style>\n",
       "<table border=\"1\" class=\"dataframe\">\n",
       "  <thead>\n",
       "    <tr style=\"text-align: right;\">\n",
       "      <th></th>\n",
       "      <th>0</th>\n",
       "    </tr>\n",
       "  </thead>\n",
       "  <tbody>\n",
       "    <tr>\n",
       "      <th>0</th>\n",
       "      <td>492.976589</td>\n",
       "    </tr>\n",
       "    <tr>\n",
       "      <th>1</th>\n",
       "      <td>158.290852</td>\n",
       "    </tr>\n",
       "    <tr>\n",
       "      <th>2</th>\n",
       "      <td>258.118955</td>\n",
       "    </tr>\n",
       "    <tr>\n",
       "      <th>3</th>\n",
       "      <td>2583.734150</td>\n",
       "    </tr>\n",
       "    <tr>\n",
       "      <th>4</th>\n",
       "      <td>363.726903</td>\n",
       "    </tr>\n",
       "  </tbody>\n",
       "</table>\n",
       "</div>"
      ],
      "text/plain": [
       "             0\n",
       "0   492.976589\n",
       "1   158.290852\n",
       "2   258.118955\n",
       "3  2583.734150\n",
       "4   363.726903"
      ]
     },
     "execution_count": 30,
     "metadata": {},
     "output_type": "execute_result"
    }
   ],
   "source": [
    "# making a dataframe out of the predicted 1's list created above and saving to a variable.\n",
    "predicted = pd.DataFrame(predicted_positives)\n",
    "predicted.head()"
   ]
  },
  {
   "cell_type": "code",
   "execution_count": 31,
   "metadata": {},
   "outputs": [
    {
     "data": {
      "text/plain": [
       "108"
      ]
     },
     "execution_count": 31,
     "metadata": {},
     "output_type": "execute_result"
    }
   ],
   "source": [
    "# observing the length of the dataframe.\n",
    "len(predicted)"
   ]
  },
  {
   "cell_type": "code",
   "execution_count": 32,
   "metadata": {},
   "outputs": [
    {
     "data": {
      "text/plain": [
       "0.6851851851851852"
      ]
     },
     "execution_count": 32,
     "metadata": {},
     "output_type": "execute_result"
    }
   ],
   "source": [
    "# calculating the accuracy of our results, aka the how many of our predicted 1's were actually 1's.\n",
    "r/len(predicted)"
   ]
  },
  {
   "cell_type": "code",
   "execution_count": 33,
   "metadata": {},
   "outputs": [],
   "source": [
    "# viewing how many our our predicted 1's were under 0.\n",
    "for x in predicted[0]:\n",
    "    if x < 0:\n",
    "        print(x)"
   ]
  },
  {
   "cell_type": "code",
   "execution_count": 34,
   "metadata": {},
   "outputs": [
    {
     "data": {
      "text/plain": [
       "39981.33961082831"
      ]
     },
     "execution_count": 34,
     "metadata": {},
     "output_type": "execute_result"
    }
   ],
   "source": [
    "# summing up the predicted column, which is the percent gain of investment over 10 years, and labeling as gain.\n",
    "gain = predicted[0].sum()\n",
    "gain"
   ]
  },
  {
   "cell_type": "code",
   "execution_count": 35,
   "metadata": {},
   "outputs": [
    {
     "data": {
      "text/plain": [
       "39981.33961082831"
      ]
     },
     "execution_count": 35,
     "metadata": {},
     "output_type": "execute_result"
    }
   ],
   "source": [
    "# viewing the percent gain.\n",
    "gain"
   ]
  },
  {
   "cell_type": "code",
   "execution_count": 36,
   "metadata": {},
   "outputs": [
    {
     "data": {
      "text/plain": [
       "370.1975889891511"
      ]
     },
     "execution_count": 36,
     "metadata": {},
     "output_type": "execute_result"
    }
   ],
   "source": [
    "# calculating the percent return, which is gain/profit on investment divided by the cost of the investment, which is the number of stocks in our portfolio, 107.\n",
    "predicted_portfolio_percent_return = ((gain/100)/len(predicted))*100\n",
    "predicted_portfolio_percent_return"
   ]
  },
  {
   "cell_type": "code",
   "execution_count": 37,
   "metadata": {},
   "outputs": [
    {
     "data": {
      "text/plain": [
       "107456.45476890405"
      ]
     },
     "execution_count": 37,
     "metadata": {},
     "output_type": "execute_result"
    }
   ],
   "source": [
    "# summing up the sandp percent gain over all 468 stocks.\n",
    "sandp_gain = sandp['percent_return_on_investment'].sum()\n",
    "sandp_gain"
   ]
  },
  {
   "cell_type": "code",
   "execution_count": 38,
   "metadata": {},
   "outputs": [
    {
     "data": {
      "text/plain": [
       "229.60780933526505"
      ]
     },
     "execution_count": 38,
     "metadata": {},
     "output_type": "execute_result"
    }
   ],
   "source": [
    "# calculating the percent return of the sandp just like above so we can compare to the results above. Want percent return above to be higher than this one.\n",
    "sandp_percent_return = ((sandp_gain/100)/len(sandp['percent_return_on_investment']))*100\n",
    "sandp_percent_return"
   ]
  },
  {
   "cell_type": "code",
   "execution_count": 39,
   "metadata": {},
   "outputs": [],
   "source": [
    "# saving portfolio names and percent returns to lists in order to make bar chart.\n",
    "portfolio = ['S&P', 'Predicted Portfolio']\n",
    "percent_returns = [sandp_percent_return, predicted_portfolio_percent_return]"
   ]
  },
  {
   "cell_type": "code",
   "execution_count": 40,
   "metadata": {},
   "outputs": [
    {
     "data": {
      "text/plain": [
       "Text(0.5, 1.0, 'Comparison of Portfolio Returns')"
      ]
     },
     "execution_count": 40,
     "metadata": {},
     "output_type": "execute_result"
    },
    {
     "data": {
      "image/png": "[encoded data removed]",
      "text/plain": [
       "<Figure size 432x288 with 1 Axes>"
      ]
     },
     "metadata": {
      "needs_background": "light"
     },
     "output_type": "display_data"
    }
   ],
   "source": [
    "# creating and labeling the bar chart.\n",
    "plt.bar(portfolio, percent_returns, color='black')\n",
    "plt.xlabel('Portfolio')\n",
    "plt.ylabel('Percent Return')\n",
    "plt.title('Comparison of Portfolio Returns')"
   ]
  },
  {
   "cell_type": "code",
   "execution_count": 42,
   "metadata": {},
   "outputs": [
    {
     "data": {
      "text/html": [
       "<div>\n",
       "<style scoped>\n",
       "    .dataframe tbody tr th:only-of-type {\n",
       "        vertical-align: middle;\n",
       "    }\n",
       "\n",
       "    .dataframe tbody tr th {\n",
       "        vertical-align: top;\n",
       "    }\n",
       "\n",
       "    .dataframe thead th {\n",
       "        text-align: right;\n",
       "    }\n",
       "</style>\n",
       "<table border=\"1\" class=\"dataframe\">\n",
       "  <thead>\n",
       "    <tr style=\"text-align: right;\">\n",
       "      <th></th>\n",
       "      <th>name</th>\n",
       "      <th>percent_return_on_investment</th>\n",
       "      <th>above_below_sandp_return</th>\n",
       "      <th>predictions</th>\n",
       "    </tr>\n",
       "  </thead>\n",
       "  <tbody>\n",
       "    <tr>\n",
       "      <th>0</th>\n",
       "      <td>Agilent Technologies, Inc.</td>\n",
       "      <td>215.407785</td>\n",
       "      <td>0</td>\n",
       "      <td>0</td>\n",
       "    </tr>\n",
       "    <tr>\n",
       "      <th>1</th>\n",
       "      <td>American Airlines Group, Inc.</td>\n",
       "      <td>492.976589</td>\n",
       "      <td>1</td>\n",
       "      <td>1</td>\n",
       "    </tr>\n",
       "    <tr>\n",
       "      <th>2</th>\n",
       "      <td>Advance Auto Parts, Inc.</td>\n",
       "      <td>158.290852</td>\n",
       "      <td>0</td>\n",
       "      <td>1</td>\n",
       "    </tr>\n",
       "    <tr>\n",
       "      <th>3</th>\n",
       "      <td>Apple, Inc.</td>\n",
       "      <td>641.441749</td>\n",
       "      <td>1</td>\n",
       "      <td>0</td>\n",
       "    </tr>\n",
       "    <tr>\n",
       "      <th>4</th>\n",
       "      <td>AbbVie, Inc.</td>\n",
       "      <td>127.493713</td>\n",
       "      <td>0</td>\n",
       "      <td>0</td>\n",
       "    </tr>\n",
       "  </tbody>\n",
       "</table>\n",
       "</div>"
      ],
      "text/plain": [
       "                            name  percent_return_on_investment  \\\n",
       "0     Agilent Technologies, Inc.                    215.407785   \n",
       "1  American Airlines Group, Inc.                    492.976589   \n",
       "2       Advance Auto Parts, Inc.                    158.290852   \n",
       "3                    Apple, Inc.                    641.441749   \n",
       "4                   AbbVie, Inc.                    127.493713   \n",
       "\n",
       "   above_below_sandp_return  predictions  \n",
       "0                         0            0  \n",
       "1                         1            1  \n",
       "2                         0            1  \n",
       "3                         1            0  \n",
       "4                         0            0  "
      ]
     },
     "execution_count": 42,
     "metadata": {},
     "output_type": "execute_result"
    }
   ],
   "source": [
    "sandp.head()"
   ]
  },
  {
   "cell_type": "code",
   "execution_count": 43,
   "metadata": {},
   "outputs": [],
   "source": [
    "# creating a list of the 468 stocks returns to perform a random selection of 108 of them.\n",
    "returns_list = list(sandp['percent_return_on_investment'])"
   ]
  },
  {
   "cell_type": "code",
   "execution_count": 44,
   "metadata": {},
   "outputs": [],
   "source": [
    "# importing module that will allow me to find random numbers from the above list.\n",
    "import random\n",
    "\n",
    "# finding 108 random returns and saving 10 samples by way of loop and saving to variables. Choosing 108, because that is the number of predicted 1's in the above machine learning module on all 468 stocks.\n",
    "samples_list = []\n",
    "for x in range(0,10):\n",
    "    sample = random.choices(returns_list, k=108)\n",
    "    samples_list.append(sample)"
   ]
  },
  {
   "cell_type": "code",
   "execution_count": 45,
   "metadata": {},
   "outputs": [
    {
     "data": {
      "text/plain": [
       "10"
      ]
     },
     "execution_count": 45,
     "metadata": {},
     "output_type": "execute_result"
    }
   ],
   "source": [
    "# verifying above process worked.\n",
    "len(samples_list)"
   ]
  },
  {
   "cell_type": "code",
   "execution_count": 46,
   "metadata": {},
   "outputs": [
    {
     "data": {
      "text/html": [
       "<div>\n",
       "<style scoped>\n",
       "    .dataframe tbody tr th:only-of-type {\n",
       "        vertical-align: middle;\n",
       "    }\n",
       "\n",
       "    .dataframe tbody tr th {\n",
       "        vertical-align: top;\n",
       "    }\n",
       "\n",
       "    .dataframe thead th {\n",
       "        text-align: right;\n",
       "    }\n",
       "</style>\n",
       "<table border=\"1\" class=\"dataframe\">\n",
       "  <thead>\n",
       "    <tr style=\"text-align: right;\">\n",
       "      <th></th>\n",
       "      <th>0</th>\n",
       "      <th>1</th>\n",
       "      <th>2</th>\n",
       "      <th>3</th>\n",
       "      <th>4</th>\n",
       "      <th>5</th>\n",
       "      <th>6</th>\n",
       "      <th>7</th>\n",
       "      <th>8</th>\n",
       "      <th>9</th>\n",
       "    </tr>\n",
       "  </thead>\n",
       "  <tbody>\n",
       "    <tr>\n",
       "      <th>0</th>\n",
       "      <td>167.967572</td>\n",
       "      <td>187.488437</td>\n",
       "      <td>346.681416</td>\n",
       "      <td>67.464286</td>\n",
       "      <td>55.293309</td>\n",
       "      <td>48.479228</td>\n",
       "      <td>-72.333685</td>\n",
       "      <td>78.883403</td>\n",
       "      <td>38.193253</td>\n",
       "      <td>131.617440</td>\n",
       "    </tr>\n",
       "    <tr>\n",
       "      <th>1</th>\n",
       "      <td>475.514531</td>\n",
       "      <td>163.663408</td>\n",
       "      <td>103.638298</td>\n",
       "      <td>215.407785</td>\n",
       "      <td>43.434936</td>\n",
       "      <td>145.401652</td>\n",
       "      <td>-34.490518</td>\n",
       "      <td>187.488437</td>\n",
       "      <td>398.577778</td>\n",
       "      <td>159.111901</td>\n",
       "    </tr>\n",
       "    <tr>\n",
       "      <th>2</th>\n",
       "      <td>86.045959</td>\n",
       "      <td>190.226753</td>\n",
       "      <td>55.032422</td>\n",
       "      <td>147.391154</td>\n",
       "      <td>55.139289</td>\n",
       "      <td>90.882638</td>\n",
       "      <td>641.367414</td>\n",
       "      <td>80.100816</td>\n",
       "      <td>13.361674</td>\n",
       "      <td>29.166667</td>\n",
       "    </tr>\n",
       "    <tr>\n",
       "      <th>3</th>\n",
       "      <td>481.379517</td>\n",
       "      <td>-22.115240</td>\n",
       "      <td>128.013553</td>\n",
       "      <td>62.277580</td>\n",
       "      <td>248.960864</td>\n",
       "      <td>11.587389</td>\n",
       "      <td>40.946389</td>\n",
       "      <td>122.166527</td>\n",
       "      <td>-22.115240</td>\n",
       "      <td>87.781485</td>\n",
       "    </tr>\n",
       "    <tr>\n",
       "      <th>4</th>\n",
       "      <td>249.760766</td>\n",
       "      <td>151.071586</td>\n",
       "      <td>69.629775</td>\n",
       "      <td>53.599048</td>\n",
       "      <td>398.577778</td>\n",
       "      <td>122.166527</td>\n",
       "      <td>-51.913229</td>\n",
       "      <td>1231.535003</td>\n",
       "      <td>-29.984318</td>\n",
       "      <td>163.663408</td>\n",
       "    </tr>\n",
       "  </tbody>\n",
       "</table>\n",
       "</div>"
      ],
      "text/plain": [
       "            0           1           2           3           4           5  \\\n",
       "0  167.967572  187.488437  346.681416   67.464286   55.293309   48.479228   \n",
       "1  475.514531  163.663408  103.638298  215.407785   43.434936  145.401652   \n",
       "2   86.045959  190.226753   55.032422  147.391154   55.139289   90.882638   \n",
       "3  481.379517  -22.115240  128.013553   62.277580  248.960864   11.587389   \n",
       "4  249.760766  151.071586   69.629775   53.599048  398.577778  122.166527   \n",
       "\n",
       "            6            7           8           9  \n",
       "0  -72.333685    78.883403   38.193253  131.617440  \n",
       "1  -34.490518   187.488437  398.577778  159.111901  \n",
       "2  641.367414    80.100816   13.361674   29.166667  \n",
       "3   40.946389   122.166527  -22.115240   87.781485  \n",
       "4  -51.913229  1231.535003  -29.984318  163.663408  "
      ]
     },
     "execution_count": 46,
     "metadata": {},
     "output_type": "execute_result"
    }
   ],
   "source": [
    "# creating an empty dataframe to append things to.\n",
    "sample_df = pd.DataFrame()\n",
    "\n",
    "# looping through the samples list and creating a dataframe out of all the random samples.\n",
    "for (x,i) in zip(samples_list, range(0,10)):\n",
    "    sample_df[i] = x\n",
    "\n",
    "# viewing the results.\n",
    "sample_df.head()"
   ]
  },
  {
   "cell_type": "code",
   "execution_count": 47,
   "metadata": {},
   "outputs": [],
   "source": [
    "# creating empty list to append summed returns too and dividing by 100 to take out of percent form by way of loop.\n",
    "sums = []\n",
    "for column in range(0,10):\n",
    "    sums.append((sample_df[column].sum())/100)"
   ]
  },
  {
   "cell_type": "code",
   "execution_count": 48,
   "metadata": {},
   "outputs": [
    {
     "data": {
      "text/plain": [
       "[271.15352776734574,\n",
       " 259.2051029475582,\n",
       " 247.67834310059126,\n",
       " 238.32102408723557,\n",
       " 256.1302436771968,\n",
       " 243.44155694769168,\n",
       " 238.66739077254024,\n",
       " 246.53364634402075,\n",
       " 238.65848426888218,\n",
       " 235.5503704432958]"
      ]
     },
     "execution_count": 48,
     "metadata": {},
     "output_type": "execute_result"
    }
   ],
   "source": [
    "# viewing process worked.\n",
    "sums"
   ]
  },
  {
   "cell_type": "code",
   "execution_count": 102,
   "metadata": {},
   "outputs": [
    {
     "data": {
      "text/plain": [
       "468"
      ]
     },
     "execution_count": 102,
     "metadata": {},
     "output_type": "execute_result"
    }
   ],
   "source": [
    "# importing module that lets me bring in saved machine learning module.\n",
    "import joblib\n",
    "\n",
    "# loading the saved knn machine learning module.\n",
    "filename = 'finalized_model.sav'\n",
    "knn_model = joblib.load(filename)\n",
    "\n",
    "# using the knn machine learning model to make predictions.\n",
    "knn_predictions = knn_model.predict(X)"
   ]
  },
  {
   "cell_type": "code",
   "execution_count": 104,
   "metadata": {},
   "outputs": [
    {
     "data": {
      "text/html": [
       "<div>\n",
       "<style scoped>\n",
       "    .dataframe tbody tr th:only-of-type {\n",
       "        vertical-align: middle;\n",
       "    }\n",
       "\n",
       "    .dataframe tbody tr th {\n",
       "        vertical-align: top;\n",
       "    }\n",
       "\n",
       "    .dataframe thead th {\n",
       "        text-align: right;\n",
       "    }\n",
       "</style>\n",
       "<table border=\"1\" class=\"dataframe\">\n",
       "  <thead>\n",
       "    <tr style=\"text-align: right;\">\n",
       "      <th></th>\n",
       "      <th>name</th>\n",
       "      <th>percent_return_on_investment</th>\n",
       "      <th>above_below_sandp_return</th>\n",
       "      <th>predictions</th>\n",
       "      <th>knn_predictions</th>\n",
       "    </tr>\n",
       "  </thead>\n",
       "  <tbody>\n",
       "    <tr>\n",
       "      <th>0</th>\n",
       "      <td>Agilent Technologies, Inc.</td>\n",
       "      <td>215.407785</td>\n",
       "      <td>0</td>\n",
       "      <td>0</td>\n",
       "      <td>1</td>\n",
       "    </tr>\n",
       "    <tr>\n",
       "      <th>1</th>\n",
       "      <td>American Airlines Group, Inc.</td>\n",
       "      <td>492.976589</td>\n",
       "      <td>1</td>\n",
       "      <td>1</td>\n",
       "      <td>0</td>\n",
       "    </tr>\n",
       "    <tr>\n",
       "      <th>2</th>\n",
       "      <td>Advance Auto Parts, Inc.</td>\n",
       "      <td>158.290852</td>\n",
       "      <td>0</td>\n",
       "      <td>1</td>\n",
       "      <td>1</td>\n",
       "    </tr>\n",
       "    <tr>\n",
       "      <th>3</th>\n",
       "      <td>Apple, Inc.</td>\n",
       "      <td>641.441749</td>\n",
       "      <td>1</td>\n",
       "      <td>0</td>\n",
       "      <td>0</td>\n",
       "    </tr>\n",
       "    <tr>\n",
       "      <th>4</th>\n",
       "      <td>AbbVie, Inc.</td>\n",
       "      <td>127.493713</td>\n",
       "      <td>0</td>\n",
       "      <td>0</td>\n",
       "      <td>0</td>\n",
       "    </tr>\n",
       "  </tbody>\n",
       "</table>\n",
       "</div>"
      ],
      "text/plain": [
       "                            name  percent_return_on_investment  \\\n",
       "0     Agilent Technologies, Inc.                    215.407785   \n",
       "1  American Airlines Group, Inc.                    492.976589   \n",
       "2       Advance Auto Parts, Inc.                    158.290852   \n",
       "3                    Apple, Inc.                    641.441749   \n",
       "4                   AbbVie, Inc.                    127.493713   \n",
       "\n",
       "   above_below_sandp_return  predictions  knn_predictions  \n",
       "0                         0            0                1  \n",
       "1                         1            1                0  \n",
       "2                         0            1                1  \n",
       "3                         1            0                0  \n",
       "4                         0            0                0  "
      ]
     },
     "execution_count": 104,
     "metadata": {},
     "output_type": "execute_result"
    }
   ],
   "source": [
    "# appending the knn predictions to the sandp dataframe.\n",
    "sandp['knn_predictions'] = knn_predictions\n",
    "\n",
    "# viewing the results.\n",
    "sandp.head()"
   ]
  },
  {
   "cell_type": "code",
   "execution_count": 107,
   "metadata": {},
   "outputs": [],
   "source": [
    "# sorting out the predicted knn's with for loop and empty list.\n",
    "knn_predicted_positives = []\n",
    "for (x,y) in zip(sandp['knn_predictions'],sandp['percent_return_on_investment']):\n",
    "    if x == 1:\n",
    "        knn_predicted_positives.append(y)"
   ]
  },
  {
   "cell_type": "code",
   "execution_count": 108,
   "metadata": {},
   "outputs": [
    {
     "data": {
      "text/html": [
       "<div>\n",
       "<style scoped>\n",
       "    .dataframe tbody tr th:only-of-type {\n",
       "        vertical-align: middle;\n",
       "    }\n",
       "\n",
       "    .dataframe tbody tr th {\n",
       "        vertical-align: top;\n",
       "    }\n",
       "\n",
       "    .dataframe thead th {\n",
       "        text-align: right;\n",
       "    }\n",
       "</style>\n",
       "<table border=\"1\" class=\"dataframe\">\n",
       "  <thead>\n",
       "    <tr style=\"text-align: right;\">\n",
       "      <th></th>\n",
       "      <th>0</th>\n",
       "    </tr>\n",
       "  </thead>\n",
       "  <tbody>\n",
       "    <tr>\n",
       "      <th>0</th>\n",
       "      <td>215.407785</td>\n",
       "    </tr>\n",
       "    <tr>\n",
       "      <th>1</th>\n",
       "      <td>158.290852</td>\n",
       "    </tr>\n",
       "    <tr>\n",
       "      <th>2</th>\n",
       "      <td>258.118955</td>\n",
       "    </tr>\n",
       "    <tr>\n",
       "      <th>3</th>\n",
       "      <td>363.726903</td>\n",
       "    </tr>\n",
       "    <tr>\n",
       "      <th>4</th>\n",
       "      <td>750.511115</td>\n",
       "    </tr>\n",
       "  </tbody>\n",
       "</table>\n",
       "</div>"
      ],
      "text/plain": [
       "            0\n",
       "0  215.407785\n",
       "1  158.290852\n",
       "2  258.118955\n",
       "3  363.726903\n",
       "4  750.511115"
      ]
     },
     "execution_count": 108,
     "metadata": {},
     "output_type": "execute_result"
    }
   ],
   "source": [
    "# making a dataframe out of the knn predicted 1's list created above and saving to a variable.\n",
    "knn_predicted = pd.DataFrame(knn_predicted_positives)\n",
    "knn_predicted.head()"
   ]
  },
  {
   "cell_type": "code",
   "execution_count": 109,
   "metadata": {},
   "outputs": [
    {
     "data": {
      "text/plain": [
       "24795.857657024084"
      ]
     },
     "execution_count": 109,
     "metadata": {},
     "output_type": "execute_result"
    }
   ],
   "source": [
    "# summing up the predicted column, which is the percent gain of investment over 10 years, and labeling as gain.\n",
    "knn_gain = knn_predicted[0].sum()\n",
    "knn_gain"
   ]
  },
  {
   "cell_type": "code",
   "execution_count": 110,
   "metadata": {},
   "outputs": [
    {
     "data": {
      "text/plain": [
       "288.32392624446607"
      ]
     },
     "execution_count": 110,
     "metadata": {},
     "output_type": "execute_result"
    }
   ],
   "source": [
    "# calculating the percent return, which is gain/profit on investment divided by the cost of the investment, which is the number of stocks in our portfolio, 107.\n",
    "knn_predicted_portfolio_percent_return = ((knn_gain/100)/len(knn_predicted))*100\n",
    "knn_predicted_portfolio_percent_return"
   ]
  },
  {
   "cell_type": "code",
   "execution_count": 112,
   "metadata": {},
   "outputs": [],
   "source": [
    "# creating list to append final percent return on investment to for the 10 randomly selected stock returns.\n",
    "total_returns = [predicted_portfolio_percent_return, knn_predicted_portfolio_percent_return, sandp_percent_return]\n",
    "for x in sums:\n",
    "    total_returns.append((x/108)*100)"
   ]
  },
  {
   "cell_type": "code",
   "execution_count": 128,
   "metadata": {},
   "outputs": [
    {
     "data": {
      "text/html": [
       "<div>\n",
       "<style scoped>\n",
       "    .dataframe tbody tr th:only-of-type {\n",
       "        vertical-align: middle;\n",
       "    }\n",
       "\n",
       "    .dataframe tbody tr th {\n",
       "        vertical-align: top;\n",
       "    }\n",
       "\n",
       "    .dataframe thead th {\n",
       "        text-align: right;\n",
       "    }\n",
       "</style>\n",
       "<table border=\"1\" class=\"dataframe\">\n",
       "  <thead>\n",
       "    <tr style=\"text-align: right;\">\n",
       "      <th></th>\n",
       "      <th>portfolio</th>\n",
       "      <th>% returns</th>\n",
       "    </tr>\n",
       "  </thead>\n",
       "  <tbody>\n",
       "    <tr>\n",
       "      <th>0</th>\n",
       "      <td>logistic</td>\n",
       "      <td>370.197589</td>\n",
       "    </tr>\n",
       "    <tr>\n",
       "      <th>1</th>\n",
       "      <td>knn</td>\n",
       "      <td>288.323926</td>\n",
       "    </tr>\n",
       "    <tr>\n",
       "      <th>2</th>\n",
       "      <td>sandp</td>\n",
       "      <td>229.607809</td>\n",
       "    </tr>\n",
       "    <tr>\n",
       "      <th>3</th>\n",
       "      <td>trial1</td>\n",
       "      <td>251.068081</td>\n",
       "    </tr>\n",
       "    <tr>\n",
       "      <th>4</th>\n",
       "      <td>trial2</td>\n",
       "      <td>240.004725</td>\n",
       "    </tr>\n",
       "  </tbody>\n",
       "</table>\n",
       "</div>"
      ],
      "text/plain": [
       "  portfolio   % returns\n",
       "0  logistic  370.197589\n",
       "1       knn  288.323926\n",
       "2     sandp  229.607809\n",
       "3    trial1  251.068081\n",
       "4    trial2  240.004725"
      ]
     },
     "execution_count": 128,
     "metadata": {},
     "output_type": "execute_result"
    }
   ],
   "source": [
    "# creating list of portfolio names/\n",
    "row_names = ['logistic', 'knn','sandp','trial1','trial2','trial3','trial4','trial5','trial6','trial7','trial8','trial9','trial10']\n",
    "\n",
    "# creating a dataframe of the portfolio names.\n",
    "returns = pd.DataFrame(row_names, columns=['portfolio'])\n",
    "\n",
    "\n",
    "# adding the returns to the dataframe.\n",
    "returns['% returns'] = total_returns\n",
    "\n",
    "\n",
    "# previewing results.\n",
    "returns.head()"
   ]
  },
  {
   "cell_type": "code",
   "execution_count": 129,
   "metadata": {},
   "outputs": [
    {
     "data": {
      "text/html": [
       "<div>\n",
       "<style scoped>\n",
       "    .dataframe tbody tr th:only-of-type {\n",
       "        vertical-align: middle;\n",
       "    }\n",
       "\n",
       "    .dataframe tbody tr th {\n",
       "        vertical-align: top;\n",
       "    }\n",
       "\n",
       "    .dataframe thead th {\n",
       "        text-align: right;\n",
       "    }\n",
       "</style>\n",
       "<table border=\"1\" class=\"dataframe\">\n",
       "  <thead>\n",
       "    <tr style=\"text-align: right;\">\n",
       "      <th></th>\n",
       "      <th>portfolio</th>\n",
       "      <th>% returns</th>\n",
       "    </tr>\n",
       "  </thead>\n",
       "  <tbody>\n",
       "    <tr>\n",
       "      <th>0</th>\n",
       "      <td>logistic</td>\n",
       "      <td>370.197589</td>\n",
       "    </tr>\n",
       "    <tr>\n",
       "      <th>1</th>\n",
       "      <td>knn</td>\n",
       "      <td>288.323926</td>\n",
       "    </tr>\n",
       "    <tr>\n",
       "      <th>3</th>\n",
       "      <td>trial1</td>\n",
       "      <td>251.068081</td>\n",
       "    </tr>\n",
       "    <tr>\n",
       "      <th>4</th>\n",
       "      <td>trial2</td>\n",
       "      <td>240.004725</td>\n",
       "    </tr>\n",
       "    <tr>\n",
       "      <th>7</th>\n",
       "      <td>trial5</td>\n",
       "      <td>237.157633</td>\n",
       "    </tr>\n",
       "  </tbody>\n",
       "</table>\n",
       "</div>"
      ],
      "text/plain": [
       "  portfolio   % returns\n",
       "0  logistic  370.197589\n",
       "1       knn  288.323926\n",
       "3    trial1  251.068081\n",
       "4    trial2  240.004725\n",
       "7    trial5  237.157633"
      ]
     },
     "execution_count": 129,
     "metadata": {},
     "output_type": "execute_result"
    }
   ],
   "source": [
    "# sorting the dataframe from greatest to least by returns.\n",
    "returns1 = returns.sort_values('% returns', ascending=False)\n",
    "\n",
    "# verifying results.\n",
    "returns1.head()"
   ]
  },
  {
   "cell_type": "code",
   "execution_count": 132,
   "metadata": {},
   "outputs": [
    {
     "data": {
      "text/plain": [
       "Text(0.5, 1.0, 'Comparison of Porfolio Returns')"
      ]
     },
     "execution_count": 132,
     "metadata": {},
     "output_type": "execute_result"
    },
    {
     "data": {
      "image/png": "[encoded data removed]",
      "text/plain": [
       "<Figure size 504x288 with 1 Axes>"
      ]
     },
     "metadata": {
      "needs_background": "light"
     },
     "output_type": "display_data"
    }
   ],
   "source": [
    "# making a barchart to compare the returns.\n",
    "plt.figure(figsize=(7,4))\n",
    "colors = ['g', 'g', 'black','black','black', 'r', 'black', 'black','black','black','black','black','black']\n",
    "plt.bar(returns1['portfolio'], returns1['% returns'], color=colors)\n",
    "plt.xticks(rotation=45)\n",
    "plt.xlabel('Portfolio')\n",
    "plt.ylabel('% Returns')\n",
    "plt.title('Comparison of Porfolio Returns')\n",
    "# plt.savefig('returns.png')"
   ]
  },
  {
   "cell_type": "code",
   "execution_count": 131,
   "metadata": {},
   "outputs": [],
   "source": [
    "# creating a connection to postgres optimal_portfolio19 database.\n",
    "rds_connection_string = f'postgres:{postgres_password}@localhost:5432/optimal_portfolio19'\n",
    "engine = create_engine(f'postgres://{rds_connection_string}')"
   ]
  },
  {
   "cell_type": "code",
   "execution_count": 203,
   "metadata": {},
   "outputs": [
    {
     "data": {
      "text/html": [
       "<div>\n",
       "<style scoped>\n",
       "    .dataframe tbody tr th:only-of-type {\n",
       "        vertical-align: middle;\n",
       "    }\n",
       "\n",
       "    .dataframe tbody tr th {\n",
       "        vertical-align: top;\n",
       "    }\n",
       "\n",
       "    .dataframe thead th {\n",
       "        text-align: right;\n",
       "    }\n",
       "</style>\n",
       "<table border=\"1\" class=\"dataframe\">\n",
       "  <thead>\n",
       "    <tr style=\"text-align: right;\">\n",
       "      <th></th>\n",
       "      <th>symbol</th>\n",
       "      <th>name</th>\n",
       "      <th>price_to_bookvalue</th>\n",
       "      <th>price_to_book</th>\n",
       "      <th>price_to_sales</th>\n",
       "      <th>price_to_earnings</th>\n",
       "      <th>receivables_turnover</th>\n",
       "      <th>price_to_free_cash_flow</th>\n",
       "      <th>price_to_operating_cash_flow</th>\n",
       "      <th>enterprise_value_multiple</th>\n",
       "      <th>...</th>\n",
       "      <th>three_year_dividend_growth_per_share</th>\n",
       "      <th>receivables_growh</th>\n",
       "      <th>inventory_growth</th>\n",
       "      <th>asset_growth</th>\n",
       "      <th>book_value_per_share_growth</th>\n",
       "      <th>debt_growth</th>\n",
       "      <th>randd_expense_growth</th>\n",
       "      <th>sganda_expense_growth</th>\n",
       "      <th>industry</th>\n",
       "      <th>sector</th>\n",
       "    </tr>\n",
       "  </thead>\n",
       "  <tbody>\n",
       "    <tr>\n",
       "      <th>0</th>\n",
       "      <td>A</td>\n",
       "      <td>Agilent Technologies, Inc.</td>\n",
       "      <td>4.52285</td>\n",
       "      <td>15.21880</td>\n",
       "      <td>4.54935</td>\n",
       "      <td>49.10090</td>\n",
       "      <td>6.57635</td>\n",
       "      <td>26.77630</td>\n",
       "      <td>21.81385</td>\n",
       "      <td>21.977547</td>\n",
       "      <td>...</td>\n",
       "      <td>-0.33325</td>\n",
       "      <td>0.10960</td>\n",
       "      <td>0.09420</td>\n",
       "      <td>0.04735</td>\n",
       "      <td>0.05050</td>\n",
       "      <td>-0.02460</td>\n",
       "      <td>0.08305</td>\n",
       "      <td>0.04940</td>\n",
       "      <td>Medical Diagnostics &amp; Research</td>\n",
       "      <td>Healthcare</td>\n",
       "    </tr>\n",
       "    <tr>\n",
       "      <th>1</th>\n",
       "      <td>AAL</td>\n",
       "      <td>American Airlines Group, Inc.</td>\n",
       "      <td>-99.00000</td>\n",
       "      <td>-99.00000</td>\n",
       "      <td>0.46345</td>\n",
       "      <td>15.39385</td>\n",
       "      <td>25.61875</td>\n",
       "      <td>7.43180</td>\n",
       "      <td>4.76540</td>\n",
       "      <td>8.055577</td>\n",
       "      <td>...</td>\n",
       "      <td>0.12995</td>\n",
       "      <td>0.03640</td>\n",
       "      <td>0.18105</td>\n",
       "      <td>0.08860</td>\n",
       "      <td>-0.22415</td>\n",
       "      <td>0.19360</td>\n",
       "      <td>-99.00000</td>\n",
       "      <td>0.05905</td>\n",
       "      <td>Airlines</td>\n",
       "      <td>Industrials</td>\n",
       "    </tr>\n",
       "    <tr>\n",
       "      <th>2</th>\n",
       "      <td>AAP</td>\n",
       "      <td>Advance Auto Parts, Inc.</td>\n",
       "      <td>2.76620</td>\n",
       "      <td>5.00915</td>\n",
       "      <td>1.01720</td>\n",
       "      <td>21.92895</td>\n",
       "      <td>15.29405</td>\n",
       "      <td>18.65350</td>\n",
       "      <td>13.60055</td>\n",
       "      <td>13.648477</td>\n",
       "      <td>...</td>\n",
       "      <td>-99.00000</td>\n",
       "      <td>-0.01185</td>\n",
       "      <td>0.00510</td>\n",
       "      <td>0.04295</td>\n",
       "      <td>0.10400</td>\n",
       "      <td>0.00130</td>\n",
       "      <td>-99.00000</td>\n",
       "      <td>0.02095</td>\n",
       "      <td>Retail - Apparel &amp; Specialty</td>\n",
       "      <td>Consumer Cyclical</td>\n",
       "    </tr>\n",
       "    <tr>\n",
       "      <th>3</th>\n",
       "      <td>AAPL</td>\n",
       "      <td>Apple, Inc.</td>\n",
       "      <td>10.64980</td>\n",
       "      <td>10.64980</td>\n",
       "      <td>4.01155</td>\n",
       "      <td>18.81675</td>\n",
       "      <td>5.88140</td>\n",
       "      <td>17.56185</td>\n",
       "      <td>14.38080</td>\n",
       "      <td>8.253489</td>\n",
       "      <td>...</td>\n",
       "      <td>0.11195</td>\n",
       "      <td>0.15415</td>\n",
       "      <td>-0.07365</td>\n",
       "      <td>-0.05000</td>\n",
       "      <td>-0.12605</td>\n",
       "      <td>-0.03325</td>\n",
       "      <td>0.18425</td>\n",
       "      <td>0.09340</td>\n",
       "      <td>Computer Hardware</td>\n",
       "      <td>Technology</td>\n",
       "    </tr>\n",
       "    <tr>\n",
       "      <th>4</th>\n",
       "      <td>ABBV</td>\n",
       "      <td>AbbVie, Inc.</td>\n",
       "      <td>15.40735</td>\n",
       "      <td>-99.00000</td>\n",
       "      <td>4.90090</td>\n",
       "      <td>27.42550</td>\n",
       "      <td>5.99340</td>\n",
       "      <td>13.88110</td>\n",
       "      <td>13.05080</td>\n",
       "      <td>20.321289</td>\n",
       "      <td>...</td>\n",
       "      <td>0.18330</td>\n",
       "      <td>0.06380</td>\n",
       "      <td>0.05575</td>\n",
       "      <td>-0.04530</td>\n",
       "      <td>-1.29920</td>\n",
       "      <td>0.04650</td>\n",
       "      <td>0.60235</td>\n",
       "      <td>0.12290</td>\n",
       "      <td>Drug Manufacturers</td>\n",
       "      <td>Healthcare</td>\n",
       "    </tr>\n",
       "  </tbody>\n",
       "</table>\n",
       "<p>5 rows × 82 columns</p>\n",
       "</div>"
      ],
      "text/plain": [
       "  symbol                           name  price_to_bookvalue  price_to_book  \\\n",
       "0      A     Agilent Technologies, Inc.             4.52285       15.21880   \n",
       "1    AAL  American Airlines Group, Inc.           -99.00000      -99.00000   \n",
       "2    AAP       Advance Auto Parts, Inc.             2.76620        5.00915   \n",
       "3   AAPL                    Apple, Inc.            10.64980       10.64980   \n",
       "4   ABBV                   AbbVie, Inc.            15.40735      -99.00000   \n",
       "\n",
       "   price_to_sales  price_to_earnings  receivables_turnover  \\\n",
       "0         4.54935           49.10090               6.57635   \n",
       "1         0.46345           15.39385              25.61875   \n",
       "2         1.01720           21.92895              15.29405   \n",
       "3         4.01155           18.81675               5.88140   \n",
       "4         4.90090           27.42550               5.99340   \n",
       "\n",
       "   price_to_free_cash_flow  price_to_operating_cash_flow  \\\n",
       "0                 26.77630                      21.81385   \n",
       "1                  7.43180                       4.76540   \n",
       "2                 18.65350                      13.60055   \n",
       "3                 17.56185                      14.38080   \n",
       "4                 13.88110                      13.05080   \n",
       "\n",
       "   enterprise_value_multiple  ...  three_year_dividend_growth_per_share  \\\n",
       "0                  21.977547  ...                              -0.33325   \n",
       "1                   8.055577  ...                               0.12995   \n",
       "2                  13.648477  ...                             -99.00000   \n",
       "3                   8.253489  ...                               0.11195   \n",
       "4                  20.321289  ...                               0.18330   \n",
       "\n",
       "   receivables_growh  inventory_growth  asset_growth  \\\n",
       "0            0.10960           0.09420       0.04735   \n",
       "1            0.03640           0.18105       0.08860   \n",
       "2           -0.01185           0.00510       0.04295   \n",
       "3            0.15415          -0.07365      -0.05000   \n",
       "4            0.06380           0.05575      -0.04530   \n",
       "\n",
       "   book_value_per_share_growth  debt_growth  randd_expense_growth  \\\n",
       "0                      0.05050     -0.02460               0.08305   \n",
       "1                     -0.22415      0.19360             -99.00000   \n",
       "2                      0.10400      0.00130             -99.00000   \n",
       "3                     -0.12605     -0.03325               0.18425   \n",
       "4                     -1.29920      0.04650               0.60235   \n",
       "\n",
       "   sganda_expense_growth                        industry             sector  \n",
       "0                0.04940  Medical Diagnostics & Research         Healthcare  \n",
       "1                0.05905                        Airlines        Industrials  \n",
       "2                0.02095    Retail - Apparel & Specialty  Consumer Cyclical  \n",
       "3                0.09340               Computer Hardware         Technology  \n",
       "4                0.12290              Drug Manufacturers         Healthcare  \n",
       "\n",
       "[5 rows x 82 columns]"
      ]
     },
     "execution_count": 203,
     "metadata": {},
     "output_type": "execute_result"
    }
   ],
   "source": [
    "# reading in the optimal_portfolio19 database.\n",
    "sandp19 = pd.read_sql_query('SELECT * FROM sandp19', con=engine)\n",
    "\n",
    "# viewing the results.\n",
    "sandp19.head()"
   ]
  },
  {
   "cell_type": "code",
   "execution_count": 204,
   "metadata": {},
   "outputs": [],
   "source": [
    "# converting industry columns into 1's and 0's.\n",
    "industry = pd.get_dummies(sandp19['industry'])"
   ]
  },
  {
   "cell_type": "code",
   "execution_count": 205,
   "metadata": {},
   "outputs": [],
   "source": [
    "# bringing industry dummies with sandp19 database.\n",
    "sandp19 = pd.concat([sandp19, industry], axis=1)"
   ]
  },
  {
   "cell_type": "code",
   "execution_count": 206,
   "metadata": {},
   "outputs": [],
   "source": [
    "# creating a dataframe with only valuable predictor features and setting to variable for prediction purposes.\n",
    "X0 = sandp19[['net_income_growth','short_term_coverage_ratio','eps_diluted_growth', 'gross_profit_margin', 'price_to_book', 'price_to_sales', 'price_to_free_cash_flow', 'asset_growth', 'Airlines',\n",
    "'Computer Hardware','Drug Manufacturers', 'Medical Devices','Application Software', 'Semiconductors','Consumer Packaged Goods', \n",
    "'Business Services', 'Credit Services','Utilities - Regulated', 'Insurance - Life', 'REITs','Brokers & Exchanges','Biotechnology',\n",
    "'Asset Management', 'Online Media','Oil & Gas - E&P','Autos', 'Banks', 'Travel & Leisure', 'Entertainment','Agriculture',\n",
    "'Transportation & Logistics','Oil & Gas - Integrated','Industrial Distribution','Metals & Mining','Oil & Gas - Services',\n",
    "'Personal Services','Engineering & Construction', 'Oil & Gas - Midstream','Beverages - Non-Alcoholic', 'Truck Manufacturing', \n",
    "'Employment Services', 'Forest Products']]"
   ]
  },
  {
   "cell_type": "code",
   "execution_count": 207,
   "metadata": {},
   "outputs": [],
   "source": [
    "# applying our machine learning module trained and tested above on this new 2019/2018 data to make new portfolio for next 10 years.\n",
    "prediction3 = classifier.predict(X0)"
   ]
  },
  {
   "cell_type": "code",
   "execution_count": 208,
   "metadata": {},
   "outputs": [],
   "source": [
    "# adding the predictions array to the sandp19 dataframe.\n",
    "sandp19['predictions'] = prediction3"
   ]
  },
  {
   "cell_type": "code",
   "execution_count": 209,
   "metadata": {},
   "outputs": [
    {
     "data": {
      "text/html": [
       "<div>\n",
       "<style scoped>\n",
       "    .dataframe tbody tr th:only-of-type {\n",
       "        vertical-align: middle;\n",
       "    }\n",
       "\n",
       "    .dataframe tbody tr th {\n",
       "        vertical-align: top;\n",
       "    }\n",
       "\n",
       "    .dataframe thead th {\n",
       "        text-align: right;\n",
       "    }\n",
       "</style>\n",
       "<table border=\"1\" class=\"dataframe\">\n",
       "  <thead>\n",
       "    <tr style=\"text-align: right;\">\n",
       "      <th></th>\n",
       "      <th>symbol</th>\n",
       "      <th>name</th>\n",
       "      <th>price_to_bookvalue</th>\n",
       "      <th>price_to_book</th>\n",
       "      <th>price_to_sales</th>\n",
       "      <th>price_to_earnings</th>\n",
       "      <th>receivables_turnover</th>\n",
       "      <th>price_to_free_cash_flow</th>\n",
       "      <th>price_to_operating_cash_flow</th>\n",
       "      <th>enterprise_value_multiple</th>\n",
       "      <th>...</th>\n",
       "      <th>Steel</th>\n",
       "      <th>Tobacco Products</th>\n",
       "      <th>Transportation &amp; Logistics</th>\n",
       "      <th>Travel &amp; Leisure</th>\n",
       "      <th>Truck Manufacturing</th>\n",
       "      <th>Utilities - Independent Power Producers</th>\n",
       "      <th>Utilities - Regulated</th>\n",
       "      <th>Utilities—Regulated Electric</th>\n",
       "      <th>Waste Management</th>\n",
       "      <th>predictions</th>\n",
       "    </tr>\n",
       "  </thead>\n",
       "  <tbody>\n",
       "    <tr>\n",
       "      <th>0</th>\n",
       "      <td>A</td>\n",
       "      <td>Agilent Technologies, Inc.</td>\n",
       "      <td>4.52285</td>\n",
       "      <td>15.21880</td>\n",
       "      <td>4.54935</td>\n",
       "      <td>49.10090</td>\n",
       "      <td>6.57635</td>\n",
       "      <td>26.77630</td>\n",
       "      <td>21.81385</td>\n",
       "      <td>21.977547</td>\n",
       "      <td>...</td>\n",
       "      <td>0</td>\n",
       "      <td>0</td>\n",
       "      <td>0</td>\n",
       "      <td>0</td>\n",
       "      <td>0</td>\n",
       "      <td>0</td>\n",
       "      <td>0</td>\n",
       "      <td>0</td>\n",
       "      <td>0</td>\n",
       "      <td>0</td>\n",
       "    </tr>\n",
       "    <tr>\n",
       "      <th>1</th>\n",
       "      <td>AAL</td>\n",
       "      <td>American Airlines Group, Inc.</td>\n",
       "      <td>-99.00000</td>\n",
       "      <td>-99.00000</td>\n",
       "      <td>0.46345</td>\n",
       "      <td>15.39385</td>\n",
       "      <td>25.61875</td>\n",
       "      <td>7.43180</td>\n",
       "      <td>4.76540</td>\n",
       "      <td>8.055577</td>\n",
       "      <td>...</td>\n",
       "      <td>0</td>\n",
       "      <td>0</td>\n",
       "      <td>0</td>\n",
       "      <td>0</td>\n",
       "      <td>0</td>\n",
       "      <td>0</td>\n",
       "      <td>0</td>\n",
       "      <td>0</td>\n",
       "      <td>0</td>\n",
       "      <td>1</td>\n",
       "    </tr>\n",
       "    <tr>\n",
       "      <th>2</th>\n",
       "      <td>AAP</td>\n",
       "      <td>Advance Auto Parts, Inc.</td>\n",
       "      <td>2.76620</td>\n",
       "      <td>5.00915</td>\n",
       "      <td>1.01720</td>\n",
       "      <td>21.92895</td>\n",
       "      <td>15.29405</td>\n",
       "      <td>18.65350</td>\n",
       "      <td>13.60055</td>\n",
       "      <td>13.648477</td>\n",
       "      <td>...</td>\n",
       "      <td>0</td>\n",
       "      <td>0</td>\n",
       "      <td>0</td>\n",
       "      <td>0</td>\n",
       "      <td>0</td>\n",
       "      <td>0</td>\n",
       "      <td>0</td>\n",
       "      <td>0</td>\n",
       "      <td>0</td>\n",
       "      <td>0</td>\n",
       "    </tr>\n",
       "    <tr>\n",
       "      <th>3</th>\n",
       "      <td>AAPL</td>\n",
       "      <td>Apple, Inc.</td>\n",
       "      <td>10.64980</td>\n",
       "      <td>10.64980</td>\n",
       "      <td>4.01155</td>\n",
       "      <td>18.81675</td>\n",
       "      <td>5.88140</td>\n",
       "      <td>17.56185</td>\n",
       "      <td>14.38080</td>\n",
       "      <td>8.253489</td>\n",
       "      <td>...</td>\n",
       "      <td>0</td>\n",
       "      <td>0</td>\n",
       "      <td>0</td>\n",
       "      <td>0</td>\n",
       "      <td>0</td>\n",
       "      <td>0</td>\n",
       "      <td>0</td>\n",
       "      <td>0</td>\n",
       "      <td>0</td>\n",
       "      <td>0</td>\n",
       "    </tr>\n",
       "    <tr>\n",
       "      <th>4</th>\n",
       "      <td>ABBV</td>\n",
       "      <td>AbbVie, Inc.</td>\n",
       "      <td>15.40735</td>\n",
       "      <td>-99.00000</td>\n",
       "      <td>4.90090</td>\n",
       "      <td>27.42550</td>\n",
       "      <td>5.99340</td>\n",
       "      <td>13.88110</td>\n",
       "      <td>13.05080</td>\n",
       "      <td>20.321289</td>\n",
       "      <td>...</td>\n",
       "      <td>0</td>\n",
       "      <td>0</td>\n",
       "      <td>0</td>\n",
       "      <td>0</td>\n",
       "      <td>0</td>\n",
       "      <td>0</td>\n",
       "      <td>0</td>\n",
       "      <td>0</td>\n",
       "      <td>0</td>\n",
       "      <td>0</td>\n",
       "    </tr>\n",
       "  </tbody>\n",
       "</table>\n",
       "<p>5 rows × 154 columns</p>\n",
       "</div>"
      ],
      "text/plain": [
       "  symbol                           name  price_to_bookvalue  price_to_book  \\\n",
       "0      A     Agilent Technologies, Inc.             4.52285       15.21880   \n",
       "1    AAL  American Airlines Group, Inc.           -99.00000      -99.00000   \n",
       "2    AAP       Advance Auto Parts, Inc.             2.76620        5.00915   \n",
       "3   AAPL                    Apple, Inc.            10.64980       10.64980   \n",
       "4   ABBV                   AbbVie, Inc.            15.40735      -99.00000   \n",
       "\n",
       "   price_to_sales  price_to_earnings  receivables_turnover  \\\n",
       "0         4.54935           49.10090               6.57635   \n",
       "1         0.46345           15.39385              25.61875   \n",
       "2         1.01720           21.92895              15.29405   \n",
       "3         4.01155           18.81675               5.88140   \n",
       "4         4.90090           27.42550               5.99340   \n",
       "\n",
       "   price_to_free_cash_flow  price_to_operating_cash_flow  \\\n",
       "0                 26.77630                      21.81385   \n",
       "1                  7.43180                       4.76540   \n",
       "2                 18.65350                      13.60055   \n",
       "3                 17.56185                      14.38080   \n",
       "4                 13.88110                      13.05080   \n",
       "\n",
       "   enterprise_value_multiple  ...  Steel  Tobacco Products  \\\n",
       "0                  21.977547  ...      0                 0   \n",
       "1                   8.055577  ...      0                 0   \n",
       "2                  13.648477  ...      0                 0   \n",
       "3                   8.253489  ...      0                 0   \n",
       "4                  20.321289  ...      0                 0   \n",
       "\n",
       "   Transportation & Logistics  Travel & Leisure  Truck Manufacturing  \\\n",
       "0                           0                 0                    0   \n",
       "1                           0                 0                    0   \n",
       "2                           0                 0                    0   \n",
       "3                           0                 0                    0   \n",
       "4                           0                 0                    0   \n",
       "\n",
       "   Utilities - Independent Power Producers  Utilities - Regulated  \\\n",
       "0                                        0                      0   \n",
       "1                                        0                      0   \n",
       "2                                        0                      0   \n",
       "3                                        0                      0   \n",
       "4                                        0                      0   \n",
       "\n",
       "   Utilities—Regulated Electric  Waste Management  predictions  \n",
       "0                             0                 0            0  \n",
       "1                             0                 0            1  \n",
       "2                             0                 0            0  \n",
       "3                             0                 0            0  \n",
       "4                             0                 0            0  \n",
       "\n",
       "[5 rows x 154 columns]"
      ]
     },
     "execution_count": 209,
     "metadata": {},
     "output_type": "execute_result"
    }
   ],
   "source": [
    "# verifying above code worked.\n",
    "sandp19.head()"
   ]
  },
  {
   "cell_type": "code",
   "execution_count": 220,
   "metadata": {},
   "outputs": [],
   "source": [
    "# creating two empty lists to append values to.\n",
    "optimal_portfolio_ticker = []\n",
    "optimal_portfolio_name = []\n",
    "\n",
    "not_op_ticker = []\n",
    "not_op_name = []\n",
    "\n",
    "# looping through the predictions column and appending all the symbols and names with a 1 in its predictions column. 1 represents beating the sandp return.\n",
    "for (p,x,y) in zip(sandp19['predictions'], sandp19['symbol'], sandp19['name']):\n",
    "    if p == 1:\n",
    "        optimal_portfolio_ticker.append(x)\n",
    "        optimal_portfolio_name.append(y)\n",
    "    \n",
    "    elif p == 0:\n",
    "        not_op_ticker.append(x)\n",
    "        not_op_name.append(y)"
   ]
  },
  {
   "cell_type": "code",
   "execution_count": 221,
   "metadata": {},
   "outputs": [
    {
     "data": {
      "text/plain": [
       "111"
      ]
     },
     "execution_count": 221,
     "metadata": {},
     "output_type": "execute_result"
    }
   ],
   "source": [
    "len(optimal_portfolio_name)"
   ]
  },
  {
   "cell_type": "code",
   "execution_count": 222,
   "metadata": {},
   "outputs": [],
   "source": [
    "# creating a dataframe out of the predicted success's names and symbols.\n",
    "portfolio19 = pd.DataFrame(optimal_portfolio_name, optimal_portfolio_ticker)"
   ]
  },
  {
   "cell_type": "code",
   "execution_count": 223,
   "metadata": {},
   "outputs": [
    {
     "data": {
      "text/html": [
       "<div>\n",
       "<style scoped>\n",
       "    .dataframe tbody tr th:only-of-type {\n",
       "        vertical-align: middle;\n",
       "    }\n",
       "\n",
       "    .dataframe tbody tr th {\n",
       "        vertical-align: top;\n",
       "    }\n",
       "\n",
       "    .dataframe thead th {\n",
       "        text-align: right;\n",
       "    }\n",
       "</style>\n",
       "<table border=\"1\" class=\"dataframe\">\n",
       "  <thead>\n",
       "    <tr style=\"text-align: right;\">\n",
       "      <th></th>\n",
       "      <th>0</th>\n",
       "    </tr>\n",
       "  </thead>\n",
       "  <tbody>\n",
       "    <tr>\n",
       "      <th>AAL</th>\n",
       "      <td>American Airlines Group, Inc.</td>\n",
       "    </tr>\n",
       "    <tr>\n",
       "      <th>ACN</th>\n",
       "      <td>Accenture Plc</td>\n",
       "    </tr>\n",
       "    <tr>\n",
       "      <th>ADBE</th>\n",
       "      <td>Adobe, Inc.</td>\n",
       "    </tr>\n",
       "    <tr>\n",
       "      <th>ADI</th>\n",
       "      <td>Analog Devices, Inc.</td>\n",
       "    </tr>\n",
       "    <tr>\n",
       "      <th>ADM</th>\n",
       "      <td>Archer-Daniels-Midland Co.</td>\n",
       "    </tr>\n",
       "  </tbody>\n",
       "</table>\n",
       "</div>"
      ],
      "text/plain": [
       "                                  0\n",
       "AAL   American Airlines Group, Inc.\n",
       "ACN                   Accenture Plc\n",
       "ADBE                    Adobe, Inc.\n",
       "ADI            Analog Devices, Inc.\n",
       "ADM      Archer-Daniels-Midland Co."
      ]
     },
     "execution_count": 223,
     "metadata": {},
     "output_type": "execute_result"
    }
   ],
   "source": [
    "# viewing the results.\n",
    "portfolio19.head()"
   ]
  }
 ],
 "metadata": {
  "kernelspec": {
   "display_name": "Python 3",
   "language": "python",
   "name": "python3"
  },
  "language_info": {
   "codemirror_mode": {
    "name": "ipython",
    "version": 3
   },
   "file_extension": ".py",
   "mimetype": "text/x-python",
   "name": "python",
   "nbconvert_exporter": "python",
   "pygments_lexer": "ipython3",
   "version": "3.7.3"
  }
 },
 "nbformat": 4,
 "nbformat_minor": 2
}
