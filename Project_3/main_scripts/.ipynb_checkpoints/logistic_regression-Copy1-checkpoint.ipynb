{
 "cells": [
  {
   "cell_type": "code",
   "execution_count": 7,
   "metadata": {},
   "outputs": [],
   "source": [
    "# importing necessary modules.\n",
    "import pandas as pd\n",
    "from sqlalchemy import create_engine\n",
    "import numpy as np\n",
    "import matplotlib.pyplot as plt\n",
    "import config9 as cfg"
   ]
  },
  {
   "cell_type": "code",
   "execution_count": 11,
   "metadata": {},
   "outputs": [],
   "source": [
    "postgres_password = cfg.password\n",
    "database_name = 'optimal_portfolio'"
   ]
  },
  {
   "cell_type": "code",
   "execution_count": 12,
   "metadata": {},
   "outputs": [],
   "source": [
    "# creating a connection to an aws rds postgres cloud database.\n",
    "rds_connection_string = f'postgres:{postgres_password}@localhost:5432/{database_name}'\n",
    "engine = create_engine(f'postgres://{rds_connection_string}')"
   ]
  },
  {
   "cell_type": "code",
   "execution_count": 13,
   "metadata": {},
   "outputs": [
    {
     "data": {
      "text/plain": [
       "['sandp']"
      ]
     },
     "execution_count": 13,
     "metadata": {},
     "output_type": "execute_result"
    }
   ],
   "source": [
    "# checking out the table names in the database.\n",
    "engine.table_names()"
   ]
  },
  {
   "cell_type": "code",
   "execution_count": 14,
   "metadata": {},
   "outputs": [
    {
     "data": {
      "text/html": [
       "<div>\n",
       "<style scoped>\n",
       "    .dataframe tbody tr th:only-of-type {\n",
       "        vertical-align: middle;\n",
       "    }\n",
       "\n",
       "    .dataframe tbody tr th {\n",
       "        vertical-align: top;\n",
       "    }\n",
       "\n",
       "    .dataframe thead th {\n",
       "        text-align: right;\n",
       "    }\n",
       "</style>\n",
       "<table border=\"1\" class=\"dataframe\">\n",
       "  <thead>\n",
       "    <tr style=\"text-align: right;\">\n",
       "      <th></th>\n",
       "      <th>index</th>\n",
       "      <th>symbol</th>\n",
       "      <th>name</th>\n",
       "      <th>price_to_bookvalue</th>\n",
       "      <th>price_to_book</th>\n",
       "      <th>price_to_sales</th>\n",
       "      <th>price_to_earnings</th>\n",
       "      <th>receivables_turnover</th>\n",
       "      <th>price_to_free_cash_flow</th>\n",
       "      <th>price_to_operating_cash_flow</th>\n",
       "      <th>...</th>\n",
       "      <th>inventory_growth</th>\n",
       "      <th>asset_growth</th>\n",
       "      <th>book_value_per_share_growth</th>\n",
       "      <th>debt_growth</th>\n",
       "      <th>randd_expense_growth</th>\n",
       "      <th>sganda_expense_growth</th>\n",
       "      <th>percent_return_on_investment</th>\n",
       "      <th>industry</th>\n",
       "      <th>sector</th>\n",
       "      <th>above_below_sandp_return</th>\n",
       "    </tr>\n",
       "  </thead>\n",
       "  <tbody>\n",
       "    <tr>\n",
       "      <th>0</th>\n",
       "      <td>0</td>\n",
       "      <td>A</td>\n",
       "      <td>Agilent Technologies, Inc.</td>\n",
       "      <td>2.55170</td>\n",
       "      <td>5.17165</td>\n",
       "      <td>1.48130</td>\n",
       "      <td>6.30885</td>\n",
       "      <td>7.0014</td>\n",
       "      <td>18.1807</td>\n",
       "      <td>13.57995</td>\n",
       "      <td>...</td>\n",
       "      <td>0.0758</td>\n",
       "      <td>0.18005</td>\n",
       "      <td>0.15185</td>\n",
       "      <td>0.31885</td>\n",
       "      <td>-0.0674</td>\n",
       "      <td>0.01880</td>\n",
       "      <td>215.407785</td>\n",
       "      <td>Medical Diagnostics &amp; Research</td>\n",
       "      <td>Healthcare</td>\n",
       "      <td>0</td>\n",
       "    </tr>\n",
       "    <tr>\n",
       "      <th>1</th>\n",
       "      <td>1</td>\n",
       "      <td>AAL</td>\n",
       "      <td>American Airlines Group, Inc.</td>\n",
       "      <td>-99.00000</td>\n",
       "      <td>-99.00000</td>\n",
       "      <td>0.11565</td>\n",
       "      <td>-99.00000</td>\n",
       "      <td>27.3348</td>\n",
       "      <td>-99.0000</td>\n",
       "      <td>2.20925</td>\n",
       "      <td>...</td>\n",
       "      <td>0.0637</td>\n",
       "      <td>-0.00170</td>\n",
       "      <td>-0.06235</td>\n",
       "      <td>0.00975</td>\n",
       "      <td>-99.0000</td>\n",
       "      <td>0.01435</td>\n",
       "      <td>492.976589</td>\n",
       "      <td>Airlines</td>\n",
       "      <td>Industrials</td>\n",
       "      <td>1</td>\n",
       "    </tr>\n",
       "    <tr>\n",
       "      <th>2</th>\n",
       "      <td>2</td>\n",
       "      <td>AAP</td>\n",
       "      <td>Advance Auto Parts, Inc.</td>\n",
       "      <td>2.95660</td>\n",
       "      <td>3.10380</td>\n",
       "      <td>0.70600</td>\n",
       "      <td>14.16840</td>\n",
       "      <td>57.0461</td>\n",
       "      <td>7.4185</td>\n",
       "      <td>5.46130</td>\n",
       "      <td>...</td>\n",
       "      <td>0.0054</td>\n",
       "      <td>0.03670</td>\n",
       "      <td>0.19520</td>\n",
       "      <td>-0.57150</td>\n",
       "      <td>-99.0000</td>\n",
       "      <td>0.10360</td>\n",
       "      <td>158.290852</td>\n",
       "      <td>Retail - Apparel &amp; Specialty</td>\n",
       "      <td>Consumer Cyclical</td>\n",
       "      <td>0</td>\n",
       "    </tr>\n",
       "    <tr>\n",
       "      <th>3</th>\n",
       "      <td>3</td>\n",
       "      <td>AAPL</td>\n",
       "      <td>Apple, Inc.</td>\n",
       "      <td>5.42765</td>\n",
       "      <td>4.62715</td>\n",
       "      <td>3.98235</td>\n",
       "      <td>19.54495</td>\n",
       "      <td>10.0906</td>\n",
       "      <td>17.3279</td>\n",
       "      <td>15.35960</td>\n",
       "      <td>...</td>\n",
       "      <td>0.6019</td>\n",
       "      <td>0.44800</td>\n",
       "      <td>0.44245</td>\n",
       "      <td>-99.00000</td>\n",
       "      <td>0.2694</td>\n",
       "      <td>0.21645</td>\n",
       "      <td>641.441749</td>\n",
       "      <td>Computer Hardware</td>\n",
       "      <td>Technology</td>\n",
       "      <td>1</td>\n",
       "    </tr>\n",
       "    <tr>\n",
       "      <th>4</th>\n",
       "      <td>4</td>\n",
       "      <td>ABBV</td>\n",
       "      <td>AbbVie, Inc.</td>\n",
       "      <td>16.46870</td>\n",
       "      <td>-99.00000</td>\n",
       "      <td>3.01900</td>\n",
       "      <td>10.48360</td>\n",
       "      <td>-99.0000</td>\n",
       "      <td>9.2123</td>\n",
       "      <td>8.74540</td>\n",
       "      <td>...</td>\n",
       "      <td>-99.0000</td>\n",
       "      <td>-99.00000</td>\n",
       "      <td>-99.00000</td>\n",
       "      <td>-99.00000</td>\n",
       "      <td>0.4613</td>\n",
       "      <td>0.14080</td>\n",
       "      <td>127.493713</td>\n",
       "      <td>Drug Manufacturers</td>\n",
       "      <td>Healthcare</td>\n",
       "      <td>0</td>\n",
       "    </tr>\n",
       "  </tbody>\n",
       "</table>\n",
       "<p>5 rows × 85 columns</p>\n",
       "</div>"
      ],
      "text/plain": [
       "   index symbol                           name  price_to_bookvalue  \\\n",
       "0      0      A     Agilent Technologies, Inc.             2.55170   \n",
       "1      1    AAL  American Airlines Group, Inc.           -99.00000   \n",
       "2      2    AAP       Advance Auto Parts, Inc.             2.95660   \n",
       "3      3   AAPL                    Apple, Inc.             5.42765   \n",
       "4      4   ABBV                   AbbVie, Inc.            16.46870   \n",
       "\n",
       "   price_to_book  price_to_sales  price_to_earnings  receivables_turnover  \\\n",
       "0        5.17165         1.48130            6.30885                7.0014   \n",
       "1      -99.00000         0.11565          -99.00000               27.3348   \n",
       "2        3.10380         0.70600           14.16840               57.0461   \n",
       "3        4.62715         3.98235           19.54495               10.0906   \n",
       "4      -99.00000         3.01900           10.48360              -99.0000   \n",
       "\n",
       "   price_to_free_cash_flow  price_to_operating_cash_flow  ...  \\\n",
       "0                  18.1807                      13.57995  ...   \n",
       "1                 -99.0000                       2.20925  ...   \n",
       "2                   7.4185                       5.46130  ...   \n",
       "3                  17.3279                      15.35960  ...   \n",
       "4                   9.2123                       8.74540  ...   \n",
       "\n",
       "   inventory_growth  asset_growth  book_value_per_share_growth  debt_growth  \\\n",
       "0            0.0758       0.18005                      0.15185      0.31885   \n",
       "1            0.0637      -0.00170                     -0.06235      0.00975   \n",
       "2            0.0054       0.03670                      0.19520     -0.57150   \n",
       "3            0.6019       0.44800                      0.44245    -99.00000   \n",
       "4          -99.0000     -99.00000                    -99.00000    -99.00000   \n",
       "\n",
       "   randd_expense_growth  sganda_expense_growth  percent_return_on_investment  \\\n",
       "0               -0.0674                0.01880                    215.407785   \n",
       "1              -99.0000                0.01435                    492.976589   \n",
       "2              -99.0000                0.10360                    158.290852   \n",
       "3                0.2694                0.21645                    641.441749   \n",
       "4                0.4613                0.14080                    127.493713   \n",
       "\n",
       "                         industry             sector  above_below_sandp_return  \n",
       "0  Medical Diagnostics & Research         Healthcare                         0  \n",
       "1                        Airlines        Industrials                         1  \n",
       "2    Retail - Apparel & Specialty  Consumer Cyclical                         0  \n",
       "3               Computer Hardware         Technology                         1  \n",
       "4              Drug Manufacturers         Healthcare                         0  \n",
       "\n",
       "[5 rows x 85 columns]"
      ]
     },
     "execution_count": 14,
     "metadata": {},
     "output_type": "execute_result"
    }
   ],
   "source": [
    "# checking out the SandP_500 table.\n",
    "sandp = pd.read_sql_query('SELECT * FROM sandp', con=engine)\n",
    "sandp.head()"
   ]
  },
  {
   "cell_type": "code",
   "execution_count": 15,
   "metadata": {},
   "outputs": [
    {
     "data": {
      "text/plain": [
       "0    301\n",
       "1    167\n",
       "Name: above_below_sandp_return, dtype: int64"
      ]
     },
     "execution_count": 15,
     "metadata": {},
     "output_type": "execute_result"
    }
   ],
   "source": [
    "sandp['above_below_sandp_return'].value_counts()"
   ]
  },
  {
   "cell_type": "code",
   "execution_count": 16,
   "metadata": {},
   "outputs": [],
   "source": [
    "# converting industry columns into 1's and 0's.\n",
    "industry = pd.get_dummies(sandp['industry'])"
   ]
  },
  {
   "cell_type": "code",
   "execution_count": 17,
   "metadata": {},
   "outputs": [],
   "source": [
    "# converting sector columns into 1's and 0's.\n",
    "sector = pd.get_dummies(sandp['sector'])"
   ]
  },
  {
   "cell_type": "code",
   "execution_count": 18,
   "metadata": {},
   "outputs": [],
   "source": [
    "# bringing everything together.\n",
    "sandp = pd.concat([sandp, industry, sector], axis=1)"
   ]
  },
  {
   "cell_type": "code",
   "execution_count": 19,
   "metadata": {},
   "outputs": [],
   "source": [
    "# dropping industry and sector columns.\n",
    "sandp.drop(['industry', 'sector'], axis=1, inplace=True)"
   ]
  },
  {
   "cell_type": "code",
   "execution_count": 20,
   "metadata": {},
   "outputs": [],
   "source": [
    "sandp = sandp.drop(columns=['symbol', 'name'])"
   ]
  },
  {
   "cell_type": "code",
   "execution_count": 21,
   "metadata": {},
   "outputs": [],
   "source": [
    "# dropping unnecessary columns.\n",
    "sandp.drop(['percent_return_on_investment'], axis=1, inplace=True)"
   ]
  },
  {
   "cell_type": "code",
   "execution_count": 22,
   "metadata": {},
   "outputs": [],
   "source": [
    "names = []\n",
    "for x in sandp.columns:\n",
    "    names.append(x)"
   ]
  },
  {
   "cell_type": "code",
   "execution_count": 23,
   "metadata": {},
   "outputs": [],
   "source": [
    "X = sandp[['net_income_growth','short_term_coverage_ratio','eps_diluted_growth', 'gross_profit_margin', 'price_to_book', 'price_to_sales', 'price_to_free_cash_flow', 'asset_growth', 'Airlines',\n",
    "'Computer Hardware','Drug Manufacturers', 'Medical Devices','Application Software', 'Semiconductors','Consumer Packaged Goods', \n",
    "'Business Services', 'Credit Services','Utilities - Regulated', 'Insurance - Life', 'REITs','Brokers & Exchanges','Biotechnology',\n",
    "'Asset Management', 'Online Media','Oil & Gas - E&P','Autos', 'Banks', 'Travel & Leisure', 'Entertainment','Agriculture',\n",
    "'Transportation & Logistics','Oil & Gas - Integrated','Industrial Distribution','Metals & Mining','Oil & Gas - Services',\n",
    "'Personal Services','Engineering & Construction', 'Oil & Gas - Midstream','Beverages - Non-Alcoholic', 'Truck Manufacturing', \n",
    "'Employment Services', 'Forest Products']]\n",
    "target = sandp['above_below_sandp_return']"
   ]
  },
  {
   "cell_type": "code",
   "execution_count": 24,
   "metadata": {},
   "outputs": [],
   "source": [
    "from sklearn.model_selection import train_test_split\n",
    "X_train, X_test, target_train, target_test = train_test_split(X, target, random_state=76)"
   ]
  },
  {
   "cell_type": "code",
   "execution_count": 25,
   "metadata": {},
   "outputs": [
    {
     "data": {
      "text/plain": [
       "LogisticRegression(C=1.0, class_weight=None, dual=False, fit_intercept=True,\n",
       "                   intercept_scaling=1, l1_ratio=None, max_iter=100,\n",
       "                   multi_class='warn', n_jobs=None, penalty='l2',\n",
       "                   random_state=None, solver='warn', tol=0.0001, verbose=0,\n",
       "                   warm_start=False)"
      ]
     },
     "execution_count": 25,
     "metadata": {},
     "output_type": "execute_result"
    }
   ],
   "source": [
    "from sklearn.linear_model import LogisticRegression\n",
    "classifier = LogisticRegression()\n",
    "classifier"
   ]
  },
  {
   "cell_type": "code",
   "execution_count": 26,
   "metadata": {},
   "outputs": [
    {
     "name": "stderr",
     "output_type": "stream",
     "text": [
      "C:\\Users\\natha\\Anaconda3\\lib\\site-packages\\sklearn\\linear_model\\logistic.py:432: FutureWarning: Default solver will be changed to 'lbfgs' in 0.22. Specify a solver to silence this warning.\n",
      "  FutureWarning)\n"
     ]
    },
    {
     "data": {
      "text/plain": [
       "LogisticRegression(C=1.0, class_weight=None, dual=False, fit_intercept=True,\n",
       "                   intercept_scaling=1, l1_ratio=None, max_iter=100,\n",
       "                   multi_class='warn', n_jobs=None, penalty='l2',\n",
       "                   random_state=None, solver='warn', tol=0.0001, verbose=0,\n",
       "                   warm_start=False)"
      ]
     },
     "execution_count": 26,
     "metadata": {},
     "output_type": "execute_result"
    }
   ],
   "source": [
    "classifier.fit(X_train, target_train)"
   ]
  },
  {
   "cell_type": "code",
   "execution_count": 27,
   "metadata": {},
   "outputs": [
    {
     "name": "stdout",
     "output_type": "stream",
     "text": [
      "Training Data Score: 0.7122507122507122\n",
      "Testing Data Score: 0.7350427350427351\n"
     ]
    }
   ],
   "source": [
    "print(f'Training Data Score: {classifier.score(X_train, target_train)}')\n",
    "print(f'Testing Data Score: {classifier.score(X_test, target_test)}')"
   ]
  },
  {
   "cell_type": "code",
   "execution_count": 28,
   "metadata": {},
   "outputs": [
    {
     "data": {
      "text/html": [
       "<div>\n",
       "<style scoped>\n",
       "    .dataframe tbody tr th:only-of-type {\n",
       "        vertical-align: middle;\n",
       "    }\n",
       "\n",
       "    .dataframe tbody tr th {\n",
       "        vertical-align: top;\n",
       "    }\n",
       "\n",
       "    .dataframe thead th {\n",
       "        text-align: right;\n",
       "    }\n",
       "</style>\n",
       "<table border=\"1\" class=\"dataframe\">\n",
       "  <thead>\n",
       "    <tr style=\"text-align: right;\">\n",
       "      <th></th>\n",
       "      <th>Prediction</th>\n",
       "      <th>Actual</th>\n",
       "    </tr>\n",
       "  </thead>\n",
       "  <tbody>\n",
       "    <tr>\n",
       "      <th>0</th>\n",
       "      <td>1</td>\n",
       "      <td>1</td>\n",
       "    </tr>\n",
       "    <tr>\n",
       "      <th>1</th>\n",
       "      <td>0</td>\n",
       "      <td>0</td>\n",
       "    </tr>\n",
       "    <tr>\n",
       "      <th>2</th>\n",
       "      <td>1</td>\n",
       "      <td>1</td>\n",
       "    </tr>\n",
       "    <tr>\n",
       "      <th>3</th>\n",
       "      <td>1</td>\n",
       "      <td>1</td>\n",
       "    </tr>\n",
       "    <tr>\n",
       "      <th>4</th>\n",
       "      <td>0</td>\n",
       "      <td>0</td>\n",
       "    </tr>\n",
       "  </tbody>\n",
       "</table>\n",
       "</div>"
      ],
      "text/plain": [
       "   Prediction  Actual\n",
       "0           1       1\n",
       "1           0       0\n",
       "2           1       1\n",
       "3           1       1\n",
       "4           0       0"
      ]
     },
     "execution_count": 28,
     "metadata": {},
     "output_type": "execute_result"
    }
   ],
   "source": [
    "predictions = classifier.predict(X_test)\n",
    "pd.DataFrame({'Prediction': predictions, 'Actual': target_test}).reset_index(drop=True).head()"
   ]
  },
  {
   "cell_type": "code",
   "execution_count": 29,
   "metadata": {},
   "outputs": [
    {
     "data": {
      "text/plain": [
       "0    79\n",
       "1    38\n",
       "Name: above_below_sandp_return, dtype: int64"
      ]
     },
     "execution_count": 29,
     "metadata": {},
     "output_type": "execute_result"
    }
   ],
   "source": [
    "target_test.value_counts()"
   ]
  },
  {
   "cell_type": "code",
   "execution_count": 30,
   "metadata": {},
   "outputs": [
    {
     "data": {
      "text/plain": [
       "0.3247863247863248"
      ]
     },
     "execution_count": 30,
     "metadata": {},
     "output_type": "execute_result"
    }
   ],
   "source": [
    "target_test.mean()"
   ]
  },
  {
   "cell_type": "code",
   "execution_count": 31,
   "metadata": {},
   "outputs": [
    {
     "name": "stdout",
     "output_type": "stream",
     "text": [
      "              precision    recall  f1-score   support\n",
      "\n",
      "           0       0.76      0.89      0.82        79\n",
      "           1       0.64      0.42      0.51        38\n",
      "\n",
      "    accuracy                           0.74       117\n",
      "   macro avg       0.70      0.65      0.66       117\n",
      "weighted avg       0.72      0.74      0.72       117\n",
      "\n"
     ]
    }
   ],
   "source": [
    "from sklearn.metrics import classification_report\n",
    "print(classification_report(target_test, predictions))"
   ]
  },
  {
   "cell_type": "code",
   "execution_count": 32,
   "metadata": {},
   "outputs": [
    {
     "data": {
      "text/html": [
       "<div>\n",
       "<style scoped>\n",
       "    .dataframe tbody tr th:only-of-type {\n",
       "        vertical-align: middle;\n",
       "    }\n",
       "\n",
       "    .dataframe tbody tr th {\n",
       "        vertical-align: top;\n",
       "    }\n",
       "\n",
       "    .dataframe thead th {\n",
       "        text-align: right;\n",
       "    }\n",
       "</style>\n",
       "<table border=\"1\" class=\"dataframe\">\n",
       "  <thead>\n",
       "    <tr style=\"text-align: right;\">\n",
       "      <th></th>\n",
       "      <th>Prediction</th>\n",
       "      <th>Actual</th>\n",
       "    </tr>\n",
       "  </thead>\n",
       "  <tbody>\n",
       "    <tr>\n",
       "      <th>0</th>\n",
       "      <td>0</td>\n",
       "      <td>0</td>\n",
       "    </tr>\n",
       "    <tr>\n",
       "      <th>1</th>\n",
       "      <td>1</td>\n",
       "      <td>1</td>\n",
       "    </tr>\n",
       "    <tr>\n",
       "      <th>2</th>\n",
       "      <td>1</td>\n",
       "      <td>0</td>\n",
       "    </tr>\n",
       "    <tr>\n",
       "      <th>3</th>\n",
       "      <td>0</td>\n",
       "      <td>1</td>\n",
       "    </tr>\n",
       "    <tr>\n",
       "      <th>4</th>\n",
       "      <td>0</td>\n",
       "      <td>0</td>\n",
       "    </tr>\n",
       "  </tbody>\n",
       "</table>\n",
       "</div>"
      ],
      "text/plain": [
       "   Prediction  Actual\n",
       "0           0       0\n",
       "1           1       1\n",
       "2           1       0\n",
       "3           0       1\n",
       "4           0       0"
      ]
     },
     "execution_count": 32,
     "metadata": {},
     "output_type": "execute_result"
    }
   ],
   "source": [
    "predictions2 = classifier.predict(X)\n",
    "pd.DataFrame({'Prediction': predictions2, 'Actual': target}).reset_index(drop=True).head()"
   ]
  },
  {
   "cell_type": "code",
   "execution_count": 33,
   "metadata": {},
   "outputs": [
    {
     "data": {
      "text/html": [
       "<div>\n",
       "<style scoped>\n",
       "    .dataframe tbody tr th:only-of-type {\n",
       "        vertical-align: middle;\n",
       "    }\n",
       "\n",
       "    .dataframe tbody tr th {\n",
       "        vertical-align: top;\n",
       "    }\n",
       "\n",
       "    .dataframe thead th {\n",
       "        text-align: right;\n",
       "    }\n",
       "</style>\n",
       "<table border=\"1\" class=\"dataframe\">\n",
       "  <thead>\n",
       "    <tr style=\"text-align: right;\">\n",
       "      <th></th>\n",
       "      <th>index</th>\n",
       "      <th>symbol</th>\n",
       "      <th>name</th>\n",
       "      <th>price_to_bookvalue</th>\n",
       "      <th>price_to_book</th>\n",
       "      <th>price_to_sales</th>\n",
       "      <th>price_to_earnings</th>\n",
       "      <th>receivables_turnover</th>\n",
       "      <th>price_to_free_cash_flow</th>\n",
       "      <th>price_to_operating_cash_flow</th>\n",
       "      <th>...</th>\n",
       "      <th>inventory_growth</th>\n",
       "      <th>asset_growth</th>\n",
       "      <th>book_value_per_share_growth</th>\n",
       "      <th>debt_growth</th>\n",
       "      <th>randd_expense_growth</th>\n",
       "      <th>sganda_expense_growth</th>\n",
       "      <th>percent_return_on_investment</th>\n",
       "      <th>industry</th>\n",
       "      <th>sector</th>\n",
       "      <th>above_below_sandp_return</th>\n",
       "    </tr>\n",
       "  </thead>\n",
       "  <tbody>\n",
       "    <tr>\n",
       "      <th>0</th>\n",
       "      <td>0</td>\n",
       "      <td>A</td>\n",
       "      <td>Agilent Technologies, Inc.</td>\n",
       "      <td>2.55170</td>\n",
       "      <td>5.17165</td>\n",
       "      <td>1.48130</td>\n",
       "      <td>6.30885</td>\n",
       "      <td>7.0014</td>\n",
       "      <td>18.1807</td>\n",
       "      <td>13.57995</td>\n",
       "      <td>...</td>\n",
       "      <td>0.0758</td>\n",
       "      <td>0.18005</td>\n",
       "      <td>0.15185</td>\n",
       "      <td>0.31885</td>\n",
       "      <td>-0.0674</td>\n",
       "      <td>0.01880</td>\n",
       "      <td>215.407785</td>\n",
       "      <td>Medical Diagnostics &amp; Research</td>\n",
       "      <td>Healthcare</td>\n",
       "      <td>0</td>\n",
       "    </tr>\n",
       "    <tr>\n",
       "      <th>1</th>\n",
       "      <td>1</td>\n",
       "      <td>AAL</td>\n",
       "      <td>American Airlines Group, Inc.</td>\n",
       "      <td>-99.00000</td>\n",
       "      <td>-99.00000</td>\n",
       "      <td>0.11565</td>\n",
       "      <td>-99.00000</td>\n",
       "      <td>27.3348</td>\n",
       "      <td>-99.0000</td>\n",
       "      <td>2.20925</td>\n",
       "      <td>...</td>\n",
       "      <td>0.0637</td>\n",
       "      <td>-0.00170</td>\n",
       "      <td>-0.06235</td>\n",
       "      <td>0.00975</td>\n",
       "      <td>-99.0000</td>\n",
       "      <td>0.01435</td>\n",
       "      <td>492.976589</td>\n",
       "      <td>Airlines</td>\n",
       "      <td>Industrials</td>\n",
       "      <td>1</td>\n",
       "    </tr>\n",
       "    <tr>\n",
       "      <th>2</th>\n",
       "      <td>2</td>\n",
       "      <td>AAP</td>\n",
       "      <td>Advance Auto Parts, Inc.</td>\n",
       "      <td>2.95660</td>\n",
       "      <td>3.10380</td>\n",
       "      <td>0.70600</td>\n",
       "      <td>14.16840</td>\n",
       "      <td>57.0461</td>\n",
       "      <td>7.4185</td>\n",
       "      <td>5.46130</td>\n",
       "      <td>...</td>\n",
       "      <td>0.0054</td>\n",
       "      <td>0.03670</td>\n",
       "      <td>0.19520</td>\n",
       "      <td>-0.57150</td>\n",
       "      <td>-99.0000</td>\n",
       "      <td>0.10360</td>\n",
       "      <td>158.290852</td>\n",
       "      <td>Retail - Apparel &amp; Specialty</td>\n",
       "      <td>Consumer Cyclical</td>\n",
       "      <td>0</td>\n",
       "    </tr>\n",
       "    <tr>\n",
       "      <th>3</th>\n",
       "      <td>3</td>\n",
       "      <td>AAPL</td>\n",
       "      <td>Apple, Inc.</td>\n",
       "      <td>5.42765</td>\n",
       "      <td>4.62715</td>\n",
       "      <td>3.98235</td>\n",
       "      <td>19.54495</td>\n",
       "      <td>10.0906</td>\n",
       "      <td>17.3279</td>\n",
       "      <td>15.35960</td>\n",
       "      <td>...</td>\n",
       "      <td>0.6019</td>\n",
       "      <td>0.44800</td>\n",
       "      <td>0.44245</td>\n",
       "      <td>-99.00000</td>\n",
       "      <td>0.2694</td>\n",
       "      <td>0.21645</td>\n",
       "      <td>641.441749</td>\n",
       "      <td>Computer Hardware</td>\n",
       "      <td>Technology</td>\n",
       "      <td>1</td>\n",
       "    </tr>\n",
       "    <tr>\n",
       "      <th>4</th>\n",
       "      <td>4</td>\n",
       "      <td>ABBV</td>\n",
       "      <td>AbbVie, Inc.</td>\n",
       "      <td>16.46870</td>\n",
       "      <td>-99.00000</td>\n",
       "      <td>3.01900</td>\n",
       "      <td>10.48360</td>\n",
       "      <td>-99.0000</td>\n",
       "      <td>9.2123</td>\n",
       "      <td>8.74540</td>\n",
       "      <td>...</td>\n",
       "      <td>-99.0000</td>\n",
       "      <td>-99.00000</td>\n",
       "      <td>-99.00000</td>\n",
       "      <td>-99.00000</td>\n",
       "      <td>0.4613</td>\n",
       "      <td>0.14080</td>\n",
       "      <td>127.493713</td>\n",
       "      <td>Drug Manufacturers</td>\n",
       "      <td>Healthcare</td>\n",
       "      <td>0</td>\n",
       "    </tr>\n",
       "  </tbody>\n",
       "</table>\n",
       "<p>5 rows × 85 columns</p>\n",
       "</div>"
      ],
      "text/plain": [
       "   index symbol                           name  price_to_bookvalue  \\\n",
       "0      0      A     Agilent Technologies, Inc.             2.55170   \n",
       "1      1    AAL  American Airlines Group, Inc.           -99.00000   \n",
       "2      2    AAP       Advance Auto Parts, Inc.             2.95660   \n",
       "3      3   AAPL                    Apple, Inc.             5.42765   \n",
       "4      4   ABBV                   AbbVie, Inc.            16.46870   \n",
       "\n",
       "   price_to_book  price_to_sales  price_to_earnings  receivables_turnover  \\\n",
       "0        5.17165         1.48130            6.30885                7.0014   \n",
       "1      -99.00000         0.11565          -99.00000               27.3348   \n",
       "2        3.10380         0.70600           14.16840               57.0461   \n",
       "3        4.62715         3.98235           19.54495               10.0906   \n",
       "4      -99.00000         3.01900           10.48360              -99.0000   \n",
       "\n",
       "   price_to_free_cash_flow  price_to_operating_cash_flow  ...  \\\n",
       "0                  18.1807                      13.57995  ...   \n",
       "1                 -99.0000                       2.20925  ...   \n",
       "2                   7.4185                       5.46130  ...   \n",
       "3                  17.3279                      15.35960  ...   \n",
       "4                   9.2123                       8.74540  ...   \n",
       "\n",
       "   inventory_growth  asset_growth  book_value_per_share_growth  debt_growth  \\\n",
       "0            0.0758       0.18005                      0.15185      0.31885   \n",
       "1            0.0637      -0.00170                     -0.06235      0.00975   \n",
       "2            0.0054       0.03670                      0.19520     -0.57150   \n",
       "3            0.6019       0.44800                      0.44245    -99.00000   \n",
       "4          -99.0000     -99.00000                    -99.00000    -99.00000   \n",
       "\n",
       "   randd_expense_growth  sganda_expense_growth  percent_return_on_investment  \\\n",
       "0               -0.0674                0.01880                    215.407785   \n",
       "1              -99.0000                0.01435                    492.976589   \n",
       "2              -99.0000                0.10360                    158.290852   \n",
       "3                0.2694                0.21645                    641.441749   \n",
       "4                0.4613                0.14080                    127.493713   \n",
       "\n",
       "                         industry             sector  above_below_sandp_return  \n",
       "0  Medical Diagnostics & Research         Healthcare                         0  \n",
       "1                        Airlines        Industrials                         1  \n",
       "2    Retail - Apparel & Specialty  Consumer Cyclical                         0  \n",
       "3               Computer Hardware         Technology                         1  \n",
       "4              Drug Manufacturers         Healthcare                         0  \n",
       "\n",
       "[5 rows x 85 columns]"
      ]
     },
     "execution_count": 33,
     "metadata": {},
     "output_type": "execute_result"
    }
   ],
   "source": [
    "# checking out the SandP_500 table.\n",
    "sandp = pd.read_sql_query('SELECT * FROM sandp', con=engine)\n",
    "sandp.head()"
   ]
  },
  {
   "cell_type": "code",
   "execution_count": 34,
   "metadata": {},
   "outputs": [],
   "source": [
    "sandp = sandp[['name', 'percent_return_on_investment', 'above_below_sandp_return']]"
   ]
  },
  {
   "cell_type": "code",
   "execution_count": 35,
   "metadata": {},
   "outputs": [
    {
     "data": {
      "text/html": [
       "<div>\n",
       "<style scoped>\n",
       "    .dataframe tbody tr th:only-of-type {\n",
       "        vertical-align: middle;\n",
       "    }\n",
       "\n",
       "    .dataframe tbody tr th {\n",
       "        vertical-align: top;\n",
       "    }\n",
       "\n",
       "    .dataframe thead th {\n",
       "        text-align: right;\n",
       "    }\n",
       "</style>\n",
       "<table border=\"1\" class=\"dataframe\">\n",
       "  <thead>\n",
       "    <tr style=\"text-align: right;\">\n",
       "      <th></th>\n",
       "      <th>name</th>\n",
       "      <th>percent_return_on_investment</th>\n",
       "      <th>above_below_sandp_return</th>\n",
       "    </tr>\n",
       "  </thead>\n",
       "  <tbody>\n",
       "    <tr>\n",
       "      <th>0</th>\n",
       "      <td>Agilent Technologies, Inc.</td>\n",
       "      <td>215.407785</td>\n",
       "      <td>0</td>\n",
       "    </tr>\n",
       "    <tr>\n",
       "      <th>1</th>\n",
       "      <td>American Airlines Group, Inc.</td>\n",
       "      <td>492.976589</td>\n",
       "      <td>1</td>\n",
       "    </tr>\n",
       "    <tr>\n",
       "      <th>2</th>\n",
       "      <td>Advance Auto Parts, Inc.</td>\n",
       "      <td>158.290852</td>\n",
       "      <td>0</td>\n",
       "    </tr>\n",
       "    <tr>\n",
       "      <th>3</th>\n",
       "      <td>Apple, Inc.</td>\n",
       "      <td>641.441749</td>\n",
       "      <td>1</td>\n",
       "    </tr>\n",
       "    <tr>\n",
       "      <th>4</th>\n",
       "      <td>AbbVie, Inc.</td>\n",
       "      <td>127.493713</td>\n",
       "      <td>0</td>\n",
       "    </tr>\n",
       "  </tbody>\n",
       "</table>\n",
       "</div>"
      ],
      "text/plain": [
       "                            name  percent_return_on_investment  \\\n",
       "0     Agilent Technologies, Inc.                    215.407785   \n",
       "1  American Airlines Group, Inc.                    492.976589   \n",
       "2       Advance Auto Parts, Inc.                    158.290852   \n",
       "3                    Apple, Inc.                    641.441749   \n",
       "4                   AbbVie, Inc.                    127.493713   \n",
       "\n",
       "   above_below_sandp_return  \n",
       "0                         0  \n",
       "1                         1  \n",
       "2                         0  \n",
       "3                         1  \n",
       "4                         0  "
      ]
     },
     "execution_count": 35,
     "metadata": {},
     "output_type": "execute_result"
    }
   ],
   "source": [
    "sandp.head()"
   ]
  },
  {
   "cell_type": "code",
   "execution_count": 36,
   "metadata": {},
   "outputs": [],
   "source": [
    "sandp['predictions'] = predictions2"
   ]
  },
  {
   "cell_type": "code",
   "execution_count": 37,
   "metadata": {},
   "outputs": [
    {
     "data": {
      "text/html": [
       "<div>\n",
       "<style scoped>\n",
       "    .dataframe tbody tr th:only-of-type {\n",
       "        vertical-align: middle;\n",
       "    }\n",
       "\n",
       "    .dataframe tbody tr th {\n",
       "        vertical-align: top;\n",
       "    }\n",
       "\n",
       "    .dataframe thead th {\n",
       "        text-align: right;\n",
       "    }\n",
       "</style>\n",
       "<table border=\"1\" class=\"dataframe\">\n",
       "  <thead>\n",
       "    <tr style=\"text-align: right;\">\n",
       "      <th></th>\n",
       "      <th>name</th>\n",
       "      <th>percent_return_on_investment</th>\n",
       "      <th>above_below_sandp_return</th>\n",
       "      <th>predictions</th>\n",
       "    </tr>\n",
       "  </thead>\n",
       "  <tbody>\n",
       "    <tr>\n",
       "      <th>0</th>\n",
       "      <td>Agilent Technologies, Inc.</td>\n",
       "      <td>215.407785</td>\n",
       "      <td>0</td>\n",
       "      <td>0</td>\n",
       "    </tr>\n",
       "    <tr>\n",
       "      <th>1</th>\n",
       "      <td>American Airlines Group, Inc.</td>\n",
       "      <td>492.976589</td>\n",
       "      <td>1</td>\n",
       "      <td>1</td>\n",
       "    </tr>\n",
       "    <tr>\n",
       "      <th>2</th>\n",
       "      <td>Advance Auto Parts, Inc.</td>\n",
       "      <td>158.290852</td>\n",
       "      <td>0</td>\n",
       "      <td>1</td>\n",
       "    </tr>\n",
       "    <tr>\n",
       "      <th>3</th>\n",
       "      <td>Apple, Inc.</td>\n",
       "      <td>641.441749</td>\n",
       "      <td>1</td>\n",
       "      <td>0</td>\n",
       "    </tr>\n",
       "    <tr>\n",
       "      <th>4</th>\n",
       "      <td>AbbVie, Inc.</td>\n",
       "      <td>127.493713</td>\n",
       "      <td>0</td>\n",
       "      <td>0</td>\n",
       "    </tr>\n",
       "  </tbody>\n",
       "</table>\n",
       "</div>"
      ],
      "text/plain": [
       "                            name  percent_return_on_investment  \\\n",
       "0     Agilent Technologies, Inc.                    215.407785   \n",
       "1  American Airlines Group, Inc.                    492.976589   \n",
       "2       Advance Auto Parts, Inc.                    158.290852   \n",
       "3                    Apple, Inc.                    641.441749   \n",
       "4                   AbbVie, Inc.                    127.493713   \n",
       "\n",
       "   above_below_sandp_return  predictions  \n",
       "0                         0            0  \n",
       "1                         1            1  \n",
       "2                         0            1  \n",
       "3                         1            0  \n",
       "4                         0            0  "
      ]
     },
     "execution_count": 37,
     "metadata": {},
     "output_type": "execute_result"
    }
   ],
   "source": [
    "sandp.head()"
   ]
  },
  {
   "cell_type": "code",
   "execution_count": 38,
   "metadata": {},
   "outputs": [
    {
     "data": {
      "text/plain": [
       "0    363\n",
       "1    105\n",
       "Name: predictions, dtype: int64"
      ]
     },
     "execution_count": 38,
     "metadata": {},
     "output_type": "execute_result"
    }
   ],
   "source": [
    "sandp['predictions'].value_counts()"
   ]
  },
  {
   "cell_type": "code",
   "execution_count": 39,
   "metadata": {},
   "outputs": [
    {
     "name": "stdout",
     "output_type": "stream",
     "text": [
      "71\n"
     ]
    }
   ],
   "source": [
    "r = 0\n",
    "predicted_positives = []\n",
    "for (x,y) in zip(sandp['predictions'],sandp['percent_return_on_investment']):\n",
    "    if x == 1:\n",
    "        predicted_positives.append(y)\n",
    "        if y > 228:\n",
    "            r += 1\n",
    "print(r)"
   ]
  },
  {
   "cell_type": "code",
   "execution_count": 40,
   "metadata": {},
   "outputs": [],
   "source": [
    "predicted = pd.DataFrame(predicted_positives)"
   ]
  },
  {
   "cell_type": "code",
   "execution_count": 41,
   "metadata": {},
   "outputs": [
    {
     "data": {
      "text/plain": [
       "105"
      ]
     },
     "execution_count": 41,
     "metadata": {},
     "output_type": "execute_result"
    }
   ],
   "source": [
    "len(predicted)"
   ]
  },
  {
   "cell_type": "code",
   "execution_count": 42,
   "metadata": {},
   "outputs": [
    {
     "data": {
      "text/plain": [
       "0.6761904761904762"
      ]
     },
     "execution_count": 42,
     "metadata": {},
     "output_type": "execute_result"
    }
   ],
   "source": [
    "r/len(predicted)"
   ]
  },
  {
   "cell_type": "code",
   "execution_count": 43,
   "metadata": {},
   "outputs": [],
   "source": [
    "for x in predicted[0]:\n",
    "    if x < 0:\n",
    "        print(x)"
   ]
  },
  {
   "cell_type": "code",
   "execution_count": 44,
   "metadata": {},
   "outputs": [],
   "source": [
    "gain = predicted.sum()"
   ]
  },
  {
   "cell_type": "code",
   "execution_count": 45,
   "metadata": {},
   "outputs": [
    {
     "data": {
      "text/plain": [
       "0    37594.153568\n",
       "dtype: float64"
      ]
     },
     "execution_count": 45,
     "metadata": {},
     "output_type": "execute_result"
    }
   ],
   "source": [
    "gain"
   ]
  },
  {
   "cell_type": "code",
   "execution_count": 72,
   "metadata": {},
   "outputs": [
    {
     "data": {
      "text/plain": [
       "0    2.580396\n",
       "dtype: float64"
      ]
     },
     "execution_count": 72,
     "metadata": {},
     "output_type": "execute_result"
    }
   ],
   "source": [
    "((gain/100 - len(predicted))/len(predicted))"
   ]
  },
  {
   "cell_type": "code",
   "execution_count": 64,
   "metadata": {},
   "outputs": [],
   "source": [
    "sandp_gain = sandp['percent_return_on_investment'].sum()"
   ]
  },
  {
   "cell_type": "code",
   "execution_count": 69,
   "metadata": {},
   "outputs": [
    {
     "data": {
      "text/plain": [
       "1.2960780933526503"
      ]
     },
     "execution_count": 69,
     "metadata": {},
     "output_type": "execute_result"
    }
   ],
   "source": [
    "((sandp_gain/100 - len(sandp['percent_return_on_investment']))/len(sandp['percent_return_on_investment']))"
   ]
  },
  {
   "cell_type": "code",
   "execution_count": 66,
   "metadata": {},
   "outputs": [
    {
     "data": {
      "text/plain": [
       "1074.5645476890404"
      ]
     },
     "execution_count": 66,
     "metadata": {},
     "output_type": "execute_result"
    }
   ],
   "source": [
    "sandp_gain/100"
   ]
  },
  {
   "cell_type": "code",
   "execution_count": 48,
   "metadata": {},
   "outputs": [],
   "source": [
    "# import pickle\n",
    "# # Save the trained model as a pickle string.\n",
    "# saved_model = pickle.dumps(classifier)"
   ]
  },
  {
   "cell_type": "code",
   "execution_count": 49,
   "metadata": {},
   "outputs": [],
   "source": [
    "# saved_model"
   ]
  },
  {
   "cell_type": "code",
   "execution_count": 170,
   "metadata": {},
   "outputs": [],
   "source": [
    "# # Load the pickled model\n",
    "# clf_from_pickle = pickle.loads(saved_model)\n",
    "\n",
    "# # Use the loaded pickled model to make predictions\n",
    "# predictions = clf_from_pickle.predict(X)\n",
    "\n",
    "# pd.DataFrame({'Prediction': predictions.ravel(), 'Actual': X}).head()"
   ]
  },
  {
   "cell_type": "code",
   "execution_count": 61,
   "metadata": {},
   "outputs": [],
   "source": [
    "# calculating the total returns for all the companies in the dataframe the 10 year span 09/10-18/19\n",
    "total_percent = sandp['percent_return_on_investment'].sum()\n",
    "total_return = (total_percent/100 - len(sandp['percent_return_on_investment']))/len(sandp['percent_return_on_investment'])"
   ]
  },
  {
   "cell_type": "code",
   "execution_count": 62,
   "metadata": {},
   "outputs": [
    {
     "data": {
      "text/plain": [
       "1.2960780933526503"
      ]
     },
     "execution_count": 62,
     "metadata": {},
     "output_type": "execute_result"
    }
   ],
   "source": [
    "total_return"
   ]
  },
  {
   "cell_type": "code",
   "execution_count": 52,
   "metadata": {},
   "outputs": [
    {
     "data": {
      "text/plain": [
       "468"
      ]
     },
     "execution_count": 52,
     "metadata": {},
     "output_type": "execute_result"
    }
   ],
   "source": [
    "len(sandp['percent_return_on_investment'])"
   ]
  },
  {
   "cell_type": "code",
   "execution_count": null,
   "metadata": {},
   "outputs": [],
   "source": []
  }
 ],
 "metadata": {
  "kernelspec": {
   "display_name": "Python 3",
   "language": "python",
   "name": "python3"
  },
  "language_info": {
   "codemirror_mode": {
    "name": "ipython",
    "version": 3
   },
   "file_extension": ".py",
   "mimetype": "text/x-python",
   "name": "python",
   "nbconvert_exporter": "python",
   "pygments_lexer": "ipython3",
   "version": "3.7.3"
  }
 },
 "nbformat": 4,
 "nbformat_minor": 2
}
