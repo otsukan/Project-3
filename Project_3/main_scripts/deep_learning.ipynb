{
 "cells": [
  {
   "cell_type": "code",
   "execution_count": 1,
   "metadata": {},
   "outputs": [],
   "source": [
    "# importing necessary modules.\n",
    "import pandas as pd\n",
    "import config9 as cfg\n",
    "from sqlalchemy import create_engine\n",
    "import numpy as np\n",
    "import matplotlib.pyplot as plt"
   ]
  },
  {
   "cell_type": "code",
   "execution_count": 2,
   "metadata": {},
   "outputs": [],
   "source": [
    "postgres_password = cfg.password\n",
    "database_name = 'optimal_portfolio'"
   ]
  },
  {
   "cell_type": "code",
   "execution_count": 3,
   "metadata": {},
   "outputs": [],
   "source": [
    "# creating a connection to an aws rds postgres cloud database.\n",
    "rds_connection_string = f'postgres:{postgres_password}@localhost:5432/{database_name}'\n",
    "engine = create_engine(f'postgres://{rds_connection_string}')"
   ]
  },
  {
   "cell_type": "code",
   "execution_count": 4,
   "metadata": {},
   "outputs": [
    {
     "data": {
      "text/plain": [
       "['sandp']"
      ]
     },
     "execution_count": 4,
     "metadata": {},
     "output_type": "execute_result"
    }
   ],
   "source": [
    "# checking out the table names in the database.\n",
    "engine.table_names()"
   ]
  },
  {
   "cell_type": "code",
   "execution_count": 5,
   "metadata": {},
   "outputs": [
    {
     "data": {
      "text/html": [
       "<div>\n",
       "<style scoped>\n",
       "    .dataframe tbody tr th:only-of-type {\n",
       "        vertical-align: middle;\n",
       "    }\n",
       "\n",
       "    .dataframe tbody tr th {\n",
       "        vertical-align: top;\n",
       "    }\n",
       "\n",
       "    .dataframe thead th {\n",
       "        text-align: right;\n",
       "    }\n",
       "</style>\n",
       "<table border=\"1\" class=\"dataframe\">\n",
       "  <thead>\n",
       "    <tr style=\"text-align: right;\">\n",
       "      <th></th>\n",
       "      <th>symbol</th>\n",
       "      <th>name</th>\n",
       "      <th>price_to_bookvalue</th>\n",
       "      <th>price_to_book</th>\n",
       "      <th>price_to_sales</th>\n",
       "      <th>price_to_earnings</th>\n",
       "      <th>receivables_turnover</th>\n",
       "      <th>price_to_free_cash_flow</th>\n",
       "      <th>price_to_operating_cash_flow</th>\n",
       "      <th>enterprise_value_multiple</th>\n",
       "      <th>...</th>\n",
       "      <th>inventory_growth</th>\n",
       "      <th>asset_growth</th>\n",
       "      <th>book_value_per_share_growth</th>\n",
       "      <th>debt_growth</th>\n",
       "      <th>randd_expense_growth</th>\n",
       "      <th>sganda_expense_growth</th>\n",
       "      <th>percent_return_on_investment</th>\n",
       "      <th>industry</th>\n",
       "      <th>sector</th>\n",
       "      <th>above_below_sandp_return</th>\n",
       "    </tr>\n",
       "  </thead>\n",
       "  <tbody>\n",
       "    <tr>\n",
       "      <th>0</th>\n",
       "      <td>A</td>\n",
       "      <td>Agilent Technologies, Inc.</td>\n",
       "      <td>2.55170</td>\n",
       "      <td>5.17165</td>\n",
       "      <td>1.48130</td>\n",
       "      <td>6.30885</td>\n",
       "      <td>7.0014</td>\n",
       "      <td>18.1807</td>\n",
       "      <td>13.57995</td>\n",
       "      <td>16.746223</td>\n",
       "      <td>...</td>\n",
       "      <td>0.0758</td>\n",
       "      <td>0.18005</td>\n",
       "      <td>0.15185</td>\n",
       "      <td>0.31885</td>\n",
       "      <td>-0.0674</td>\n",
       "      <td>0.01880</td>\n",
       "      <td>215.407785</td>\n",
       "      <td>Medical Diagnostics &amp; Research</td>\n",
       "      <td>Healthcare</td>\n",
       "      <td>0</td>\n",
       "    </tr>\n",
       "    <tr>\n",
       "      <th>1</th>\n",
       "      <td>AAL</td>\n",
       "      <td>American Airlines Group, Inc.</td>\n",
       "      <td>-99.00000</td>\n",
       "      <td>-99.00000</td>\n",
       "      <td>0.11565</td>\n",
       "      <td>-99.00000</td>\n",
       "      <td>27.3348</td>\n",
       "      <td>-99.0000</td>\n",
       "      <td>2.20925</td>\n",
       "      <td>61.812855</td>\n",
       "      <td>...</td>\n",
       "      <td>0.0637</td>\n",
       "      <td>-0.00170</td>\n",
       "      <td>-0.06235</td>\n",
       "      <td>0.00975</td>\n",
       "      <td>-99.0000</td>\n",
       "      <td>0.01435</td>\n",
       "      <td>492.976589</td>\n",
       "      <td>Airlines</td>\n",
       "      <td>Industrials</td>\n",
       "      <td>1</td>\n",
       "    </tr>\n",
       "    <tr>\n",
       "      <th>2</th>\n",
       "      <td>AAP</td>\n",
       "      <td>Advance Auto Parts, Inc.</td>\n",
       "      <td>2.95660</td>\n",
       "      <td>3.10380</td>\n",
       "      <td>0.70600</td>\n",
       "      <td>14.16840</td>\n",
       "      <td>57.0461</td>\n",
       "      <td>7.4185</td>\n",
       "      <td>5.46130</td>\n",
       "      <td>0.499984</td>\n",
       "      <td>...</td>\n",
       "      <td>0.0054</td>\n",
       "      <td>0.03670</td>\n",
       "      <td>0.19520</td>\n",
       "      <td>-0.57150</td>\n",
       "      <td>-99.0000</td>\n",
       "      <td>0.10360</td>\n",
       "      <td>158.290852</td>\n",
       "      <td>Retail - Apparel &amp; Specialty</td>\n",
       "      <td>Consumer Cyclical</td>\n",
       "      <td>0</td>\n",
       "    </tr>\n",
       "    <tr>\n",
       "      <th>3</th>\n",
       "      <td>AAPL</td>\n",
       "      <td>Apple, Inc.</td>\n",
       "      <td>5.42765</td>\n",
       "      <td>4.62715</td>\n",
       "      <td>3.98235</td>\n",
       "      <td>19.54495</td>\n",
       "      <td>10.0906</td>\n",
       "      <td>17.3279</td>\n",
       "      <td>15.35960</td>\n",
       "      <td>0.493341</td>\n",
       "      <td>...</td>\n",
       "      <td>0.6019</td>\n",
       "      <td>0.44800</td>\n",
       "      <td>0.44245</td>\n",
       "      <td>-99.00000</td>\n",
       "      <td>0.2694</td>\n",
       "      <td>0.21645</td>\n",
       "      <td>641.441749</td>\n",
       "      <td>Computer Hardware</td>\n",
       "      <td>Technology</td>\n",
       "      <td>1</td>\n",
       "    </tr>\n",
       "    <tr>\n",
       "      <th>4</th>\n",
       "      <td>ABBV</td>\n",
       "      <td>AbbVie, Inc.</td>\n",
       "      <td>16.46870</td>\n",
       "      <td>-99.00000</td>\n",
       "      <td>3.01900</td>\n",
       "      <td>10.48360</td>\n",
       "      <td>-99.0000</td>\n",
       "      <td>9.2123</td>\n",
       "      <td>8.74540</td>\n",
       "      <td>0.001609</td>\n",
       "      <td>...</td>\n",
       "      <td>-99.0000</td>\n",
       "      <td>-99.00000</td>\n",
       "      <td>-99.00000</td>\n",
       "      <td>-99.00000</td>\n",
       "      <td>0.4613</td>\n",
       "      <td>0.14080</td>\n",
       "      <td>127.493713</td>\n",
       "      <td>Drug Manufacturers</td>\n",
       "      <td>Healthcare</td>\n",
       "      <td>0</td>\n",
       "    </tr>\n",
       "  </tbody>\n",
       "</table>\n",
       "<p>5 rows × 84 columns</p>\n",
       "</div>"
      ],
      "text/plain": [
       "  symbol                           name  price_to_bookvalue  price_to_book  \\\n",
       "0      A     Agilent Technologies, Inc.             2.55170        5.17165   \n",
       "1    AAL  American Airlines Group, Inc.           -99.00000      -99.00000   \n",
       "2    AAP       Advance Auto Parts, Inc.             2.95660        3.10380   \n",
       "3   AAPL                    Apple, Inc.             5.42765        4.62715   \n",
       "4   ABBV                   AbbVie, Inc.            16.46870      -99.00000   \n",
       "\n",
       "   price_to_sales  price_to_earnings  receivables_turnover  \\\n",
       "0         1.48130            6.30885                7.0014   \n",
       "1         0.11565          -99.00000               27.3348   \n",
       "2         0.70600           14.16840               57.0461   \n",
       "3         3.98235           19.54495               10.0906   \n",
       "4         3.01900           10.48360              -99.0000   \n",
       "\n",
       "   price_to_free_cash_flow  price_to_operating_cash_flow  \\\n",
       "0                  18.1807                      13.57995   \n",
       "1                 -99.0000                       2.20925   \n",
       "2                   7.4185                       5.46130   \n",
       "3                  17.3279                      15.35960   \n",
       "4                   9.2123                       8.74540   \n",
       "\n",
       "   enterprise_value_multiple  ...  inventory_growth  asset_growth  \\\n",
       "0                  16.746223  ...            0.0758       0.18005   \n",
       "1                  61.812855  ...            0.0637      -0.00170   \n",
       "2                   0.499984  ...            0.0054       0.03670   \n",
       "3                   0.493341  ...            0.6019       0.44800   \n",
       "4                   0.001609  ...          -99.0000     -99.00000   \n",
       "\n",
       "   book_value_per_share_growth  debt_growth  randd_expense_growth  \\\n",
       "0                      0.15185      0.31885               -0.0674   \n",
       "1                     -0.06235      0.00975              -99.0000   \n",
       "2                      0.19520     -0.57150              -99.0000   \n",
       "3                      0.44245    -99.00000                0.2694   \n",
       "4                    -99.00000    -99.00000                0.4613   \n",
       "\n",
       "   sganda_expense_growth  percent_return_on_investment  \\\n",
       "0                0.01880                    215.407785   \n",
       "1                0.01435                    492.976589   \n",
       "2                0.10360                    158.290852   \n",
       "3                0.21645                    641.441749   \n",
       "4                0.14080                    127.493713   \n",
       "\n",
       "                         industry             sector  above_below_sandp_return  \n",
       "0  Medical Diagnostics & Research         Healthcare                         0  \n",
       "1                        Airlines        Industrials                         1  \n",
       "2    Retail - Apparel & Specialty  Consumer Cyclical                         0  \n",
       "3               Computer Hardware         Technology                         1  \n",
       "4              Drug Manufacturers         Healthcare                         0  \n",
       "\n",
       "[5 rows x 84 columns]"
      ]
     },
     "execution_count": 5,
     "metadata": {},
     "output_type": "execute_result"
    }
   ],
   "source": [
    "# checking out the SandP_500 table.\n",
    "sandp = pd.read_sql_query('SELECT * FROM sandp', con=engine)\n",
    "sandp.head()"
   ]
  },
  {
   "cell_type": "code",
   "execution_count": 6,
   "metadata": {},
   "outputs": [],
   "source": [
    "# converting industry columns into 1's and 0's.\n",
    "industry = pd.get_dummies(sandp['industry'])"
   ]
  },
  {
   "cell_type": "code",
   "execution_count": 7,
   "metadata": {},
   "outputs": [
    {
     "data": {
      "text/plain": [
       "Index(['Basic Materials', 'Communication Services', 'Consumer Cyclical',\n",
       "       'Consumer Defensive', 'Energy', 'Financial Services', 'Healthcare',\n",
       "       'Industrials', 'Real Estate', 'Technology', 'Utilities'],\n",
       "      dtype='object')"
      ]
     },
     "execution_count": 7,
     "metadata": {},
     "output_type": "execute_result"
    }
   ],
   "source": [
    "# converting sector columns into 1's and 0's.\n",
    "sector = pd.get_dummies(sandp['sector'])\n",
    "sector.columns"
   ]
  },
  {
   "cell_type": "code",
   "execution_count": 8,
   "metadata": {},
   "outputs": [],
   "source": [
    "# bringing everything together.\n",
    "sandp = pd.concat([sandp, industry, sector], axis=1)"
   ]
  },
  {
   "cell_type": "code",
   "execution_count": 9,
   "metadata": {},
   "outputs": [],
   "source": [
    "X = sandp[['net_income_growth','short_term_coverage_ratio','eps_diluted_growth', 'gross_profit_margin', 'price_to_book', 'price_to_sales', 'price_to_free_cash_flow', 'asset_growth', 'Airlines',\n",
    "'Computer Hardware','Drug Manufacturers', 'Medical Devices','Application Software', 'Semiconductors','Consumer Packaged Goods', \n",
    "'Business Services', 'Credit Services','Utilities - Regulated', 'Insurance - Life', 'REITs','Brokers & Exchanges','Biotechnology',\n",
    "'Asset Management', 'Online Media','Oil & Gas - E&P','Autos', 'Banks', 'Travel & Leisure', 'Entertainment','Agriculture',\n",
    "'Transportation & Logistics','Oil & Gas - Integrated','Industrial Distribution','Metals & Mining','Oil & Gas - Services',\n",
    "'Personal Services','Engineering & Construction', 'Oil & Gas - Midstream','Beverages - Non-Alcoholic', 'Truck Manufacturing', \n",
    "'Employment Services', 'Forest Products']]\n",
    "target = sandp['above_below_sandp_return']"
   ]
  },
  {
   "cell_type": "code",
   "execution_count": 10,
   "metadata": {},
   "outputs": [],
   "source": [
    "# dropping unnecessary columns.\n",
    "sandp.drop(['symbol', 'name', 'percent_return_on_investment'], axis=1, inplace=True)"
   ]
  },
  {
   "cell_type": "code",
   "execution_count": 11,
   "metadata": {},
   "outputs": [],
   "source": [
    "from sklearn.model_selection import train_test_split\n",
    "X_train, X_test, target_train, target_test = train_test_split(X, target, random_state=1)"
   ]
  },
  {
   "cell_type": "code",
   "execution_count": 12,
   "metadata": {},
   "outputs": [],
   "source": [
    "from sklearn.preprocessing import StandardScaler\n",
    "X_scaler = StandardScaler().fit(X_train)"
   ]
  },
  {
   "cell_type": "code",
   "execution_count": 13,
   "metadata": {},
   "outputs": [],
   "source": [
    "X_trained_scaled = X_scaler.transform(X_train)\n",
    "X_test_scaled = X_scaler.transform(X_test)"
   ]
  },
  {
   "cell_type": "code",
   "execution_count": 14,
   "metadata": {},
   "outputs": [],
   "source": [
    "from tensorflow.keras.utils import to_categorical\n",
    "# One-hot encoding\n",
    "target_train_categorical = to_categorical(target_train)\n",
    "target_test_categorical = to_categorical(target_test)"
   ]
  },
  {
   "cell_type": "code",
   "execution_count": 15,
   "metadata": {},
   "outputs": [],
   "source": [
    "from tensorflow.keras.models import Sequential \n",
    "from tensorflow.keras.layers import Dense\n",
    "model = Sequential()\n",
    "model.add(Dense(units=500, activation=\"relu\", input_dim=42))\n",
    "model.add(Dense(units=2, activation='softmax'))"
   ]
  },
  {
   "cell_type": "code",
   "execution_count": 16,
   "metadata": {},
   "outputs": [
    {
     "name": "stdout",
     "output_type": "stream",
     "text": [
      "Model: \"sequential\"\n",
      "_________________________________________________________________\n",
      "Layer (type)                 Output Shape              Param #   \n",
      "=================================================================\n",
      "dense (Dense)                (None, 500)               21500     \n",
      "_________________________________________________________________\n",
      "dense_1 (Dense)              (None, 2)                 1002      \n",
      "=================================================================\n",
      "Total params: 22,502\n",
      "Trainable params: 22,502\n",
      "Non-trainable params: 0\n",
      "_________________________________________________________________\n"
     ]
    }
   ],
   "source": [
    "model.summary()"
   ]
  },
  {
   "cell_type": "code",
   "execution_count": 17,
   "metadata": {},
   "outputs": [
    {
     "name": "stderr",
     "output_type": "stream",
     "text": [
      "Using TensorFlow backend.\n"
     ]
    }
   ],
   "source": [
    "import keras\n",
    "import keras_metrics as km\n",
    "# compiling the model.\n",
    "model.compile(optimizer=\"adam\",\n",
    "             loss=\"categorical_crossentropy\",\n",
    "             metrics=['accuracy'])"
   ]
  },
  {
   "cell_type": "code",
   "execution_count": 18,
   "metadata": {},
   "outputs": [
    {
     "name": "stdout",
     "output_type": "stream",
     "text": [
      "Train on 351 samples\n",
      "Epoch 1/100\n",
      "351/351 - 1s - loss: 0.6267 - accuracy: 0.6353\n",
      "Epoch 2/100\n",
      "351/351 - 0s - loss: 0.5266 - accuracy: 0.7293\n",
      "Epoch 3/100\n",
      "351/351 - 0s - loss: 0.4950 - accuracy: 0.7379\n",
      "Epoch 4/100\n",
      "351/351 - 0s - loss: 0.4788 - accuracy: 0.7436\n",
      "Epoch 5/100\n",
      "351/351 - 0s - loss: 0.4694 - accuracy: 0.7493\n",
      "Epoch 6/100\n",
      "351/351 - 0s - loss: 0.4648 - accuracy: 0.7607\n",
      "Epoch 7/100\n",
      "351/351 - 0s - loss: 0.4610 - accuracy: 0.7607\n",
      "Epoch 8/100\n",
      "351/351 - 0s - loss: 0.4555 - accuracy: 0.7692\n",
      "Epoch 9/100\n",
      "351/351 - 0s - loss: 0.4545 - accuracy: 0.7721\n",
      "Epoch 10/100\n",
      "351/351 - 0s - loss: 0.4489 - accuracy: 0.7749\n",
      "Epoch 11/100\n",
      "351/351 - 0s - loss: 0.4447 - accuracy: 0.7749\n",
      "Epoch 12/100\n",
      "351/351 - 0s - loss: 0.4436 - accuracy: 0.7778\n",
      "Epoch 13/100\n",
      "351/351 - 0s - loss: 0.4388 - accuracy: 0.7778\n",
      "Epoch 14/100\n",
      "351/351 - 0s - loss: 0.4372 - accuracy: 0.7863\n",
      "Epoch 15/100\n",
      "351/351 - 0s - loss: 0.4359 - accuracy: 0.7835\n",
      "Epoch 16/100\n",
      "351/351 - 0s - loss: 0.4333 - accuracy: 0.7806\n",
      "Epoch 17/100\n",
      "351/351 - 0s - loss: 0.4343 - accuracy: 0.7863\n",
      "Epoch 18/100\n",
      "351/351 - 0s - loss: 0.4304 - accuracy: 0.7692\n",
      "Epoch 19/100\n",
      "351/351 - 0s - loss: 0.4273 - accuracy: 0.7778\n",
      "Epoch 20/100\n",
      "351/351 - 0s - loss: 0.4219 - accuracy: 0.7692\n",
      "Epoch 21/100\n",
      "351/351 - 0s - loss: 0.4209 - accuracy: 0.7806\n",
      "Epoch 22/100\n",
      "351/351 - 0s - loss: 0.4183 - accuracy: 0.7949\n",
      "Epoch 23/100\n",
      "351/351 - 0s - loss: 0.4177 - accuracy: 0.7835\n",
      "Epoch 24/100\n",
      "351/351 - 0s - loss: 0.4145 - accuracy: 0.7806\n",
      "Epoch 25/100\n",
      "351/351 - 0s - loss: 0.4155 - accuracy: 0.7863\n",
      "Epoch 26/100\n",
      "351/351 - 0s - loss: 0.4109 - accuracy: 0.7920\n",
      "Epoch 27/100\n",
      "351/351 - 0s - loss: 0.4097 - accuracy: 0.8034\n",
      "Epoch 28/100\n",
      "351/351 - 0s - loss: 0.4053 - accuracy: 0.8034\n",
      "Epoch 29/100\n",
      "351/351 - 0s - loss: 0.4029 - accuracy: 0.8091\n",
      "Epoch 30/100\n",
      "351/351 - 0s - loss: 0.4047 - accuracy: 0.8006\n",
      "Epoch 31/100\n",
      "351/351 - 0s - loss: 0.4006 - accuracy: 0.8034\n",
      "Epoch 32/100\n",
      "351/351 - 0s - loss: 0.3969 - accuracy: 0.8006\n",
      "Epoch 33/100\n",
      "351/351 - 0s - loss: 0.3926 - accuracy: 0.8091\n",
      "Epoch 34/100\n",
      "351/351 - 0s - loss: 0.3908 - accuracy: 0.8120\n",
      "Epoch 35/100\n",
      "351/351 - 0s - loss: 0.3918 - accuracy: 0.8091\n",
      "Epoch 36/100\n",
      "351/351 - 0s - loss: 0.3928 - accuracy: 0.8063\n",
      "Epoch 37/100\n",
      "351/351 - 0s - loss: 0.3871 - accuracy: 0.8120\n",
      "Epoch 38/100\n",
      "351/351 - 0s - loss: 0.3866 - accuracy: 0.8177\n",
      "Epoch 39/100\n",
      "351/351 - 0s - loss: 0.3806 - accuracy: 0.8120\n",
      "Epoch 40/100\n",
      "351/351 - 0s - loss: 0.3855 - accuracy: 0.8177\n",
      "Epoch 41/100\n",
      "351/351 - 0s - loss: 0.3804 - accuracy: 0.8091\n",
      "Epoch 42/100\n",
      "351/351 - 0s - loss: 0.3812 - accuracy: 0.8120\n",
      "Epoch 43/100\n",
      "351/351 - 0s - loss: 0.3796 - accuracy: 0.8091\n",
      "Epoch 44/100\n",
      "351/351 - 0s - loss: 0.3715 - accuracy: 0.8205\n",
      "Epoch 45/100\n",
      "351/351 - 0s - loss: 0.3729 - accuracy: 0.8262\n",
      "Epoch 46/100\n",
      "351/351 - 0s - loss: 0.3689 - accuracy: 0.8262\n",
      "Epoch 47/100\n",
      "351/351 - 0s - loss: 0.3640 - accuracy: 0.8234\n",
      "Epoch 48/100\n",
      "351/351 - 0s - loss: 0.3651 - accuracy: 0.8205\n",
      "Epoch 49/100\n",
      "351/351 - 0s - loss: 0.3639 - accuracy: 0.8376\n",
      "Epoch 50/100\n",
      "351/351 - 0s - loss: 0.3621 - accuracy: 0.8262\n",
      "Epoch 51/100\n",
      "351/351 - 0s - loss: 0.3575 - accuracy: 0.8405\n",
      "Epoch 52/100\n",
      "351/351 - 0s - loss: 0.3579 - accuracy: 0.8348\n",
      "Epoch 53/100\n",
      "351/351 - 0s - loss: 0.3529 - accuracy: 0.8291\n",
      "Epoch 54/100\n",
      "351/351 - 0s - loss: 0.3526 - accuracy: 0.8376\n",
      "Epoch 55/100\n",
      "351/351 - 0s - loss: 0.3549 - accuracy: 0.8462\n",
      "Epoch 56/100\n",
      "351/351 - 0s - loss: 0.3513 - accuracy: 0.8433\n",
      "Epoch 57/100\n",
      "351/351 - 0s - loss: 0.3505 - accuracy: 0.8519\n",
      "Epoch 58/100\n",
      "351/351 - 0s - loss: 0.3468 - accuracy: 0.8519\n",
      "Epoch 59/100\n",
      "351/351 - 0s - loss: 0.3462 - accuracy: 0.8376\n",
      "Epoch 60/100\n",
      "351/351 - 0s - loss: 0.3436 - accuracy: 0.8490\n",
      "Epoch 61/100\n",
      "351/351 - 0s - loss: 0.3470 - accuracy: 0.8348\n",
      "Epoch 62/100\n",
      "351/351 - 0s - loss: 0.3386 - accuracy: 0.8433\n",
      "Epoch 63/100\n",
      "351/351 - 0s - loss: 0.3418 - accuracy: 0.8376\n",
      "Epoch 64/100\n",
      "351/351 - 0s - loss: 0.3402 - accuracy: 0.8462\n",
      "Epoch 65/100\n",
      "351/351 - 0s - loss: 0.3358 - accuracy: 0.8519\n",
      "Epoch 66/100\n",
      "351/351 - 0s - loss: 0.3345 - accuracy: 0.8433\n",
      "Epoch 67/100\n",
      "351/351 - 0s - loss: 0.3356 - accuracy: 0.8547\n",
      "Epoch 68/100\n",
      "351/351 - 0s - loss: 0.3327 - accuracy: 0.8405\n",
      "Epoch 69/100\n",
      "351/351 - 0s - loss: 0.3292 - accuracy: 0.8462\n",
      "Epoch 70/100\n",
      "351/351 - 0s - loss: 0.3291 - accuracy: 0.8433\n",
      "Epoch 71/100\n",
      "351/351 - 0s - loss: 0.3260 - accuracy: 0.8547\n",
      "Epoch 72/100\n",
      "351/351 - 0s - loss: 0.3272 - accuracy: 0.8519\n",
      "Epoch 73/100\n",
      "351/351 - 0s - loss: 0.3261 - accuracy: 0.8519\n",
      "Epoch 74/100\n",
      "351/351 - 0s - loss: 0.3233 - accuracy: 0.8575\n",
      "Epoch 75/100\n",
      "351/351 - 0s - loss: 0.3178 - accuracy: 0.8490\n",
      "Epoch 76/100\n",
      "351/351 - 0s - loss: 0.3201 - accuracy: 0.8575\n",
      "Epoch 77/100\n",
      "351/351 - 0s - loss: 0.3201 - accuracy: 0.8547\n",
      "Epoch 78/100\n",
      "351/351 - 0s - loss: 0.3163 - accuracy: 0.8490\n",
      "Epoch 79/100\n",
      "351/351 - 0s - loss: 0.3294 - accuracy: 0.8433\n",
      "Epoch 80/100\n",
      "351/351 - 0s - loss: 0.3189 - accuracy: 0.8490\n",
      "Epoch 81/100\n",
      "351/351 - 0s - loss: 0.3133 - accuracy: 0.8575\n",
      "Epoch 82/100\n",
      "351/351 - 0s - loss: 0.3086 - accuracy: 0.8519\n",
      "Epoch 83/100\n",
      "351/351 - 0s - loss: 0.3086 - accuracy: 0.8575\n",
      "Epoch 84/100\n",
      "351/351 - 0s - loss: 0.3100 - accuracy: 0.8490\n",
      "Epoch 85/100\n",
      "351/351 - 0s - loss: 0.3056 - accuracy: 0.8575\n",
      "Epoch 86/100\n",
      "351/351 - 0s - loss: 0.3052 - accuracy: 0.8632\n",
      "Epoch 87/100\n",
      "351/351 - 0s - loss: 0.3045 - accuracy: 0.8604\n",
      "Epoch 88/100\n",
      "351/351 - 0s - loss: 0.3035 - accuracy: 0.8689\n",
      "Epoch 89/100\n",
      "351/351 - 0s - loss: 0.2995 - accuracy: 0.8575\n",
      "Epoch 90/100\n",
      "351/351 - 0s - loss: 0.2977 - accuracy: 0.8746\n",
      "Epoch 91/100\n",
      "351/351 - 0s - loss: 0.2977 - accuracy: 0.8746\n",
      "Epoch 92/100\n",
      "351/351 - 0s - loss: 0.3004 - accuracy: 0.8632\n",
      "Epoch 93/100\n",
      "351/351 - 0s - loss: 0.2937 - accuracy: 0.8718\n",
      "Epoch 94/100\n",
      "351/351 - 0s - loss: 0.2960 - accuracy: 0.8661\n",
      "Epoch 95/100\n",
      "351/351 - 0s - loss: 0.2969 - accuracy: 0.8604\n",
      "Epoch 96/100\n",
      "351/351 - 0s - loss: 0.2937 - accuracy: 0.8718\n",
      "Epoch 97/100\n",
      "351/351 - 0s - loss: 0.2908 - accuracy: 0.8718\n",
      "Epoch 98/100\n",
      "351/351 - 0s - loss: 0.2905 - accuracy: 0.8661\n",
      "Epoch 99/100\n",
      "351/351 - 0s - loss: 0.2903 - accuracy: 0.8632\n",
      "Epoch 100/100\n",
      "351/351 - 0s - loss: 0.2864 - accuracy: 0.8718\n"
     ]
    },
    {
     "data": {
      "text/plain": [
       "<tensorflow.python.keras.callbacks.History at 0x221f4e943c8>"
      ]
     },
     "execution_count": 18,
     "metadata": {},
     "output_type": "execute_result"
    }
   ],
   "source": [
    "# fitting the model to the training data.\n",
    "model.fit(\n",
    "    X_trained_scaled,\n",
    "    target_train_categorical,\n",
    "    epochs=100,\n",
    "    shuffle=True,\n",
    "    verbose=2\n",
    ")"
   ]
  },
  {
   "cell_type": "code",
   "execution_count": 19,
   "metadata": {},
   "outputs": [],
   "source": [
    "deep_model = Sequential()\n",
    "deep_model.add(Dense(units=500, activation=\"relu\", input_dim=42))\n",
    "deep_model.add(Dense(units=500, activation=\"relu\"))\n",
    "deep_model.add(Dense(units=2, activation='softmax'))"
   ]
  },
  {
   "cell_type": "code",
   "execution_count": 20,
   "metadata": {},
   "outputs": [
    {
     "name": "stdout",
     "output_type": "stream",
     "text": [
      "Model: \"sequential\"\n",
      "_________________________________________________________________\n",
      "Layer (type)                 Output Shape              Param #   \n",
      "=================================================================\n",
      "dense (Dense)                (None, 500)               21500     \n",
      "_________________________________________________________________\n",
      "dense_1 (Dense)              (None, 2)                 1002      \n",
      "=================================================================\n",
      "Total params: 22,502\n",
      "Trainable params: 22,502\n",
      "Non-trainable params: 0\n",
      "_________________________________________________________________\n"
     ]
    }
   ],
   "source": [
    "model.summary()"
   ]
  },
  {
   "cell_type": "code",
   "execution_count": 21,
   "metadata": {},
   "outputs": [],
   "source": [
    "deep_model.compile(optimizer=\"adam\",\n",
    "                   loss=\"categorical_crossentropy\",\n",
    "                   metrics=['accuracy']\n",
    "    )"
   ]
  },
  {
   "cell_type": "code",
   "execution_count": 22,
   "metadata": {},
   "outputs": [
    {
     "name": "stdout",
     "output_type": "stream",
     "text": [
      "Train on 351 samples\n",
      "Epoch 1/100\n",
      "351/351 - 0s - loss: 0.6229 - accuracy: 0.6695\n",
      "Epoch 2/100\n",
      "351/351 - 0s - loss: 0.5094 - accuracy: 0.7322\n",
      "Epoch 3/100\n",
      "351/351 - 0s - loss: 0.4821 - accuracy: 0.7493\n",
      "Epoch 4/100\n",
      "351/351 - 0s - loss: 0.4607 - accuracy: 0.7635\n",
      "Epoch 5/100\n",
      "351/351 - 0s - loss: 0.4519 - accuracy: 0.7664\n",
      "Epoch 6/100\n",
      "351/351 - 0s - loss: 0.4472 - accuracy: 0.7664\n",
      "Epoch 7/100\n",
      "351/351 - 0s - loss: 0.4395 - accuracy: 0.7749\n",
      "Epoch 8/100\n",
      "351/351 - 0s - loss: 0.4337 - accuracy: 0.7721\n",
      "Epoch 9/100\n",
      "351/351 - 0s - loss: 0.4345 - accuracy: 0.7692\n",
      "Epoch 10/100\n",
      "351/351 - 0s - loss: 0.4420 - accuracy: 0.7721\n",
      "Epoch 11/100\n",
      "351/351 - 0s - loss: 0.4097 - accuracy: 0.7949\n",
      "Epoch 12/100\n",
      "351/351 - 0s - loss: 0.4135 - accuracy: 0.7749\n",
      "Epoch 13/100\n",
      "351/351 - 0s - loss: 0.4083 - accuracy: 0.8034\n",
      "Epoch 14/100\n",
      "351/351 - 0s - loss: 0.3976 - accuracy: 0.8006\n",
      "Epoch 15/100\n",
      "351/351 - 0s - loss: 0.4001 - accuracy: 0.7977\n",
      "Epoch 16/100\n",
      "351/351 - 0s - loss: 0.3966 - accuracy: 0.7920\n",
      "Epoch 17/100\n",
      "351/351 - 0s - loss: 0.3762 - accuracy: 0.8177\n",
      "Epoch 18/100\n",
      "351/351 - 0s - loss: 0.3783 - accuracy: 0.8148\n",
      "Epoch 19/100\n",
      "351/351 - 0s - loss: 0.3873 - accuracy: 0.7977\n",
      "Epoch 20/100\n",
      "351/351 - 0s - loss: 0.3631 - accuracy: 0.8262\n",
      "Epoch 21/100\n",
      "351/351 - 0s - loss: 0.3696 - accuracy: 0.8177\n",
      "Epoch 22/100\n",
      "351/351 - 0s - loss: 0.3610 - accuracy: 0.8291\n",
      "Epoch 23/100\n",
      "351/351 - 0s - loss: 0.3470 - accuracy: 0.8319\n",
      "Epoch 24/100\n",
      "351/351 - 0s - loss: 0.3479 - accuracy: 0.8148\n",
      "Epoch 25/100\n",
      "351/351 - 0s - loss: 0.3401 - accuracy: 0.8177\n",
      "Epoch 26/100\n",
      "351/351 - 0s - loss: 0.3505 - accuracy: 0.8490\n",
      "Epoch 27/100\n",
      "351/351 - 0s - loss: 0.3466 - accuracy: 0.8234\n",
      "Epoch 28/100\n",
      "351/351 - 0s - loss: 0.3348 - accuracy: 0.8462\n",
      "Epoch 29/100\n",
      "351/351 - 0s - loss: 0.3237 - accuracy: 0.8462\n",
      "Epoch 30/100\n",
      "351/351 - 0s - loss: 0.3177 - accuracy: 0.8661\n",
      "Epoch 31/100\n",
      "351/351 - 0s - loss: 0.3062 - accuracy: 0.8575\n",
      "Epoch 32/100\n",
      "351/351 - 0s - loss: 0.3099 - accuracy: 0.8490\n",
      "Epoch 33/100\n",
      "351/351 - 0s - loss: 0.2993 - accuracy: 0.8689\n",
      "Epoch 34/100\n",
      "351/351 - 0s - loss: 0.3093 - accuracy: 0.8547\n",
      "Epoch 35/100\n",
      "351/351 - 0s - loss: 0.2957 - accuracy: 0.8661\n",
      "Epoch 36/100\n",
      "351/351 - 0s - loss: 0.2927 - accuracy: 0.8575\n",
      "Epoch 37/100\n",
      "351/351 - 0s - loss: 0.3019 - accuracy: 0.8661\n",
      "Epoch 38/100\n",
      "351/351 - 0s - loss: 0.2756 - accuracy: 0.8803\n",
      "Epoch 39/100\n",
      "351/351 - 0s - loss: 0.2788 - accuracy: 0.8604\n",
      "Epoch 40/100\n",
      "351/351 - 0s - loss: 0.2822 - accuracy: 0.8632\n",
      "Epoch 41/100\n",
      "351/351 - 0s - loss: 0.2630 - accuracy: 0.8775\n",
      "Epoch 42/100\n",
      "351/351 - 0s - loss: 0.2694 - accuracy: 0.8746\n",
      "Epoch 43/100\n",
      "351/351 - 0s - loss: 0.3139 - accuracy: 0.8490\n",
      "Epoch 44/100\n",
      "351/351 - 0s - loss: 0.2820 - accuracy: 0.8718\n",
      "Epoch 45/100\n",
      "351/351 - 0s - loss: 0.2806 - accuracy: 0.8775\n",
      "Epoch 46/100\n",
      "351/351 - 0s - loss: 0.2553 - accuracy: 0.8832\n",
      "Epoch 47/100\n",
      "351/351 - 0s - loss: 0.2509 - accuracy: 0.8661\n",
      "Epoch 48/100\n",
      "351/351 - 0s - loss: 0.2456 - accuracy: 0.8974\n",
      "Epoch 49/100\n",
      "351/351 - 0s - loss: 0.2543 - accuracy: 0.8718\n",
      "Epoch 50/100\n",
      "351/351 - 0s - loss: 0.2514 - accuracy: 0.8832\n",
      "Epoch 51/100\n",
      "351/351 - 0s - loss: 0.2456 - accuracy: 0.8889\n",
      "Epoch 52/100\n",
      "351/351 - 0s - loss: 0.2274 - accuracy: 0.9088\n",
      "Epoch 53/100\n",
      "351/351 - 0s - loss: 0.2238 - accuracy: 0.9003\n",
      "Epoch 54/100\n",
      "351/351 - 0s - loss: 0.2174 - accuracy: 0.9088\n",
      "Epoch 55/100\n",
      "351/351 - 0s - loss: 0.2223 - accuracy: 0.9003\n",
      "Epoch 56/100\n",
      "351/351 - 0s - loss: 0.2165 - accuracy: 0.9088\n",
      "Epoch 57/100\n",
      "351/351 - 0s - loss: 0.2597 - accuracy: 0.8803\n",
      "Epoch 58/100\n",
      "351/351 - 0s - loss: 0.2139 - accuracy: 0.9088\n",
      "Epoch 59/100\n",
      "351/351 - 0s - loss: 0.2064 - accuracy: 0.9117\n",
      "Epoch 60/100\n",
      "351/351 - 0s - loss: 0.2048 - accuracy: 0.9202\n",
      "Epoch 61/100\n",
      "351/351 - 0s - loss: 0.2101 - accuracy: 0.9088\n",
      "Epoch 62/100\n",
      "351/351 - 0s - loss: 0.2075 - accuracy: 0.9174\n",
      "Epoch 63/100\n",
      "351/351 - 0s - loss: 0.2524 - accuracy: 0.8775\n",
      "Epoch 64/100\n",
      "351/351 - 0s - loss: 0.2155 - accuracy: 0.8917\n",
      "Epoch 65/100\n",
      "351/351 - 0s - loss: 0.2123 - accuracy: 0.8946\n",
      "Epoch 66/100\n",
      "351/351 - 0s - loss: 0.1997 - accuracy: 0.9288\n",
      "Epoch 67/100\n",
      "351/351 - 0s - loss: 0.1865 - accuracy: 0.9259\n",
      "Epoch 68/100\n",
      "351/351 - 0s - loss: 0.1882 - accuracy: 0.9117\n",
      "Epoch 69/100\n",
      "351/351 - 0s - loss: 0.1766 - accuracy: 0.9345\n",
      "Epoch 70/100\n",
      "351/351 - 0s - loss: 0.1697 - accuracy: 0.9316\n",
      "Epoch 71/100\n",
      "351/351 - 0s - loss: 0.1865 - accuracy: 0.9202\n",
      "Epoch 72/100\n",
      "351/351 - 0s - loss: 0.1773 - accuracy: 0.9288\n",
      "Epoch 73/100\n",
      "351/351 - 0s - loss: 0.1806 - accuracy: 0.9259\n",
      "Epoch 74/100\n",
      "351/351 - 0s - loss: 0.1763 - accuracy: 0.9288\n",
      "Epoch 75/100\n",
      "351/351 - 0s - loss: 0.1719 - accuracy: 0.9259\n",
      "Epoch 76/100\n",
      "351/351 - 0s - loss: 0.1659 - accuracy: 0.9231\n",
      "Epoch 77/100\n",
      "351/351 - 0s - loss: 0.1814 - accuracy: 0.9174\n",
      "Epoch 78/100\n",
      "351/351 - 0s - loss: 0.1771 - accuracy: 0.9288\n",
      "Epoch 79/100\n",
      "351/351 - 0s - loss: 0.2133 - accuracy: 0.9145\n",
      "Epoch 80/100\n",
      "351/351 - 0s - loss: 0.1961 - accuracy: 0.9231\n",
      "Epoch 81/100\n",
      "351/351 - 0s - loss: 0.1571 - accuracy: 0.9373\n",
      "Epoch 82/100\n",
      "351/351 - 0s - loss: 0.1590 - accuracy: 0.9345\n",
      "Epoch 83/100\n",
      "351/351 - 0s - loss: 0.1563 - accuracy: 0.9345\n",
      "Epoch 84/100\n",
      "351/351 - 0s - loss: 0.1492 - accuracy: 0.9373\n",
      "Epoch 85/100\n",
      "351/351 - 0s - loss: 0.1542 - accuracy: 0.9288\n",
      "Epoch 86/100\n",
      "351/351 - 0s - loss: 0.1440 - accuracy: 0.9402\n",
      "Epoch 87/100\n",
      "351/351 - 0s - loss: 0.1397 - accuracy: 0.9316\n",
      "Epoch 88/100\n",
      "351/351 - 0s - loss: 0.1561 - accuracy: 0.9373\n",
      "Epoch 89/100\n",
      "351/351 - 0s - loss: 0.1520 - accuracy: 0.9316\n",
      "Epoch 90/100\n",
      "351/351 - 0s - loss: 0.1539 - accuracy: 0.9345\n",
      "Epoch 91/100\n",
      "351/351 - 0s - loss: 0.1516 - accuracy: 0.9373\n",
      "Epoch 92/100\n",
      "351/351 - 0s - loss: 0.1272 - accuracy: 0.9487\n",
      "Epoch 93/100\n",
      "351/351 - 0s - loss: 0.1570 - accuracy: 0.9402\n",
      "Epoch 94/100\n",
      "351/351 - 0s - loss: 0.1386 - accuracy: 0.9345\n",
      "Epoch 95/100\n",
      "351/351 - 0s - loss: 0.1409 - accuracy: 0.9430\n",
      "Epoch 96/100\n",
      "351/351 - 0s - loss: 0.1444 - accuracy: 0.9430\n",
      "Epoch 97/100\n",
      "351/351 - 0s - loss: 0.1473 - accuracy: 0.9259\n",
      "Epoch 98/100\n",
      "351/351 - 0s - loss: 0.1341 - accuracy: 0.9544\n",
      "Epoch 99/100\n",
      "351/351 - 0s - loss: 0.1188 - accuracy: 0.9544\n",
      "Epoch 100/100\n",
      "351/351 - 0s - loss: 0.1164 - accuracy: 0.9459\n"
     ]
    },
    {
     "data": {
      "text/plain": [
       "<tensorflow.python.keras.callbacks.History at 0x221f647c518>"
      ]
     },
     "execution_count": 22,
     "metadata": {},
     "output_type": "execute_result"
    }
   ],
   "source": [
    "deep_model.fit(\n",
    "    X_trained_scaled,\n",
    "    target_train_categorical,\n",
    "    epochs=100,\n",
    "    shuffle=True,\n",
    "    verbose=2\n",
    ")   "
   ]
  },
  {
   "cell_type": "code",
   "execution_count": 28,
   "metadata": {},
   "outputs": [
    {
     "name": "stdout",
     "output_type": "stream",
     "text": [
      "117/1 - 0s - loss: 3.5509 - accuracy: 0.7009\n",
      "Deep Neural Network - Loss: 2.8388405579787035, Accuracy: 0.7008547186851501\n"
     ]
    }
   ],
   "source": [
    "model_loss, model_accuracy = deep_model.evaluate(\n",
    "    X_test_scaled, target_test_categorical, verbose=2)\n",
    "print(f\"Deep Neural Network - Loss: {model_loss}, Accuracy: {model_accuracy}\")"
   ]
  },
  {
   "cell_type": "code",
   "execution_count": 29,
   "metadata": {},
   "outputs": [
    {
     "name": "stdout",
     "output_type": "stream",
     "text": [
      "WARNING:tensorflow:Falling back from v2 loop because of error: Failed to find data adapter that can handle input: <class 'pandas.core.frame.DataFrame'>, <class 'NoneType'>\n"
     ]
    }
   ],
   "source": [
    "encoded_predictions = model.predict_classes(X)"
   ]
  },
  {
   "cell_type": "code",
   "execution_count": 30,
   "metadata": {},
   "outputs": [],
   "source": [
    "predictions = encoded_predictions.tolist()"
   ]
  },
  {
   "cell_type": "code",
   "execution_count": 31,
   "metadata": {},
   "outputs": [
    {
     "data": {
      "text/html": [
       "<div>\n",
       "<style scoped>\n",
       "    .dataframe tbody tr th:only-of-type {\n",
       "        vertical-align: middle;\n",
       "    }\n",
       "\n",
       "    .dataframe tbody tr th {\n",
       "        vertical-align: top;\n",
       "    }\n",
       "\n",
       "    .dataframe thead th {\n",
       "        text-align: right;\n",
       "    }\n",
       "</style>\n",
       "<table border=\"1\" class=\"dataframe\">\n",
       "  <thead>\n",
       "    <tr style=\"text-align: right;\">\n",
       "      <th></th>\n",
       "      <th>symbol</th>\n",
       "      <th>name</th>\n",
       "      <th>price_to_bookvalue</th>\n",
       "      <th>price_to_book</th>\n",
       "      <th>price_to_sales</th>\n",
       "      <th>price_to_earnings</th>\n",
       "      <th>receivables_turnover</th>\n",
       "      <th>price_to_free_cash_flow</th>\n",
       "      <th>price_to_operating_cash_flow</th>\n",
       "      <th>enterprise_value_multiple</th>\n",
       "      <th>...</th>\n",
       "      <th>inventory_growth</th>\n",
       "      <th>asset_growth</th>\n",
       "      <th>book_value_per_share_growth</th>\n",
       "      <th>debt_growth</th>\n",
       "      <th>randd_expense_growth</th>\n",
       "      <th>sganda_expense_growth</th>\n",
       "      <th>percent_return_on_investment</th>\n",
       "      <th>industry</th>\n",
       "      <th>sector</th>\n",
       "      <th>above_below_sandp_return</th>\n",
       "    </tr>\n",
       "  </thead>\n",
       "  <tbody>\n",
       "    <tr>\n",
       "      <th>0</th>\n",
       "      <td>A</td>\n",
       "      <td>Agilent Technologies, Inc.</td>\n",
       "      <td>2.55170</td>\n",
       "      <td>5.17165</td>\n",
       "      <td>1.48130</td>\n",
       "      <td>6.30885</td>\n",
       "      <td>7.0014</td>\n",
       "      <td>18.1807</td>\n",
       "      <td>13.57995</td>\n",
       "      <td>16.746223</td>\n",
       "      <td>...</td>\n",
       "      <td>0.0758</td>\n",
       "      <td>0.18005</td>\n",
       "      <td>0.15185</td>\n",
       "      <td>0.31885</td>\n",
       "      <td>-0.0674</td>\n",
       "      <td>0.01880</td>\n",
       "      <td>215.407785</td>\n",
       "      <td>Medical Diagnostics &amp; Research</td>\n",
       "      <td>Healthcare</td>\n",
       "      <td>0</td>\n",
       "    </tr>\n",
       "    <tr>\n",
       "      <th>1</th>\n",
       "      <td>AAL</td>\n",
       "      <td>American Airlines Group, Inc.</td>\n",
       "      <td>-99.00000</td>\n",
       "      <td>-99.00000</td>\n",
       "      <td>0.11565</td>\n",
       "      <td>-99.00000</td>\n",
       "      <td>27.3348</td>\n",
       "      <td>-99.0000</td>\n",
       "      <td>2.20925</td>\n",
       "      <td>61.812855</td>\n",
       "      <td>...</td>\n",
       "      <td>0.0637</td>\n",
       "      <td>-0.00170</td>\n",
       "      <td>-0.06235</td>\n",
       "      <td>0.00975</td>\n",
       "      <td>-99.0000</td>\n",
       "      <td>0.01435</td>\n",
       "      <td>492.976589</td>\n",
       "      <td>Airlines</td>\n",
       "      <td>Industrials</td>\n",
       "      <td>1</td>\n",
       "    </tr>\n",
       "    <tr>\n",
       "      <th>2</th>\n",
       "      <td>AAP</td>\n",
       "      <td>Advance Auto Parts, Inc.</td>\n",
       "      <td>2.95660</td>\n",
       "      <td>3.10380</td>\n",
       "      <td>0.70600</td>\n",
       "      <td>14.16840</td>\n",
       "      <td>57.0461</td>\n",
       "      <td>7.4185</td>\n",
       "      <td>5.46130</td>\n",
       "      <td>0.499984</td>\n",
       "      <td>...</td>\n",
       "      <td>0.0054</td>\n",
       "      <td>0.03670</td>\n",
       "      <td>0.19520</td>\n",
       "      <td>-0.57150</td>\n",
       "      <td>-99.0000</td>\n",
       "      <td>0.10360</td>\n",
       "      <td>158.290852</td>\n",
       "      <td>Retail - Apparel &amp; Specialty</td>\n",
       "      <td>Consumer Cyclical</td>\n",
       "      <td>0</td>\n",
       "    </tr>\n",
       "    <tr>\n",
       "      <th>3</th>\n",
       "      <td>AAPL</td>\n",
       "      <td>Apple, Inc.</td>\n",
       "      <td>5.42765</td>\n",
       "      <td>4.62715</td>\n",
       "      <td>3.98235</td>\n",
       "      <td>19.54495</td>\n",
       "      <td>10.0906</td>\n",
       "      <td>17.3279</td>\n",
       "      <td>15.35960</td>\n",
       "      <td>0.493341</td>\n",
       "      <td>...</td>\n",
       "      <td>0.6019</td>\n",
       "      <td>0.44800</td>\n",
       "      <td>0.44245</td>\n",
       "      <td>-99.00000</td>\n",
       "      <td>0.2694</td>\n",
       "      <td>0.21645</td>\n",
       "      <td>641.441749</td>\n",
       "      <td>Computer Hardware</td>\n",
       "      <td>Technology</td>\n",
       "      <td>1</td>\n",
       "    </tr>\n",
       "    <tr>\n",
       "      <th>4</th>\n",
       "      <td>ABBV</td>\n",
       "      <td>AbbVie, Inc.</td>\n",
       "      <td>16.46870</td>\n",
       "      <td>-99.00000</td>\n",
       "      <td>3.01900</td>\n",
       "      <td>10.48360</td>\n",
       "      <td>-99.0000</td>\n",
       "      <td>9.2123</td>\n",
       "      <td>8.74540</td>\n",
       "      <td>0.001609</td>\n",
       "      <td>...</td>\n",
       "      <td>-99.0000</td>\n",
       "      <td>-99.00000</td>\n",
       "      <td>-99.00000</td>\n",
       "      <td>-99.00000</td>\n",
       "      <td>0.4613</td>\n",
       "      <td>0.14080</td>\n",
       "      <td>127.493713</td>\n",
       "      <td>Drug Manufacturers</td>\n",
       "      <td>Healthcare</td>\n",
       "      <td>0</td>\n",
       "    </tr>\n",
       "  </tbody>\n",
       "</table>\n",
       "<p>5 rows × 84 columns</p>\n",
       "</div>"
      ],
      "text/plain": [
       "  symbol                           name  price_to_bookvalue  price_to_book  \\\n",
       "0      A     Agilent Technologies, Inc.             2.55170        5.17165   \n",
       "1    AAL  American Airlines Group, Inc.           -99.00000      -99.00000   \n",
       "2    AAP       Advance Auto Parts, Inc.             2.95660        3.10380   \n",
       "3   AAPL                    Apple, Inc.             5.42765        4.62715   \n",
       "4   ABBV                   AbbVie, Inc.            16.46870      -99.00000   \n",
       "\n",
       "   price_to_sales  price_to_earnings  receivables_turnover  \\\n",
       "0         1.48130            6.30885                7.0014   \n",
       "1         0.11565          -99.00000               27.3348   \n",
       "2         0.70600           14.16840               57.0461   \n",
       "3         3.98235           19.54495               10.0906   \n",
       "4         3.01900           10.48360              -99.0000   \n",
       "\n",
       "   price_to_free_cash_flow  price_to_operating_cash_flow  \\\n",
       "0                  18.1807                      13.57995   \n",
       "1                 -99.0000                       2.20925   \n",
       "2                   7.4185                       5.46130   \n",
       "3                  17.3279                      15.35960   \n",
       "4                   9.2123                       8.74540   \n",
       "\n",
       "   enterprise_value_multiple  ...  inventory_growth  asset_growth  \\\n",
       "0                  16.746223  ...            0.0758       0.18005   \n",
       "1                  61.812855  ...            0.0637      -0.00170   \n",
       "2                   0.499984  ...            0.0054       0.03670   \n",
       "3                   0.493341  ...            0.6019       0.44800   \n",
       "4                   0.001609  ...          -99.0000     -99.00000   \n",
       "\n",
       "   book_value_per_share_growth  debt_growth  randd_expense_growth  \\\n",
       "0                      0.15185      0.31885               -0.0674   \n",
       "1                     -0.06235      0.00975              -99.0000   \n",
       "2                      0.19520     -0.57150              -99.0000   \n",
       "3                      0.44245    -99.00000                0.2694   \n",
       "4                    -99.00000    -99.00000                0.4613   \n",
       "\n",
       "   sganda_expense_growth  percent_return_on_investment  \\\n",
       "0                0.01880                    215.407785   \n",
       "1                0.01435                    492.976589   \n",
       "2                0.10360                    158.290852   \n",
       "3                0.21645                    641.441749   \n",
       "4                0.14080                    127.493713   \n",
       "\n",
       "                         industry             sector  above_below_sandp_return  \n",
       "0  Medical Diagnostics & Research         Healthcare                         0  \n",
       "1                        Airlines        Industrials                         1  \n",
       "2    Retail - Apparel & Specialty  Consumer Cyclical                         0  \n",
       "3               Computer Hardware         Technology                         1  \n",
       "4              Drug Manufacturers         Healthcare                         0  \n",
       "\n",
       "[5 rows x 84 columns]"
      ]
     },
     "execution_count": 31,
     "metadata": {},
     "output_type": "execute_result"
    }
   ],
   "source": [
    "# checking out the SandP_500 table.\n",
    "sandp = pd.read_sql_query('SELECT * FROM sandp', con=engine)\n",
    "sandp.head()"
   ]
  },
  {
   "cell_type": "code",
   "execution_count": 32,
   "metadata": {},
   "outputs": [],
   "source": [
    "sandp = sandp[['name', 'percent_return_on_investment', 'above_below_sandp_return']]"
   ]
  },
  {
   "cell_type": "code",
   "execution_count": 33,
   "metadata": {},
   "outputs": [
    {
     "data": {
      "text/html": [
       "<div>\n",
       "<style scoped>\n",
       "    .dataframe tbody tr th:only-of-type {\n",
       "        vertical-align: middle;\n",
       "    }\n",
       "\n",
       "    .dataframe tbody tr th {\n",
       "        vertical-align: top;\n",
       "    }\n",
       "\n",
       "    .dataframe thead th {\n",
       "        text-align: right;\n",
       "    }\n",
       "</style>\n",
       "<table border=\"1\" class=\"dataframe\">\n",
       "  <thead>\n",
       "    <tr style=\"text-align: right;\">\n",
       "      <th></th>\n",
       "      <th>name</th>\n",
       "      <th>percent_return_on_investment</th>\n",
       "      <th>above_below_sandp_return</th>\n",
       "    </tr>\n",
       "  </thead>\n",
       "  <tbody>\n",
       "    <tr>\n",
       "      <th>0</th>\n",
       "      <td>Agilent Technologies, Inc.</td>\n",
       "      <td>215.407785</td>\n",
       "      <td>0</td>\n",
       "    </tr>\n",
       "    <tr>\n",
       "      <th>1</th>\n",
       "      <td>American Airlines Group, Inc.</td>\n",
       "      <td>492.976589</td>\n",
       "      <td>1</td>\n",
       "    </tr>\n",
       "    <tr>\n",
       "      <th>2</th>\n",
       "      <td>Advance Auto Parts, Inc.</td>\n",
       "      <td>158.290852</td>\n",
       "      <td>0</td>\n",
       "    </tr>\n",
       "    <tr>\n",
       "      <th>3</th>\n",
       "      <td>Apple, Inc.</td>\n",
       "      <td>641.441749</td>\n",
       "      <td>1</td>\n",
       "    </tr>\n",
       "    <tr>\n",
       "      <th>4</th>\n",
       "      <td>AbbVie, Inc.</td>\n",
       "      <td>127.493713</td>\n",
       "      <td>0</td>\n",
       "    </tr>\n",
       "  </tbody>\n",
       "</table>\n",
       "</div>"
      ],
      "text/plain": [
       "                            name  percent_return_on_investment  \\\n",
       "0     Agilent Technologies, Inc.                    215.407785   \n",
       "1  American Airlines Group, Inc.                    492.976589   \n",
       "2       Advance Auto Parts, Inc.                    158.290852   \n",
       "3                    Apple, Inc.                    641.441749   \n",
       "4                   AbbVie, Inc.                    127.493713   \n",
       "\n",
       "   above_below_sandp_return  \n",
       "0                         0  \n",
       "1                         1  \n",
       "2                         0  \n",
       "3                         1  \n",
       "4                         0  "
      ]
     },
     "execution_count": 33,
     "metadata": {},
     "output_type": "execute_result"
    }
   ],
   "source": [
    "sandp.head()"
   ]
  },
  {
   "cell_type": "code",
   "execution_count": 34,
   "metadata": {},
   "outputs": [],
   "source": [
    "sandp['predictions'] = predictions"
   ]
  },
  {
   "cell_type": "code",
   "execution_count": 35,
   "metadata": {},
   "outputs": [
    {
     "data": {
      "text/html": [
       "<div>\n",
       "<style scoped>\n",
       "    .dataframe tbody tr th:only-of-type {\n",
       "        vertical-align: middle;\n",
       "    }\n",
       "\n",
       "    .dataframe tbody tr th {\n",
       "        vertical-align: top;\n",
       "    }\n",
       "\n",
       "    .dataframe thead th {\n",
       "        text-align: right;\n",
       "    }\n",
       "</style>\n",
       "<table border=\"1\" class=\"dataframe\">\n",
       "  <thead>\n",
       "    <tr style=\"text-align: right;\">\n",
       "      <th></th>\n",
       "      <th>name</th>\n",
       "      <th>percent_return_on_investment</th>\n",
       "      <th>above_below_sandp_return</th>\n",
       "      <th>predictions</th>\n",
       "    </tr>\n",
       "  </thead>\n",
       "  <tbody>\n",
       "    <tr>\n",
       "      <th>0</th>\n",
       "      <td>Agilent Technologies, Inc.</td>\n",
       "      <td>215.407785</td>\n",
       "      <td>0</td>\n",
       "      <td>1</td>\n",
       "    </tr>\n",
       "    <tr>\n",
       "      <th>1</th>\n",
       "      <td>American Airlines Group, Inc.</td>\n",
       "      <td>492.976589</td>\n",
       "      <td>1</td>\n",
       "      <td>0</td>\n",
       "    </tr>\n",
       "    <tr>\n",
       "      <th>2</th>\n",
       "      <td>Advance Auto Parts, Inc.</td>\n",
       "      <td>158.290852</td>\n",
       "      <td>0</td>\n",
       "      <td>1</td>\n",
       "    </tr>\n",
       "    <tr>\n",
       "      <th>3</th>\n",
       "      <td>Apple, Inc.</td>\n",
       "      <td>641.441749</td>\n",
       "      <td>1</td>\n",
       "      <td>1</td>\n",
       "    </tr>\n",
       "    <tr>\n",
       "      <th>4</th>\n",
       "      <td>AbbVie, Inc.</td>\n",
       "      <td>127.493713</td>\n",
       "      <td>0</td>\n",
       "      <td>1</td>\n",
       "    </tr>\n",
       "  </tbody>\n",
       "</table>\n",
       "</div>"
      ],
      "text/plain": [
       "                            name  percent_return_on_investment  \\\n",
       "0     Agilent Technologies, Inc.                    215.407785   \n",
       "1  American Airlines Group, Inc.                    492.976589   \n",
       "2       Advance Auto Parts, Inc.                    158.290852   \n",
       "3                    Apple, Inc.                    641.441749   \n",
       "4                   AbbVie, Inc.                    127.493713   \n",
       "\n",
       "   above_below_sandp_return  predictions  \n",
       "0                         0            1  \n",
       "1                         1            0  \n",
       "2                         0            1  \n",
       "3                         1            1  \n",
       "4                         0            1  "
      ]
     },
     "execution_count": 35,
     "metadata": {},
     "output_type": "execute_result"
    }
   ],
   "source": [
    "sandp.head()"
   ]
  },
  {
   "cell_type": "code",
   "execution_count": 36,
   "metadata": {},
   "outputs": [
    {
     "data": {
      "text/plain": [
       "1    308\n",
       "0    160\n",
       "Name: predictions, dtype: int64"
      ]
     },
     "execution_count": 36,
     "metadata": {},
     "output_type": "execute_result"
    }
   ],
   "source": [
    "sandp['predictions'].value_counts()"
   ]
  },
  {
   "cell_type": "code",
   "execution_count": 37,
   "metadata": {},
   "outputs": [
    {
     "name": "stdout",
     "output_type": "stream",
     "text": [
      "126\n"
     ]
    }
   ],
   "source": [
    "r = 0\n",
    "predicted_positives = []\n",
    "for (x,y) in zip(sandp['predictions'],sandp['percent_return_on_investment']):\n",
    "    if x == 1:\n",
    "        predicted_positives.append(y)\n",
    "        if y > 228:\n",
    "            r += 1\n",
    "print(r)"
   ]
  },
  {
   "cell_type": "code",
   "execution_count": 38,
   "metadata": {},
   "outputs": [],
   "source": [
    "predicted = pd.DataFrame(predicted_positives)"
   ]
  },
  {
   "cell_type": "code",
   "execution_count": 39,
   "metadata": {},
   "outputs": [
    {
     "data": {
      "text/plain": [
       "308"
      ]
     },
     "execution_count": 39,
     "metadata": {},
     "output_type": "execute_result"
    }
   ],
   "source": [
    "len(predicted)"
   ]
  },
  {
   "cell_type": "code",
   "execution_count": 40,
   "metadata": {},
   "outputs": [
    {
     "data": {
      "text/plain": [
       "0.4090909090909091"
      ]
     },
     "execution_count": 40,
     "metadata": {},
     "output_type": "execute_result"
    }
   ],
   "source": [
    "r/len(predicted)"
   ]
  },
  {
   "cell_type": "code",
   "execution_count": 41,
   "metadata": {},
   "outputs": [
    {
     "name": "stdout",
     "output_type": "stream",
     "text": [
      "-8.70733249051834\n",
      "-58.564988730277975\n",
      "-12.470402525651156\n",
      "-72.3336853220697\n",
      "-20.884048686739256\n",
      "-4.987234042553191\n",
      "-6.376764562712964\n",
      "-18.363772829622206\n",
      "-29.984317825405128\n",
      "-12.355526615660105\n"
     ]
    }
   ],
   "source": [
    "for x in predicted[0]:\n",
    "    if x < 0:\n",
    "        print(x)"
   ]
  },
  {
   "cell_type": "code",
   "execution_count": 42,
   "metadata": {},
   "outputs": [],
   "source": [
    "gain = predicted.sum()"
   ]
  },
  {
   "cell_type": "code",
   "execution_count": 43,
   "metadata": {},
   "outputs": [
    {
     "data": {
      "text/plain": [
       "0    79272.802492\n",
       "dtype: float64"
      ]
     },
     "execution_count": 43,
     "metadata": {},
     "output_type": "execute_result"
    }
   ],
   "source": [
    "gain "
   ]
  },
  {
   "cell_type": "code",
   "execution_count": 44,
   "metadata": {},
   "outputs": [
    {
     "data": {
      "text/plain": [
       "0    256.379229\n",
       "dtype: float64"
      ]
     },
     "execution_count": 44,
     "metadata": {},
     "output_type": "execute_result"
    }
   ],
   "source": [
    "(gain - len(predicted))/len(predicted)"
   ]
  },
  {
   "cell_type": "code",
   "execution_count": 45,
   "metadata": {},
   "outputs": [
    {
     "ename": "TypeError",
     "evalue": "can't pickle _thread._local objects",
     "output_type": "error",
     "traceback": [
      "\u001b[1;31m---------------------------------------------------------------------------\u001b[0m",
      "\u001b[1;31mTypeError\u001b[0m                                 Traceback (most recent call last)",
      "\u001b[1;32m<ipython-input-45-6078c745e2d6>\u001b[0m in \u001b[0;36m<module>\u001b[1;34m\u001b[0m\n\u001b[0;32m      1\u001b[0m \u001b[1;32mimport\u001b[0m \u001b[0mjoblib\u001b[0m\u001b[1;33m\u001b[0m\u001b[1;33m\u001b[0m\u001b[0m\n\u001b[0;32m      2\u001b[0m \u001b[0mfilename\u001b[0m \u001b[1;33m=\u001b[0m \u001b[1;34m'deep_learning_model.sav'\u001b[0m\u001b[1;33m\u001b[0m\u001b[1;33m\u001b[0m\u001b[0m\n\u001b[1;32m----> 3\u001b[1;33m \u001b[0mjoblib\u001b[0m\u001b[1;33m.\u001b[0m\u001b[0mdump\u001b[0m\u001b[1;33m(\u001b[0m\u001b[0mdeep_model\u001b[0m\u001b[1;33m,\u001b[0m \u001b[0mfilename\u001b[0m\u001b[1;33m)\u001b[0m\u001b[1;33m\u001b[0m\u001b[1;33m\u001b[0m\u001b[0m\n\u001b[0m",
      "\u001b[1;32m~\\Anaconda3\\lib\\site-packages\\joblib\\numpy_pickle.py\u001b[0m in \u001b[0;36mdump\u001b[1;34m(value, filename, compress, protocol, cache_size)\u001b[0m\n\u001b[0;32m    500\u001b[0m     \u001b[1;32melif\u001b[0m \u001b[0mis_filename\u001b[0m\u001b[1;33m:\u001b[0m\u001b[1;33m\u001b[0m\u001b[1;33m\u001b[0m\u001b[0m\n\u001b[0;32m    501\u001b[0m         \u001b[1;32mwith\u001b[0m \u001b[0mopen\u001b[0m\u001b[1;33m(\u001b[0m\u001b[0mfilename\u001b[0m\u001b[1;33m,\u001b[0m \u001b[1;34m'wb'\u001b[0m\u001b[1;33m)\u001b[0m \u001b[1;32mas\u001b[0m \u001b[0mf\u001b[0m\u001b[1;33m:\u001b[0m\u001b[1;33m\u001b[0m\u001b[1;33m\u001b[0m\u001b[0m\n\u001b[1;32m--> 502\u001b[1;33m             \u001b[0mNumpyPickler\u001b[0m\u001b[1;33m(\u001b[0m\u001b[0mf\u001b[0m\u001b[1;33m,\u001b[0m \u001b[0mprotocol\u001b[0m\u001b[1;33m=\u001b[0m\u001b[0mprotocol\u001b[0m\u001b[1;33m)\u001b[0m\u001b[1;33m.\u001b[0m\u001b[0mdump\u001b[0m\u001b[1;33m(\u001b[0m\u001b[0mvalue\u001b[0m\u001b[1;33m)\u001b[0m\u001b[1;33m\u001b[0m\u001b[1;33m\u001b[0m\u001b[0m\n\u001b[0m\u001b[0;32m    503\u001b[0m     \u001b[1;32melse\u001b[0m\u001b[1;33m:\u001b[0m\u001b[1;33m\u001b[0m\u001b[1;33m\u001b[0m\u001b[0m\n\u001b[0;32m    504\u001b[0m         \u001b[0mNumpyPickler\u001b[0m\u001b[1;33m(\u001b[0m\u001b[0mfilename\u001b[0m\u001b[1;33m,\u001b[0m \u001b[0mprotocol\u001b[0m\u001b[1;33m=\u001b[0m\u001b[0mprotocol\u001b[0m\u001b[1;33m)\u001b[0m\u001b[1;33m.\u001b[0m\u001b[0mdump\u001b[0m\u001b[1;33m(\u001b[0m\u001b[0mvalue\u001b[0m\u001b[1;33m)\u001b[0m\u001b[1;33m\u001b[0m\u001b[1;33m\u001b[0m\u001b[0m\n",
      "\u001b[1;32m~\\Anaconda3\\lib\\pickle.py\u001b[0m in \u001b[0;36mdump\u001b[1;34m(self, obj)\u001b[0m\n\u001b[0;32m    435\u001b[0m         \u001b[1;32mif\u001b[0m \u001b[0mself\u001b[0m\u001b[1;33m.\u001b[0m\u001b[0mproto\u001b[0m \u001b[1;33m>=\u001b[0m \u001b[1;36m4\u001b[0m\u001b[1;33m:\u001b[0m\u001b[1;33m\u001b[0m\u001b[1;33m\u001b[0m\u001b[0m\n\u001b[0;32m    436\u001b[0m             \u001b[0mself\u001b[0m\u001b[1;33m.\u001b[0m\u001b[0mframer\u001b[0m\u001b[1;33m.\u001b[0m\u001b[0mstart_framing\u001b[0m\u001b[1;33m(\u001b[0m\u001b[1;33m)\u001b[0m\u001b[1;33m\u001b[0m\u001b[1;33m\u001b[0m\u001b[0m\n\u001b[1;32m--> 437\u001b[1;33m         \u001b[0mself\u001b[0m\u001b[1;33m.\u001b[0m\u001b[0msave\u001b[0m\u001b[1;33m(\u001b[0m\u001b[0mobj\u001b[0m\u001b[1;33m)\u001b[0m\u001b[1;33m\u001b[0m\u001b[1;33m\u001b[0m\u001b[0m\n\u001b[0m\u001b[0;32m    438\u001b[0m         \u001b[0mself\u001b[0m\u001b[1;33m.\u001b[0m\u001b[0mwrite\u001b[0m\u001b[1;33m(\u001b[0m\u001b[0mSTOP\u001b[0m\u001b[1;33m)\u001b[0m\u001b[1;33m\u001b[0m\u001b[1;33m\u001b[0m\u001b[0m\n\u001b[0;32m    439\u001b[0m         \u001b[0mself\u001b[0m\u001b[1;33m.\u001b[0m\u001b[0mframer\u001b[0m\u001b[1;33m.\u001b[0m\u001b[0mend_framing\u001b[0m\u001b[1;33m(\u001b[0m\u001b[1;33m)\u001b[0m\u001b[1;33m\u001b[0m\u001b[1;33m\u001b[0m\u001b[0m\n",
      "\u001b[1;32m~\\Anaconda3\\lib\\site-packages\\joblib\\numpy_pickle.py\u001b[0m in \u001b[0;36msave\u001b[1;34m(self, obj)\u001b[0m\n\u001b[0;32m    290\u001b[0m             \u001b[1;32mreturn\u001b[0m\u001b[1;33m\u001b[0m\u001b[1;33m\u001b[0m\u001b[0m\n\u001b[0;32m    291\u001b[0m \u001b[1;33m\u001b[0m\u001b[0m\n\u001b[1;32m--> 292\u001b[1;33m         \u001b[1;32mreturn\u001b[0m \u001b[0mPickler\u001b[0m\u001b[1;33m.\u001b[0m\u001b[0msave\u001b[0m\u001b[1;33m(\u001b[0m\u001b[0mself\u001b[0m\u001b[1;33m,\u001b[0m \u001b[0mobj\u001b[0m\u001b[1;33m)\u001b[0m\u001b[1;33m\u001b[0m\u001b[1;33m\u001b[0m\u001b[0m\n\u001b[0m\u001b[0;32m    293\u001b[0m \u001b[1;33m\u001b[0m\u001b[0m\n\u001b[0;32m    294\u001b[0m \u001b[1;33m\u001b[0m\u001b[0m\n",
      "\u001b[1;32m~\\Anaconda3\\lib\\pickle.py\u001b[0m in \u001b[0;36msave\u001b[1;34m(self, obj, save_persistent_id)\u001b[0m\n\u001b[0;32m    547\u001b[0m \u001b[1;33m\u001b[0m\u001b[0m\n\u001b[0;32m    548\u001b[0m         \u001b[1;31m# Save the reduce() output and finally memoize the object\u001b[0m\u001b[1;33m\u001b[0m\u001b[1;33m\u001b[0m\u001b[1;33m\u001b[0m\u001b[0m\n\u001b[1;32m--> 549\u001b[1;33m         \u001b[0mself\u001b[0m\u001b[1;33m.\u001b[0m\u001b[0msave_reduce\u001b[0m\u001b[1;33m(\u001b[0m\u001b[0mobj\u001b[0m\u001b[1;33m=\u001b[0m\u001b[0mobj\u001b[0m\u001b[1;33m,\u001b[0m \u001b[1;33m*\u001b[0m\u001b[0mrv\u001b[0m\u001b[1;33m)\u001b[0m\u001b[1;33m\u001b[0m\u001b[1;33m\u001b[0m\u001b[0m\n\u001b[0m\u001b[0;32m    550\u001b[0m \u001b[1;33m\u001b[0m\u001b[0m\n\u001b[0;32m    551\u001b[0m     \u001b[1;32mdef\u001b[0m \u001b[0mpersistent_id\u001b[0m\u001b[1;33m(\u001b[0m\u001b[0mself\u001b[0m\u001b[1;33m,\u001b[0m \u001b[0mobj\u001b[0m\u001b[1;33m)\u001b[0m\u001b[1;33m:\u001b[0m\u001b[1;33m\u001b[0m\u001b[1;33m\u001b[0m\u001b[0m\n",
      "\u001b[1;32m~\\Anaconda3\\lib\\pickle.py\u001b[0m in \u001b[0;36msave_reduce\u001b[1;34m(self, func, args, state, listitems, dictitems, obj)\u001b[0m\n\u001b[0;32m    660\u001b[0m \u001b[1;33m\u001b[0m\u001b[0m\n\u001b[0;32m    661\u001b[0m         \u001b[1;32mif\u001b[0m \u001b[0mstate\u001b[0m \u001b[1;32mis\u001b[0m \u001b[1;32mnot\u001b[0m \u001b[1;32mNone\u001b[0m\u001b[1;33m:\u001b[0m\u001b[1;33m\u001b[0m\u001b[1;33m\u001b[0m\u001b[0m\n\u001b[1;32m--> 662\u001b[1;33m             \u001b[0msave\u001b[0m\u001b[1;33m(\u001b[0m\u001b[0mstate\u001b[0m\u001b[1;33m)\u001b[0m\u001b[1;33m\u001b[0m\u001b[1;33m\u001b[0m\u001b[0m\n\u001b[0m\u001b[0;32m    663\u001b[0m             \u001b[0mwrite\u001b[0m\u001b[1;33m(\u001b[0m\u001b[0mBUILD\u001b[0m\u001b[1;33m)\u001b[0m\u001b[1;33m\u001b[0m\u001b[1;33m\u001b[0m\u001b[0m\n\u001b[0;32m    664\u001b[0m \u001b[1;33m\u001b[0m\u001b[0m\n",
      "\u001b[1;32m~\\Anaconda3\\lib\\site-packages\\joblib\\numpy_pickle.py\u001b[0m in \u001b[0;36msave\u001b[1;34m(self, obj)\u001b[0m\n\u001b[0;32m    290\u001b[0m             \u001b[1;32mreturn\u001b[0m\u001b[1;33m\u001b[0m\u001b[1;33m\u001b[0m\u001b[0m\n\u001b[0;32m    291\u001b[0m \u001b[1;33m\u001b[0m\u001b[0m\n\u001b[1;32m--> 292\u001b[1;33m         \u001b[1;32mreturn\u001b[0m \u001b[0mPickler\u001b[0m\u001b[1;33m.\u001b[0m\u001b[0msave\u001b[0m\u001b[1;33m(\u001b[0m\u001b[0mself\u001b[0m\u001b[1;33m,\u001b[0m \u001b[0mobj\u001b[0m\u001b[1;33m)\u001b[0m\u001b[1;33m\u001b[0m\u001b[1;33m\u001b[0m\u001b[0m\n\u001b[0m\u001b[0;32m    293\u001b[0m \u001b[1;33m\u001b[0m\u001b[0m\n\u001b[0;32m    294\u001b[0m \u001b[1;33m\u001b[0m\u001b[0m\n",
      "\u001b[1;32m~\\Anaconda3\\lib\\pickle.py\u001b[0m in \u001b[0;36msave\u001b[1;34m(self, obj, save_persistent_id)\u001b[0m\n\u001b[0;32m    502\u001b[0m         \u001b[0mf\u001b[0m \u001b[1;33m=\u001b[0m \u001b[0mself\u001b[0m\u001b[1;33m.\u001b[0m\u001b[0mdispatch\u001b[0m\u001b[1;33m.\u001b[0m\u001b[0mget\u001b[0m\u001b[1;33m(\u001b[0m\u001b[0mt\u001b[0m\u001b[1;33m)\u001b[0m\u001b[1;33m\u001b[0m\u001b[1;33m\u001b[0m\u001b[0m\n\u001b[0;32m    503\u001b[0m         \u001b[1;32mif\u001b[0m \u001b[0mf\u001b[0m \u001b[1;32mis\u001b[0m \u001b[1;32mnot\u001b[0m \u001b[1;32mNone\u001b[0m\u001b[1;33m:\u001b[0m\u001b[1;33m\u001b[0m\u001b[1;33m\u001b[0m\u001b[0m\n\u001b[1;32m--> 504\u001b[1;33m             \u001b[0mf\u001b[0m\u001b[1;33m(\u001b[0m\u001b[0mself\u001b[0m\u001b[1;33m,\u001b[0m \u001b[0mobj\u001b[0m\u001b[1;33m)\u001b[0m \u001b[1;31m# Call unbound method with explicit self\u001b[0m\u001b[1;33m\u001b[0m\u001b[1;33m\u001b[0m\u001b[0m\n\u001b[0m\u001b[0;32m    505\u001b[0m             \u001b[1;32mreturn\u001b[0m\u001b[1;33m\u001b[0m\u001b[1;33m\u001b[0m\u001b[0m\n\u001b[0;32m    506\u001b[0m \u001b[1;33m\u001b[0m\u001b[0m\n",
      "\u001b[1;32m~\\Anaconda3\\lib\\pickle.py\u001b[0m in \u001b[0;36msave_dict\u001b[1;34m(self, obj)\u001b[0m\n\u001b[0;32m    854\u001b[0m \u001b[1;33m\u001b[0m\u001b[0m\n\u001b[0;32m    855\u001b[0m         \u001b[0mself\u001b[0m\u001b[1;33m.\u001b[0m\u001b[0mmemoize\u001b[0m\u001b[1;33m(\u001b[0m\u001b[0mobj\u001b[0m\u001b[1;33m)\u001b[0m\u001b[1;33m\u001b[0m\u001b[1;33m\u001b[0m\u001b[0m\n\u001b[1;32m--> 856\u001b[1;33m         \u001b[0mself\u001b[0m\u001b[1;33m.\u001b[0m\u001b[0m_batch_setitems\u001b[0m\u001b[1;33m(\u001b[0m\u001b[0mobj\u001b[0m\u001b[1;33m.\u001b[0m\u001b[0mitems\u001b[0m\u001b[1;33m(\u001b[0m\u001b[1;33m)\u001b[0m\u001b[1;33m)\u001b[0m\u001b[1;33m\u001b[0m\u001b[1;33m\u001b[0m\u001b[0m\n\u001b[0m\u001b[0;32m    857\u001b[0m \u001b[1;33m\u001b[0m\u001b[0m\n\u001b[0;32m    858\u001b[0m     \u001b[0mdispatch\u001b[0m\u001b[1;33m[\u001b[0m\u001b[0mdict\u001b[0m\u001b[1;33m]\u001b[0m \u001b[1;33m=\u001b[0m \u001b[0msave_dict\u001b[0m\u001b[1;33m\u001b[0m\u001b[1;33m\u001b[0m\u001b[0m\n",
      "\u001b[1;32m~\\Anaconda3\\lib\\pickle.py\u001b[0m in \u001b[0;36m_batch_setitems\u001b[1;34m(self, items)\u001b[0m\n\u001b[0;32m    880\u001b[0m                 \u001b[1;32mfor\u001b[0m \u001b[0mk\u001b[0m\u001b[1;33m,\u001b[0m \u001b[0mv\u001b[0m \u001b[1;32min\u001b[0m \u001b[0mtmp\u001b[0m\u001b[1;33m:\u001b[0m\u001b[1;33m\u001b[0m\u001b[1;33m\u001b[0m\u001b[0m\n\u001b[0;32m    881\u001b[0m                     \u001b[0msave\u001b[0m\u001b[1;33m(\u001b[0m\u001b[0mk\u001b[0m\u001b[1;33m)\u001b[0m\u001b[1;33m\u001b[0m\u001b[1;33m\u001b[0m\u001b[0m\n\u001b[1;32m--> 882\u001b[1;33m                     \u001b[0msave\u001b[0m\u001b[1;33m(\u001b[0m\u001b[0mv\u001b[0m\u001b[1;33m)\u001b[0m\u001b[1;33m\u001b[0m\u001b[1;33m\u001b[0m\u001b[0m\n\u001b[0m\u001b[0;32m    883\u001b[0m                 \u001b[0mwrite\u001b[0m\u001b[1;33m(\u001b[0m\u001b[0mSETITEMS\u001b[0m\u001b[1;33m)\u001b[0m\u001b[1;33m\u001b[0m\u001b[1;33m\u001b[0m\u001b[0m\n\u001b[0;32m    884\u001b[0m             \u001b[1;32melif\u001b[0m \u001b[0mn\u001b[0m\u001b[1;33m:\u001b[0m\u001b[1;33m\u001b[0m\u001b[1;33m\u001b[0m\u001b[0m\n",
      "\u001b[1;32m~\\Anaconda3\\lib\\site-packages\\joblib\\numpy_pickle.py\u001b[0m in \u001b[0;36msave\u001b[1;34m(self, obj)\u001b[0m\n\u001b[0;32m    290\u001b[0m             \u001b[1;32mreturn\u001b[0m\u001b[1;33m\u001b[0m\u001b[1;33m\u001b[0m\u001b[0m\n\u001b[0;32m    291\u001b[0m \u001b[1;33m\u001b[0m\u001b[0m\n\u001b[1;32m--> 292\u001b[1;33m         \u001b[1;32mreturn\u001b[0m \u001b[0mPickler\u001b[0m\u001b[1;33m.\u001b[0m\u001b[0msave\u001b[0m\u001b[1;33m(\u001b[0m\u001b[0mself\u001b[0m\u001b[1;33m,\u001b[0m \u001b[0mobj\u001b[0m\u001b[1;33m)\u001b[0m\u001b[1;33m\u001b[0m\u001b[1;33m\u001b[0m\u001b[0m\n\u001b[0m\u001b[0;32m    293\u001b[0m \u001b[1;33m\u001b[0m\u001b[0m\n\u001b[0;32m    294\u001b[0m \u001b[1;33m\u001b[0m\u001b[0m\n",
      "\u001b[1;32m~\\Anaconda3\\lib\\pickle.py\u001b[0m in \u001b[0;36msave\u001b[1;34m(self, obj, save_persistent_id)\u001b[0m\n\u001b[0;32m    522\u001b[0m             \u001b[0mreduce\u001b[0m \u001b[1;33m=\u001b[0m \u001b[0mgetattr\u001b[0m\u001b[1;33m(\u001b[0m\u001b[0mobj\u001b[0m\u001b[1;33m,\u001b[0m \u001b[1;34m\"__reduce_ex__\"\u001b[0m\u001b[1;33m,\u001b[0m \u001b[1;32mNone\u001b[0m\u001b[1;33m)\u001b[0m\u001b[1;33m\u001b[0m\u001b[1;33m\u001b[0m\u001b[0m\n\u001b[0;32m    523\u001b[0m             \u001b[1;32mif\u001b[0m \u001b[0mreduce\u001b[0m \u001b[1;32mis\u001b[0m \u001b[1;32mnot\u001b[0m \u001b[1;32mNone\u001b[0m\u001b[1;33m:\u001b[0m\u001b[1;33m\u001b[0m\u001b[1;33m\u001b[0m\u001b[0m\n\u001b[1;32m--> 524\u001b[1;33m                 \u001b[0mrv\u001b[0m \u001b[1;33m=\u001b[0m \u001b[0mreduce\u001b[0m\u001b[1;33m(\u001b[0m\u001b[0mself\u001b[0m\u001b[1;33m.\u001b[0m\u001b[0mproto\u001b[0m\u001b[1;33m)\u001b[0m\u001b[1;33m\u001b[0m\u001b[1;33m\u001b[0m\u001b[0m\n\u001b[0m\u001b[0;32m    525\u001b[0m             \u001b[1;32melse\u001b[0m\u001b[1;33m:\u001b[0m\u001b[1;33m\u001b[0m\u001b[1;33m\u001b[0m\u001b[0m\n\u001b[0;32m    526\u001b[0m                 \u001b[0mreduce\u001b[0m \u001b[1;33m=\u001b[0m \u001b[0mgetattr\u001b[0m\u001b[1;33m(\u001b[0m\u001b[0mobj\u001b[0m\u001b[1;33m,\u001b[0m \u001b[1;34m\"__reduce__\"\u001b[0m\u001b[1;33m,\u001b[0m \u001b[1;32mNone\u001b[0m\u001b[1;33m)\u001b[0m\u001b[1;33m\u001b[0m\u001b[1;33m\u001b[0m\u001b[0m\n",
      "\u001b[1;31mTypeError\u001b[0m: can't pickle _thread._local objects"
     ]
    }
   ],
   "source": [
    "import joblib\n",
    "filename = 'deep_learning_model.sav'\n",
    "joblib.dump(deep_model, filename)"
   ]
  },
  {
   "cell_type": "code",
   "execution_count": null,
   "metadata": {},
   "outputs": [],
   "source": []
  },
  {
   "cell_type": "code",
   "execution_count": null,
   "metadata": {},
   "outputs": [],
   "source": []
  }
 ],
 "metadata": {
  "kernelspec": {
   "display_name": "Python 3",
   "language": "python",
   "name": "python3"
  },
  "language_info": {
   "codemirror_mode": {
    "name": "ipython",
    "version": 3
   },
   "file_extension": ".py",
   "mimetype": "text/x-python",
   "name": "python",
   "nbconvert_exporter": "python",
   "pygments_lexer": "ipython3",
   "version": "3.7.3"
  }
 },
 "nbformat": 4,
 "nbformat_minor": 2
}
