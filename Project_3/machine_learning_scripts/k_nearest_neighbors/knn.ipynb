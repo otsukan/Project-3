{
 "cells": [
  {
   "cell_type": "code",
   "execution_count": 247,
   "metadata": {},
   "outputs": [],
   "source": [
    "# importing necessary modules.\n",
    "import pandas as pd\n",
    "import config5 as cfg\n",
    "from sqlalchemy import create_engine\n",
    "import numpy as np\n",
    "import matplotlib.pyplot as plt"
   ]
  },
  {
   "cell_type": "code",
   "execution_count": 248,
   "metadata": {},
   "outputs": [],
   "source": [
    "# creating a connection to an aws rds postgres cloud database.\n",
    "rds_connection_string = f'postgres:{cfg.password}@test-db.cy2enoewwvsi.us-east-2.rds.amazonaws.com:5432/stocks_db'\n",
    "engine = create_engine(f'postgres://{rds_connection_string}')"
   ]
  },
  {
   "cell_type": "code",
   "execution_count": 249,
   "metadata": {},
   "outputs": [
    {
     "data": {
      "text/plain": [
       "['new_route', 'avg_sandp', 'sandp2', 'sandp', 'russell_2000', 'sandp_russell']"
      ]
     },
     "execution_count": 249,
     "metadata": {},
     "output_type": "execute_result"
    }
   ],
   "source": [
    "# checking out the table names in the database.\n",
    "engine.table_names()"
   ]
  },
  {
   "cell_type": "code",
   "execution_count": 250,
   "metadata": {},
   "outputs": [
    {
     "data": {
      "text/html": [
       "<div>\n",
       "<style scoped>\n",
       "    .dataframe tbody tr th:only-of-type {\n",
       "        vertical-align: middle;\n",
       "    }\n",
       "\n",
       "    .dataframe tbody tr th {\n",
       "        vertical-align: top;\n",
       "    }\n",
       "\n",
       "    .dataframe thead th {\n",
       "        text-align: right;\n",
       "    }\n",
       "</style>\n",
       "<table border=\"1\" class=\"dataframe\">\n",
       "  <thead>\n",
       "    <tr style=\"text-align: right;\">\n",
       "      <th></th>\n",
       "      <th>symbol</th>\n",
       "      <th>name</th>\n",
       "      <th>price_to_bookvalue</th>\n",
       "      <th>price_to_book</th>\n",
       "      <th>price_to_sales</th>\n",
       "      <th>price_to_earnings</th>\n",
       "      <th>receivables_turnover</th>\n",
       "      <th>price_to_free_cash_flow</th>\n",
       "      <th>price_to_operating_cash_flow</th>\n",
       "      <th>enterprise_value_multiple</th>\n",
       "      <th>...</th>\n",
       "      <th>asset_growth</th>\n",
       "      <th>book_value_per_share_growth</th>\n",
       "      <th>debt_growth</th>\n",
       "      <th>randd_expense_growth</th>\n",
       "      <th>sganda_expense_growth</th>\n",
       "      <th>percent_return_on_investment</th>\n",
       "      <th>above_below_sandp_return</th>\n",
       "      <th>market_cap</th>\n",
       "      <th>industry</th>\n",
       "      <th>sector</th>\n",
       "    </tr>\n",
       "  </thead>\n",
       "  <tbody>\n",
       "    <tr>\n",
       "      <th>0</th>\n",
       "      <td>A</td>\n",
       "      <td>Agilent Technologies, Inc.</td>\n",
       "      <td>2.55170</td>\n",
       "      <td>5.17165</td>\n",
       "      <td>1.48130</td>\n",
       "      <td>6.30885</td>\n",
       "      <td>7.0014</td>\n",
       "      <td>18.1807</td>\n",
       "      <td>13.57995</td>\n",
       "      <td>16.746223</td>\n",
       "      <td>...</td>\n",
       "      <td>0.18005</td>\n",
       "      <td>0.15185</td>\n",
       "      <td>0.31885</td>\n",
       "      <td>-0.0674</td>\n",
       "      <td>0.01880</td>\n",
       "      <td>215.407785</td>\n",
       "      <td>0</td>\n",
       "      <td>7.462700e+09</td>\n",
       "      <td>Medical Diagnostics &amp; Research</td>\n",
       "      <td>Healthcare</td>\n",
       "    </tr>\n",
       "    <tr>\n",
       "      <th>1</th>\n",
       "      <td>AAL</td>\n",
       "      <td>American Airlines Group, Inc.</td>\n",
       "      <td>-99.00000</td>\n",
       "      <td>-99.00000</td>\n",
       "      <td>0.11565</td>\n",
       "      <td>-99.00000</td>\n",
       "      <td>27.3348</td>\n",
       "      <td>-99.0000</td>\n",
       "      <td>2.20925</td>\n",
       "      <td>61.812855</td>\n",
       "      <td>...</td>\n",
       "      <td>-0.00170</td>\n",
       "      <td>-0.06235</td>\n",
       "      <td>0.00975</td>\n",
       "      <td>-99.0000</td>\n",
       "      <td>0.01435</td>\n",
       "      <td>492.976589</td>\n",
       "      <td>1</td>\n",
       "      <td>6.133809e+08</td>\n",
       "      <td>Airlines</td>\n",
       "      <td>Industrials</td>\n",
       "    </tr>\n",
       "    <tr>\n",
       "      <th>2</th>\n",
       "      <td>AAP</td>\n",
       "      <td>Advance Auto Parts, Inc.</td>\n",
       "      <td>2.95660</td>\n",
       "      <td>3.10380</td>\n",
       "      <td>0.70600</td>\n",
       "      <td>14.16840</td>\n",
       "      <td>57.0461</td>\n",
       "      <td>7.4185</td>\n",
       "      <td>5.46130</td>\n",
       "      <td>0.499984</td>\n",
       "      <td>...</td>\n",
       "      <td>0.03670</td>\n",
       "      <td>0.19520</td>\n",
       "      <td>-0.57150</td>\n",
       "      <td>-99.0000</td>\n",
       "      <td>0.10360</td>\n",
       "      <td>158.290852</td>\n",
       "      <td>0</td>\n",
       "      <td>1.912092e+09</td>\n",
       "      <td>Retail - Apparel &amp; Specialty</td>\n",
       "      <td>Consumer Cyclical</td>\n",
       "    </tr>\n",
       "    <tr>\n",
       "      <th>3</th>\n",
       "      <td>AAPL</td>\n",
       "      <td>Apple, Inc.</td>\n",
       "      <td>5.42765</td>\n",
       "      <td>4.62715</td>\n",
       "      <td>3.98235</td>\n",
       "      <td>19.54495</td>\n",
       "      <td>10.0906</td>\n",
       "      <td>17.3279</td>\n",
       "      <td>15.35960</td>\n",
       "      <td>0.493341</td>\n",
       "      <td>...</td>\n",
       "      <td>0.44800</td>\n",
       "      <td>0.44245</td>\n",
       "      <td>-99.00000</td>\n",
       "      <td>0.2694</td>\n",
       "      <td>0.21645</td>\n",
       "      <td>641.441749</td>\n",
       "      <td>1</td>\n",
       "      <td>9.151793e+10</td>\n",
       "      <td>Computer Hardware</td>\n",
       "      <td>Technology</td>\n",
       "    </tr>\n",
       "    <tr>\n",
       "      <th>4</th>\n",
       "      <td>ABBV</td>\n",
       "      <td>AbbVie, Inc.</td>\n",
       "      <td>16.46870</td>\n",
       "      <td>-99.00000</td>\n",
       "      <td>3.01900</td>\n",
       "      <td>10.48360</td>\n",
       "      <td>-99.0000</td>\n",
       "      <td>9.2123</td>\n",
       "      <td>8.74540</td>\n",
       "      <td>0.001609</td>\n",
       "      <td>...</td>\n",
       "      <td>-99.00000</td>\n",
       "      <td>-99.00000</td>\n",
       "      <td>-99.00000</td>\n",
       "      <td>0.4613</td>\n",
       "      <td>0.14080</td>\n",
       "      <td>127.493713</td>\n",
       "      <td>0</td>\n",
       "      <td>6.619065e+10</td>\n",
       "      <td>Drug Manufacturers</td>\n",
       "      <td>Healthcare</td>\n",
       "    </tr>\n",
       "  </tbody>\n",
       "</table>\n",
       "<p>5 rows × 87 columns</p>\n",
       "</div>"
      ],
      "text/plain": [
       "  symbol                           name  price_to_bookvalue  price_to_book  \\\n",
       "0      A     Agilent Technologies, Inc.             2.55170        5.17165   \n",
       "1    AAL  American Airlines Group, Inc.           -99.00000      -99.00000   \n",
       "2    AAP       Advance Auto Parts, Inc.             2.95660        3.10380   \n",
       "3   AAPL                    Apple, Inc.             5.42765        4.62715   \n",
       "4   ABBV                   AbbVie, Inc.            16.46870      -99.00000   \n",
       "\n",
       "   price_to_sales  price_to_earnings  receivables_turnover  \\\n",
       "0         1.48130            6.30885                7.0014   \n",
       "1         0.11565          -99.00000               27.3348   \n",
       "2         0.70600           14.16840               57.0461   \n",
       "3         3.98235           19.54495               10.0906   \n",
       "4         3.01900           10.48360              -99.0000   \n",
       "\n",
       "   price_to_free_cash_flow  price_to_operating_cash_flow  \\\n",
       "0                  18.1807                      13.57995   \n",
       "1                 -99.0000                       2.20925   \n",
       "2                   7.4185                       5.46130   \n",
       "3                  17.3279                      15.35960   \n",
       "4                   9.2123                       8.74540   \n",
       "\n",
       "   enterprise_value_multiple  ...  asset_growth  book_value_per_share_growth  \\\n",
       "0                  16.746223  ...       0.18005                      0.15185   \n",
       "1                  61.812855  ...      -0.00170                     -0.06235   \n",
       "2                   0.499984  ...       0.03670                      0.19520   \n",
       "3                   0.493341  ...       0.44800                      0.44245   \n",
       "4                   0.001609  ...     -99.00000                    -99.00000   \n",
       "\n",
       "   debt_growth  randd_expense_growth  sganda_expense_growth  \\\n",
       "0      0.31885               -0.0674                0.01880   \n",
       "1      0.00975              -99.0000                0.01435   \n",
       "2     -0.57150              -99.0000                0.10360   \n",
       "3    -99.00000                0.2694                0.21645   \n",
       "4    -99.00000                0.4613                0.14080   \n",
       "\n",
       "   percent_return_on_investment  above_below_sandp_return    market_cap  \\\n",
       "0                    215.407785                         0  7.462700e+09   \n",
       "1                    492.976589                         1  6.133809e+08   \n",
       "2                    158.290852                         0  1.912092e+09   \n",
       "3                    641.441749                         1  9.151793e+10   \n",
       "4                    127.493713                         0  6.619065e+10   \n",
       "\n",
       "                         industry             sector  \n",
       "0  Medical Diagnostics & Research         Healthcare  \n",
       "1                        Airlines        Industrials  \n",
       "2    Retail - Apparel & Specialty  Consumer Cyclical  \n",
       "3               Computer Hardware         Technology  \n",
       "4              Drug Manufacturers         Healthcare  \n",
       "\n",
       "[5 rows x 87 columns]"
      ]
     },
     "execution_count": 250,
     "metadata": {},
     "output_type": "execute_result"
    }
   ],
   "source": [
    "# checking out the SandP_500 table.\n",
    "sandp = pd.read_sql_query('SELECT * FROM sandp', con=engine)\n",
    "sandp.head()"
   ]
  },
  {
   "cell_type": "code",
   "execution_count": 251,
   "metadata": {},
   "outputs": [],
   "source": [
    "# converting industry columns into 1's and 0's.\n",
    "industry = pd.get_dummies(sandp['industry'])"
   ]
  },
  {
   "cell_type": "code",
   "execution_count": 252,
   "metadata": {},
   "outputs": [],
   "source": [
    "# converting sector columns into 1's and 0's.\n",
    "sector = pd.get_dummies(sandp['sector'])"
   ]
  },
  {
   "cell_type": "code",
   "execution_count": 253,
   "metadata": {},
   "outputs": [],
   "source": [
    "# bringing everything together.\n",
    "sandp = pd.concat([sandp, industry, sector], axis=1)"
   ]
  },
  {
   "cell_type": "code",
   "execution_count": 254,
   "metadata": {},
   "outputs": [],
   "source": [
    "# dropping industry and sector columns.\n",
    "sandp.drop(['industry', 'sector'], axis=1, inplace=True)"
   ]
  },
  {
   "cell_type": "code",
   "execution_count": 255,
   "metadata": {},
   "outputs": [],
   "source": [
    "# dropping unnecessary columns.\n",
    "sandp.drop(['symbol', 'name', 'percent_return_on_investment'], axis=1, inplace=True)"
   ]
  },
  {
   "cell_type": "code",
   "execution_count": 256,
   "metadata": {},
   "outputs": [],
   "source": [
    "X = sandp[['net_income_growth','short_term_coverage_ratio','eps_diluted_growth', 'gross_profit_margin', 'price_to_book', 'price_to_sales', 'price_to_free_cash_flow', 'asset_growth', 'Airlines',\n",
    "'Computer Hardware','Drug Manufacturers', 'Medical Devices','Application Software', 'Semiconductors','Consumer Packaged Goods', \n",
    "'Business Services', 'Credit Services','Utilities - Regulated', 'Insurance - Life', 'REITs','Brokers & Exchanges','Biotechnology',\n",
    "'Asset Management', 'Online Media','Oil & Gas - E&P','Autos', 'Banks', 'Travel & Leisure', 'Entertainment','Agriculture',\n",
    "'Transportation & Logistics','Oil & Gas - Integrated','Industrial Distribution','Metals & Mining','Oil & Gas - Services',\n",
    "'Personal Services','Engineering & Construction', 'Oil & Gas - Midstream','Beverages - Non-Alcoholic', 'Truck Manufacturing', \n",
    "'Employment Services', 'Forest Products']]\n",
    "target = sandp['above_below_sandp_return']"
   ]
  },
  {
   "cell_type": "code",
   "execution_count": 257,
   "metadata": {},
   "outputs": [],
   "source": [
    "from sklearn.model_selection import train_test_split\n",
    "X_train, X_test, target_train, target_test = train_test_split(X, target, random_state=1, stratify=target)"
   ]
  },
  {
   "cell_type": "code",
   "execution_count": 258,
   "metadata": {},
   "outputs": [],
   "source": [
    "from sklearn.preprocessing import StandardScaler\n",
    "\n",
    "# Create a StandardScater model and fit it to the training data\n",
    "\n",
    "X_scaler = StandardScaler().fit(X_train)"
   ]
  },
  {
   "cell_type": "code",
   "execution_count": 259,
   "metadata": {},
   "outputs": [],
   "source": [
    " # Transform the training and testing data using the X_scaler and y_scaler models\n",
    "X_train_scaled = X_scaler.transform(X_train)\n",
    "X_test_scaled = X_scaler.transform(X_test)"
   ]
  },
  {
   "cell_type": "code",
   "execution_count": 260,
   "metadata": {},
   "outputs": [
    {
     "name": "stdout",
     "output_type": "stream",
     "text": [
      "k: 1, Train/Test Score: 1.000/0.667\n",
      "k: 3, Train/Test Score: 0.846/0.650\n",
      "k: 5, Train/Test Score: 0.789/0.658\n",
      "k: 7, Train/Test Score: 0.755/0.598\n",
      "k: 9, Train/Test Score: 0.746/0.615\n",
      "k: 11, Train/Test Score: 0.721/0.615\n",
      "k: 13, Train/Test Score: 0.735/0.607\n",
      "k: 15, Train/Test Score: 0.732/0.632\n",
      "k: 17, Train/Test Score: 0.718/0.641\n",
      "k: 19, Train/Test Score: 0.704/0.658\n"
     ]
    },
    {
     "data": {
      "image/png": "[encoded data removed]",
      "text/plain": [
       "<Figure size 432x288 with 1 Axes>"
      ]
     },
     "metadata": {
      "needs_background": "light"
     },
     "output_type": "display_data"
    }
   ],
   "source": [
    "from sklearn.neighbors import KNeighborsClassifier\n",
    "# Loop through different k values to see which has the highest accuracy\n",
    "# Note: We only use odd numbers because we don't want any ties\n",
    "train_scores = []\n",
    "test_scores = []\n",
    "for k in range(1, 20, 2):\n",
    "    knn = KNeighborsClassifier(n_neighbors=k)\n",
    "    knn.fit(X_train_scaled, target_train)\n",
    "    train_score = knn.score(X_train_scaled, target_train)\n",
    "    test_score = knn.score(X_test_scaled, target_test)\n",
    "    train_scores.append(train_score)\n",
    "    test_scores.append(test_score)\n",
    "    print(f\"k: {k}, Train/Test Score: {train_score:.3f}/{test_score:.3f}\")\n",
    "    \n",
    "    \n",
    "plt.plot(range(1, 20, 2), train_scores, marker='o')\n",
    "plt.plot(range(1, 20, 2), test_scores, marker=\"x\")\n",
    "plt.xlabel(\"k neighbors\")\n",
    "plt.ylabel(\"Testing accuracy Score\")\n",
    "plt.show()"
   ]
  },
  {
   "cell_type": "code",
   "execution_count": 261,
   "metadata": {},
   "outputs": [
    {
     "name": "stdout",
     "output_type": "stream",
     "text": [
      "k=13 Test Acc: 0.658\n"
     ]
    }
   ],
   "source": [
    "# Note that k: 9 provides the best accuracy where the classifier starts to stablize\n",
    "knn = KNeighborsClassifier(n_neighbors=19)\n",
    "knn.fit(X_train_scaled, target_train)\n",
    "print('k=13 Test Acc: %.3f' % knn.score(X_test_scaled, target_test))"
   ]
  },
  {
   "cell_type": "code",
   "execution_count": 262,
   "metadata": {},
   "outputs": [
    {
     "data": {
      "text/plain": [
       "0    75\n",
       "1    42\n",
       "Name: above_below_sandp_return, dtype: int64"
      ]
     },
     "execution_count": 262,
     "metadata": {},
     "output_type": "execute_result"
    }
   ],
   "source": [
    "target_test.value_counts()"
   ]
  },
  {
   "cell_type": "code",
   "execution_count": 263,
   "metadata": {},
   "outputs": [
    {
     "data": {
      "text/plain": [
       "0.3611111111111111"
      ]
     },
     "execution_count": 263,
     "metadata": {},
     "output_type": "execute_result"
    }
   ],
   "source": [
    "target.mean()"
   ]
  },
  {
   "cell_type": "code",
   "execution_count": 266,
   "metadata": {},
   "outputs": [],
   "source": [
    "predicted_class = knn.predict(X)"
   ]
  },
  {
   "cell_type": "code",
   "execution_count": 269,
   "metadata": {},
   "outputs": [],
   "source": [
    "predicted = predicted_class.tolist()"
   ]
  },
  {
   "cell_type": "code",
   "execution_count": 270,
   "metadata": {},
   "outputs": [
    {
     "data": {
      "text/html": [
       "<div>\n",
       "<style scoped>\n",
       "    .dataframe tbody tr th:only-of-type {\n",
       "        vertical-align: middle;\n",
       "    }\n",
       "\n",
       "    .dataframe tbody tr th {\n",
       "        vertical-align: top;\n",
       "    }\n",
       "\n",
       "    .dataframe thead th {\n",
       "        text-align: right;\n",
       "    }\n",
       "</style>\n",
       "<table border=\"1\" class=\"dataframe\">\n",
       "  <thead>\n",
       "    <tr style=\"text-align: right;\">\n",
       "      <th></th>\n",
       "      <th>symbol</th>\n",
       "      <th>name</th>\n",
       "      <th>price_to_bookvalue</th>\n",
       "      <th>price_to_book</th>\n",
       "      <th>price_to_sales</th>\n",
       "      <th>price_to_earnings</th>\n",
       "      <th>receivables_turnover</th>\n",
       "      <th>price_to_free_cash_flow</th>\n",
       "      <th>price_to_operating_cash_flow</th>\n",
       "      <th>enterprise_value_multiple</th>\n",
       "      <th>...</th>\n",
       "      <th>asset_growth</th>\n",
       "      <th>book_value_per_share_growth</th>\n",
       "      <th>debt_growth</th>\n",
       "      <th>randd_expense_growth</th>\n",
       "      <th>sganda_expense_growth</th>\n",
       "      <th>percent_return_on_investment</th>\n",
       "      <th>above_below_sandp_return</th>\n",
       "      <th>market_cap</th>\n",
       "      <th>industry</th>\n",
       "      <th>sector</th>\n",
       "    </tr>\n",
       "  </thead>\n",
       "  <tbody>\n",
       "    <tr>\n",
       "      <th>0</th>\n",
       "      <td>A</td>\n",
       "      <td>Agilent Technologies, Inc.</td>\n",
       "      <td>2.55170</td>\n",
       "      <td>5.17165</td>\n",
       "      <td>1.48130</td>\n",
       "      <td>6.30885</td>\n",
       "      <td>7.0014</td>\n",
       "      <td>18.1807</td>\n",
       "      <td>13.57995</td>\n",
       "      <td>16.746223</td>\n",
       "      <td>...</td>\n",
       "      <td>0.18005</td>\n",
       "      <td>0.15185</td>\n",
       "      <td>0.31885</td>\n",
       "      <td>-0.0674</td>\n",
       "      <td>0.01880</td>\n",
       "      <td>215.407785</td>\n",
       "      <td>0</td>\n",
       "      <td>7.462700e+09</td>\n",
       "      <td>Medical Diagnostics &amp; Research</td>\n",
       "      <td>Healthcare</td>\n",
       "    </tr>\n",
       "    <tr>\n",
       "      <th>1</th>\n",
       "      <td>AAL</td>\n",
       "      <td>American Airlines Group, Inc.</td>\n",
       "      <td>-99.00000</td>\n",
       "      <td>-99.00000</td>\n",
       "      <td>0.11565</td>\n",
       "      <td>-99.00000</td>\n",
       "      <td>27.3348</td>\n",
       "      <td>-99.0000</td>\n",
       "      <td>2.20925</td>\n",
       "      <td>61.812855</td>\n",
       "      <td>...</td>\n",
       "      <td>-0.00170</td>\n",
       "      <td>-0.06235</td>\n",
       "      <td>0.00975</td>\n",
       "      <td>-99.0000</td>\n",
       "      <td>0.01435</td>\n",
       "      <td>492.976589</td>\n",
       "      <td>1</td>\n",
       "      <td>6.133809e+08</td>\n",
       "      <td>Airlines</td>\n",
       "      <td>Industrials</td>\n",
       "    </tr>\n",
       "    <tr>\n",
       "      <th>2</th>\n",
       "      <td>AAP</td>\n",
       "      <td>Advance Auto Parts, Inc.</td>\n",
       "      <td>2.95660</td>\n",
       "      <td>3.10380</td>\n",
       "      <td>0.70600</td>\n",
       "      <td>14.16840</td>\n",
       "      <td>57.0461</td>\n",
       "      <td>7.4185</td>\n",
       "      <td>5.46130</td>\n",
       "      <td>0.499984</td>\n",
       "      <td>...</td>\n",
       "      <td>0.03670</td>\n",
       "      <td>0.19520</td>\n",
       "      <td>-0.57150</td>\n",
       "      <td>-99.0000</td>\n",
       "      <td>0.10360</td>\n",
       "      <td>158.290852</td>\n",
       "      <td>0</td>\n",
       "      <td>1.912092e+09</td>\n",
       "      <td>Retail - Apparel &amp; Specialty</td>\n",
       "      <td>Consumer Cyclical</td>\n",
       "    </tr>\n",
       "    <tr>\n",
       "      <th>3</th>\n",
       "      <td>AAPL</td>\n",
       "      <td>Apple, Inc.</td>\n",
       "      <td>5.42765</td>\n",
       "      <td>4.62715</td>\n",
       "      <td>3.98235</td>\n",
       "      <td>19.54495</td>\n",
       "      <td>10.0906</td>\n",
       "      <td>17.3279</td>\n",
       "      <td>15.35960</td>\n",
       "      <td>0.493341</td>\n",
       "      <td>...</td>\n",
       "      <td>0.44800</td>\n",
       "      <td>0.44245</td>\n",
       "      <td>-99.00000</td>\n",
       "      <td>0.2694</td>\n",
       "      <td>0.21645</td>\n",
       "      <td>641.441749</td>\n",
       "      <td>1</td>\n",
       "      <td>9.151793e+10</td>\n",
       "      <td>Computer Hardware</td>\n",
       "      <td>Technology</td>\n",
       "    </tr>\n",
       "    <tr>\n",
       "      <th>4</th>\n",
       "      <td>ABBV</td>\n",
       "      <td>AbbVie, Inc.</td>\n",
       "      <td>16.46870</td>\n",
       "      <td>-99.00000</td>\n",
       "      <td>3.01900</td>\n",
       "      <td>10.48360</td>\n",
       "      <td>-99.0000</td>\n",
       "      <td>9.2123</td>\n",
       "      <td>8.74540</td>\n",
       "      <td>0.001609</td>\n",
       "      <td>...</td>\n",
       "      <td>-99.00000</td>\n",
       "      <td>-99.00000</td>\n",
       "      <td>-99.00000</td>\n",
       "      <td>0.4613</td>\n",
       "      <td>0.14080</td>\n",
       "      <td>127.493713</td>\n",
       "      <td>0</td>\n",
       "      <td>6.619065e+10</td>\n",
       "      <td>Drug Manufacturers</td>\n",
       "      <td>Healthcare</td>\n",
       "    </tr>\n",
       "  </tbody>\n",
       "</table>\n",
       "<p>5 rows × 87 columns</p>\n",
       "</div>"
      ],
      "text/plain": [
       "  symbol                           name  price_to_bookvalue  price_to_book  \\\n",
       "0      A     Agilent Technologies, Inc.             2.55170        5.17165   \n",
       "1    AAL  American Airlines Group, Inc.           -99.00000      -99.00000   \n",
       "2    AAP       Advance Auto Parts, Inc.             2.95660        3.10380   \n",
       "3   AAPL                    Apple, Inc.             5.42765        4.62715   \n",
       "4   ABBV                   AbbVie, Inc.            16.46870      -99.00000   \n",
       "\n",
       "   price_to_sales  price_to_earnings  receivables_turnover  \\\n",
       "0         1.48130            6.30885                7.0014   \n",
       "1         0.11565          -99.00000               27.3348   \n",
       "2         0.70600           14.16840               57.0461   \n",
       "3         3.98235           19.54495               10.0906   \n",
       "4         3.01900           10.48360              -99.0000   \n",
       "\n",
       "   price_to_free_cash_flow  price_to_operating_cash_flow  \\\n",
       "0                  18.1807                      13.57995   \n",
       "1                 -99.0000                       2.20925   \n",
       "2                   7.4185                       5.46130   \n",
       "3                  17.3279                      15.35960   \n",
       "4                   9.2123                       8.74540   \n",
       "\n",
       "   enterprise_value_multiple  ...  asset_growth  book_value_per_share_growth  \\\n",
       "0                  16.746223  ...       0.18005                      0.15185   \n",
       "1                  61.812855  ...      -0.00170                     -0.06235   \n",
       "2                   0.499984  ...       0.03670                      0.19520   \n",
       "3                   0.493341  ...       0.44800                      0.44245   \n",
       "4                   0.001609  ...     -99.00000                    -99.00000   \n",
       "\n",
       "   debt_growth  randd_expense_growth  sganda_expense_growth  \\\n",
       "0      0.31885               -0.0674                0.01880   \n",
       "1      0.00975              -99.0000                0.01435   \n",
       "2     -0.57150              -99.0000                0.10360   \n",
       "3    -99.00000                0.2694                0.21645   \n",
       "4    -99.00000                0.4613                0.14080   \n",
       "\n",
       "   percent_return_on_investment  above_below_sandp_return    market_cap  \\\n",
       "0                    215.407785                         0  7.462700e+09   \n",
       "1                    492.976589                         1  6.133809e+08   \n",
       "2                    158.290852                         0  1.912092e+09   \n",
       "3                    641.441749                         1  9.151793e+10   \n",
       "4                    127.493713                         0  6.619065e+10   \n",
       "\n",
       "                         industry             sector  \n",
       "0  Medical Diagnostics & Research         Healthcare  \n",
       "1                        Airlines        Industrials  \n",
       "2    Retail - Apparel & Specialty  Consumer Cyclical  \n",
       "3               Computer Hardware         Technology  \n",
       "4              Drug Manufacturers         Healthcare  \n",
       "\n",
       "[5 rows x 87 columns]"
      ]
     },
     "execution_count": 270,
     "metadata": {},
     "output_type": "execute_result"
    }
   ],
   "source": [
    "# checking out the SandP_500 table.\n",
    "sandp = pd.read_sql_query('SELECT * FROM sandp', con=engine)\n",
    "sandp.head()"
   ]
  },
  {
   "cell_type": "code",
   "execution_count": 271,
   "metadata": {},
   "outputs": [],
   "source": [
    "sandp = sandp[['name', 'percent_return_on_investment', 'above_below_sandp_return']]"
   ]
  },
  {
   "cell_type": "code",
   "execution_count": 272,
   "metadata": {},
   "outputs": [
    {
     "data": {
      "text/html": [
       "<div>\n",
       "<style scoped>\n",
       "    .dataframe tbody tr th:only-of-type {\n",
       "        vertical-align: middle;\n",
       "    }\n",
       "\n",
       "    .dataframe tbody tr th {\n",
       "        vertical-align: top;\n",
       "    }\n",
       "\n",
       "    .dataframe thead th {\n",
       "        text-align: right;\n",
       "    }\n",
       "</style>\n",
       "<table border=\"1\" class=\"dataframe\">\n",
       "  <thead>\n",
       "    <tr style=\"text-align: right;\">\n",
       "      <th></th>\n",
       "      <th>name</th>\n",
       "      <th>percent_return_on_investment</th>\n",
       "      <th>above_below_sandp_return</th>\n",
       "    </tr>\n",
       "  </thead>\n",
       "  <tbody>\n",
       "    <tr>\n",
       "      <th>0</th>\n",
       "      <td>Agilent Technologies, Inc.</td>\n",
       "      <td>215.407785</td>\n",
       "      <td>0</td>\n",
       "    </tr>\n",
       "    <tr>\n",
       "      <th>1</th>\n",
       "      <td>American Airlines Group, Inc.</td>\n",
       "      <td>492.976589</td>\n",
       "      <td>1</td>\n",
       "    </tr>\n",
       "    <tr>\n",
       "      <th>2</th>\n",
       "      <td>Advance Auto Parts, Inc.</td>\n",
       "      <td>158.290852</td>\n",
       "      <td>0</td>\n",
       "    </tr>\n",
       "    <tr>\n",
       "      <th>3</th>\n",
       "      <td>Apple, Inc.</td>\n",
       "      <td>641.441749</td>\n",
       "      <td>1</td>\n",
       "    </tr>\n",
       "    <tr>\n",
       "      <th>4</th>\n",
       "      <td>AbbVie, Inc.</td>\n",
       "      <td>127.493713</td>\n",
       "      <td>0</td>\n",
       "    </tr>\n",
       "  </tbody>\n",
       "</table>\n",
       "</div>"
      ],
      "text/plain": [
       "                            name  percent_return_on_investment  \\\n",
       "0     Agilent Technologies, Inc.                    215.407785   \n",
       "1  American Airlines Group, Inc.                    492.976589   \n",
       "2       Advance Auto Parts, Inc.                    158.290852   \n",
       "3                    Apple, Inc.                    641.441749   \n",
       "4                   AbbVie, Inc.                    127.493713   \n",
       "\n",
       "   above_below_sandp_return  \n",
       "0                         0  \n",
       "1                         1  \n",
       "2                         0  \n",
       "3                         1  \n",
       "4                         0  "
      ]
     },
     "execution_count": 272,
     "metadata": {},
     "output_type": "execute_result"
    }
   ],
   "source": [
    "sandp.head()"
   ]
  },
  {
   "cell_type": "code",
   "execution_count": 273,
   "metadata": {},
   "outputs": [],
   "source": [
    "sandp['predictions'] = predicted"
   ]
  },
  {
   "cell_type": "code",
   "execution_count": 274,
   "metadata": {},
   "outputs": [
    {
     "data": {
      "text/html": [
       "<div>\n",
       "<style scoped>\n",
       "    .dataframe tbody tr th:only-of-type {\n",
       "        vertical-align: middle;\n",
       "    }\n",
       "\n",
       "    .dataframe tbody tr th {\n",
       "        vertical-align: top;\n",
       "    }\n",
       "\n",
       "    .dataframe thead th {\n",
       "        text-align: right;\n",
       "    }\n",
       "</style>\n",
       "<table border=\"1\" class=\"dataframe\">\n",
       "  <thead>\n",
       "    <tr style=\"text-align: right;\">\n",
       "      <th></th>\n",
       "      <th>name</th>\n",
       "      <th>percent_return_on_investment</th>\n",
       "      <th>above_below_sandp_return</th>\n",
       "      <th>predictions</th>\n",
       "    </tr>\n",
       "  </thead>\n",
       "  <tbody>\n",
       "    <tr>\n",
       "      <th>0</th>\n",
       "      <td>Agilent Technologies, Inc.</td>\n",
       "      <td>215.407785</td>\n",
       "      <td>0</td>\n",
       "      <td>1</td>\n",
       "    </tr>\n",
       "    <tr>\n",
       "      <th>1</th>\n",
       "      <td>American Airlines Group, Inc.</td>\n",
       "      <td>492.976589</td>\n",
       "      <td>1</td>\n",
       "      <td>0</td>\n",
       "    </tr>\n",
       "    <tr>\n",
       "      <th>2</th>\n",
       "      <td>Advance Auto Parts, Inc.</td>\n",
       "      <td>158.290852</td>\n",
       "      <td>0</td>\n",
       "      <td>1</td>\n",
       "    </tr>\n",
       "    <tr>\n",
       "      <th>3</th>\n",
       "      <td>Apple, Inc.</td>\n",
       "      <td>641.441749</td>\n",
       "      <td>1</td>\n",
       "      <td>0</td>\n",
       "    </tr>\n",
       "    <tr>\n",
       "      <th>4</th>\n",
       "      <td>AbbVie, Inc.</td>\n",
       "      <td>127.493713</td>\n",
       "      <td>0</td>\n",
       "      <td>0</td>\n",
       "    </tr>\n",
       "  </tbody>\n",
       "</table>\n",
       "</div>"
      ],
      "text/plain": [
       "                            name  percent_return_on_investment  \\\n",
       "0     Agilent Technologies, Inc.                    215.407785   \n",
       "1  American Airlines Group, Inc.                    492.976589   \n",
       "2       Advance Auto Parts, Inc.                    158.290852   \n",
       "3                    Apple, Inc.                    641.441749   \n",
       "4                   AbbVie, Inc.                    127.493713   \n",
       "\n",
       "   above_below_sandp_return  predictions  \n",
       "0                         0            1  \n",
       "1                         1            0  \n",
       "2                         0            1  \n",
       "3                         1            0  \n",
       "4                         0            0  "
      ]
     },
     "execution_count": 274,
     "metadata": {},
     "output_type": "execute_result"
    }
   ],
   "source": [
    "sandp.head()"
   ]
  },
  {
   "cell_type": "code",
   "execution_count": 275,
   "metadata": {},
   "outputs": [],
   "source": [
    "predicted_positives = []\n",
    "for (x,y) in zip(sandp['predictions'],sandp['percent_return_on_investment']):\n",
    "    if x == 1:\n",
    "        predicted_positives.append(y)"
   ]
  },
  {
   "cell_type": "code",
   "execution_count": 276,
   "metadata": {},
   "outputs": [],
   "source": [
    "predicted = pd.DataFrame(predicted_positives)"
   ]
  },
  {
   "cell_type": "code",
   "execution_count": 277,
   "metadata": {},
   "outputs": [
    {
     "data": {
      "text/plain": [
       "52"
      ]
     },
     "execution_count": 277,
     "metadata": {},
     "output_type": "execute_result"
    }
   ],
   "source": [
    "len(predicted)"
   ]
  },
  {
   "cell_type": "code",
   "execution_count": 278,
   "metadata": {},
   "outputs": [
    {
     "name": "stdout",
     "output_type": "stream",
     "text": [
      "-72.3336853220697\n",
      "-18.3637728296222\n",
      "-29.9843178254051\n"
     ]
    }
   ],
   "source": [
    "for x in predicted[0]:\n",
    "    if x < 0:\n",
    "        print(x)"
   ]
  },
  {
   "cell_type": "code",
   "execution_count": 279,
   "metadata": {},
   "outputs": [],
   "source": [
    "gain = predicted.sum()"
   ]
  },
  {
   "cell_type": "code",
   "execution_count": 280,
   "metadata": {},
   "outputs": [
    {
     "data": {
      "text/plain": [
       "0    278.297861\n",
       "dtype: float64"
      ]
     },
     "execution_count": 280,
     "metadata": {},
     "output_type": "execute_result"
    }
   ],
   "source": [
    "(gain - len(predicted))/len(predicted)"
   ]
  },
  {
   "cell_type": "code",
   "execution_count": null,
   "metadata": {},
   "outputs": [],
   "source": []
  }
 ],
 "metadata": {
  "kernelspec": {
   "display_name": "Python 3",
   "language": "python",
   "name": "python3"
  },
  "language_info": {
   "codemirror_mode": {
    "name": "ipython",
    "version": 3
   },
   "file_extension": ".py",
   "mimetype": "text/x-python",
   "name": "python",
   "nbconvert_exporter": "python",
   "pygments_lexer": "ipython3",
   "version": "3.7.3"
  }
 },
 "nbformat": 4,
 "nbformat_minor": 2
}
