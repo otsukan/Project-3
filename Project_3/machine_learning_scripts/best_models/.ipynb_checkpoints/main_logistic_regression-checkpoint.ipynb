{
 "cells": [
  {
   "cell_type": "code",
   "execution_count": 600,
   "metadata": {},
   "outputs": [],
   "source": [
    "# importing necessary modules.\n",
    "import pandas as pd\n",
    "import config7 as cfg\n",
    "from sqlalchemy import create_engine\n",
    "import numpy as np\n",
    "import matplotlib.pyplot as plt"
   ]
  },
  {
   "cell_type": "code",
   "execution_count": 601,
   "metadata": {},
   "outputs": [],
   "source": [
    "# creating a connection to an aws rds postgres cloud database.\n",
    "rds_connection_string = f'postgres:{cfg.password}@test-db.cy2enoewwvsi.us-east-2.rds.amazonaws.com:5432/stocks_db'\n",
    "engine = create_engine(f'postgres://{rds_connection_string}')"
   ]
  },
  {
   "cell_type": "code",
   "execution_count": 602,
   "metadata": {},
   "outputs": [
    {
     "data": {
      "text/plain": [
       "['new_route', 'avg_sandp', 'sandp2', 'sandp', 'russell_2000', 'sandp_russell']"
      ]
     },
     "execution_count": 602,
     "metadata": {},
     "output_type": "execute_result"
    }
   ],
   "source": [
    "# checking out the table names in the database.\n",
    "engine.table_names()"
   ]
  },
  {
   "cell_type": "code",
   "execution_count": 603,
   "metadata": {},
   "outputs": [
    {
     "data": {
      "text/html": [
       "<div>\n",
       "<style scoped>\n",
       "    .dataframe tbody tr th:only-of-type {\n",
       "        vertical-align: middle;\n",
       "    }\n",
       "\n",
       "    .dataframe tbody tr th {\n",
       "        vertical-align: top;\n",
       "    }\n",
       "\n",
       "    .dataframe thead th {\n",
       "        text-align: right;\n",
       "    }\n",
       "</style>\n",
       "<table border=\"1\" class=\"dataframe\">\n",
       "  <thead>\n",
       "    <tr style=\"text-align: right;\">\n",
       "      <th></th>\n",
       "      <th>symbol</th>\n",
       "      <th>name</th>\n",
       "      <th>price_to_bookvalue</th>\n",
       "      <th>price_to_book</th>\n",
       "      <th>price_to_sales</th>\n",
       "      <th>price_to_earnings</th>\n",
       "      <th>receivables_turnover</th>\n",
       "      <th>price_to_free_cash_flow</th>\n",
       "      <th>price_to_operating_cash_flow</th>\n",
       "      <th>enterprise_value_multiple</th>\n",
       "      <th>...</th>\n",
       "      <th>asset_growth</th>\n",
       "      <th>book_value_per_share_growth</th>\n",
       "      <th>debt_growth</th>\n",
       "      <th>randd_expense_growth</th>\n",
       "      <th>sganda_expense_growth</th>\n",
       "      <th>percent_return_on_investment</th>\n",
       "      <th>above_below_sandp_return</th>\n",
       "      <th>market_cap</th>\n",
       "      <th>industry</th>\n",
       "      <th>sector</th>\n",
       "    </tr>\n",
       "  </thead>\n",
       "  <tbody>\n",
       "    <tr>\n",
       "      <th>0</th>\n",
       "      <td>A</td>\n",
       "      <td>Agilent Technologies, Inc.</td>\n",
       "      <td>2.55170</td>\n",
       "      <td>5.17165</td>\n",
       "      <td>1.48130</td>\n",
       "      <td>6.30885</td>\n",
       "      <td>7.0014</td>\n",
       "      <td>18.1807</td>\n",
       "      <td>13.57995</td>\n",
       "      <td>16.746223</td>\n",
       "      <td>...</td>\n",
       "      <td>0.18005</td>\n",
       "      <td>0.15185</td>\n",
       "      <td>0.31885</td>\n",
       "      <td>-0.0674</td>\n",
       "      <td>0.01880</td>\n",
       "      <td>215.407785</td>\n",
       "      <td>0</td>\n",
       "      <td>7.462700e+09</td>\n",
       "      <td>Medical Diagnostics &amp; Research</td>\n",
       "      <td>Healthcare</td>\n",
       "    </tr>\n",
       "    <tr>\n",
       "      <th>1</th>\n",
       "      <td>AAL</td>\n",
       "      <td>American Airlines Group, Inc.</td>\n",
       "      <td>-99.00000</td>\n",
       "      <td>-99.00000</td>\n",
       "      <td>0.11565</td>\n",
       "      <td>-99.00000</td>\n",
       "      <td>27.3348</td>\n",
       "      <td>-99.0000</td>\n",
       "      <td>2.20925</td>\n",
       "      <td>61.812855</td>\n",
       "      <td>...</td>\n",
       "      <td>-0.00170</td>\n",
       "      <td>-0.06235</td>\n",
       "      <td>0.00975</td>\n",
       "      <td>-99.0000</td>\n",
       "      <td>0.01435</td>\n",
       "      <td>492.976589</td>\n",
       "      <td>1</td>\n",
       "      <td>6.133809e+08</td>\n",
       "      <td>Airlines</td>\n",
       "      <td>Industrials</td>\n",
       "    </tr>\n",
       "    <tr>\n",
       "      <th>2</th>\n",
       "      <td>AAP</td>\n",
       "      <td>Advance Auto Parts, Inc.</td>\n",
       "      <td>2.95660</td>\n",
       "      <td>3.10380</td>\n",
       "      <td>0.70600</td>\n",
       "      <td>14.16840</td>\n",
       "      <td>57.0461</td>\n",
       "      <td>7.4185</td>\n",
       "      <td>5.46130</td>\n",
       "      <td>0.499984</td>\n",
       "      <td>...</td>\n",
       "      <td>0.03670</td>\n",
       "      <td>0.19520</td>\n",
       "      <td>-0.57150</td>\n",
       "      <td>-99.0000</td>\n",
       "      <td>0.10360</td>\n",
       "      <td>158.290852</td>\n",
       "      <td>0</td>\n",
       "      <td>1.912092e+09</td>\n",
       "      <td>Retail - Apparel &amp; Specialty</td>\n",
       "      <td>Consumer Cyclical</td>\n",
       "    </tr>\n",
       "    <tr>\n",
       "      <th>3</th>\n",
       "      <td>AAPL</td>\n",
       "      <td>Apple, Inc.</td>\n",
       "      <td>5.42765</td>\n",
       "      <td>4.62715</td>\n",
       "      <td>3.98235</td>\n",
       "      <td>19.54495</td>\n",
       "      <td>10.0906</td>\n",
       "      <td>17.3279</td>\n",
       "      <td>15.35960</td>\n",
       "      <td>0.493341</td>\n",
       "      <td>...</td>\n",
       "      <td>0.44800</td>\n",
       "      <td>0.44245</td>\n",
       "      <td>-99.00000</td>\n",
       "      <td>0.2694</td>\n",
       "      <td>0.21645</td>\n",
       "      <td>641.441749</td>\n",
       "      <td>1</td>\n",
       "      <td>9.151793e+10</td>\n",
       "      <td>Computer Hardware</td>\n",
       "      <td>Technology</td>\n",
       "    </tr>\n",
       "    <tr>\n",
       "      <th>4</th>\n",
       "      <td>ABBV</td>\n",
       "      <td>AbbVie, Inc.</td>\n",
       "      <td>16.46870</td>\n",
       "      <td>-99.00000</td>\n",
       "      <td>3.01900</td>\n",
       "      <td>10.48360</td>\n",
       "      <td>-99.0000</td>\n",
       "      <td>9.2123</td>\n",
       "      <td>8.74540</td>\n",
       "      <td>0.001609</td>\n",
       "      <td>...</td>\n",
       "      <td>-99.00000</td>\n",
       "      <td>-99.00000</td>\n",
       "      <td>-99.00000</td>\n",
       "      <td>0.4613</td>\n",
       "      <td>0.14080</td>\n",
       "      <td>127.493713</td>\n",
       "      <td>0</td>\n",
       "      <td>6.619065e+10</td>\n",
       "      <td>Drug Manufacturers</td>\n",
       "      <td>Healthcare</td>\n",
       "    </tr>\n",
       "  </tbody>\n",
       "</table>\n",
       "<p>5 rows × 87 columns</p>\n",
       "</div>"
      ],
      "text/plain": [
       "  symbol                           name  price_to_bookvalue  price_to_book  \\\n",
       "0      A     Agilent Technologies, Inc.             2.55170        5.17165   \n",
       "1    AAL  American Airlines Group, Inc.           -99.00000      -99.00000   \n",
       "2    AAP       Advance Auto Parts, Inc.             2.95660        3.10380   \n",
       "3   AAPL                    Apple, Inc.             5.42765        4.62715   \n",
       "4   ABBV                   AbbVie, Inc.            16.46870      -99.00000   \n",
       "\n",
       "   price_to_sales  price_to_earnings  receivables_turnover  \\\n",
       "0         1.48130            6.30885                7.0014   \n",
       "1         0.11565          -99.00000               27.3348   \n",
       "2         0.70600           14.16840               57.0461   \n",
       "3         3.98235           19.54495               10.0906   \n",
       "4         3.01900           10.48360              -99.0000   \n",
       "\n",
       "   price_to_free_cash_flow  price_to_operating_cash_flow  \\\n",
       "0                  18.1807                      13.57995   \n",
       "1                 -99.0000                       2.20925   \n",
       "2                   7.4185                       5.46130   \n",
       "3                  17.3279                      15.35960   \n",
       "4                   9.2123                       8.74540   \n",
       "\n",
       "   enterprise_value_multiple  ...  asset_growth  book_value_per_share_growth  \\\n",
       "0                  16.746223  ...       0.18005                      0.15185   \n",
       "1                  61.812855  ...      -0.00170                     -0.06235   \n",
       "2                   0.499984  ...       0.03670                      0.19520   \n",
       "3                   0.493341  ...       0.44800                      0.44245   \n",
       "4                   0.001609  ...     -99.00000                    -99.00000   \n",
       "\n",
       "   debt_growth  randd_expense_growth  sganda_expense_growth  \\\n",
       "0      0.31885               -0.0674                0.01880   \n",
       "1      0.00975              -99.0000                0.01435   \n",
       "2     -0.57150              -99.0000                0.10360   \n",
       "3    -99.00000                0.2694                0.21645   \n",
       "4    -99.00000                0.4613                0.14080   \n",
       "\n",
       "   percent_return_on_investment  above_below_sandp_return    market_cap  \\\n",
       "0                    215.407785                         0  7.462700e+09   \n",
       "1                    492.976589                         1  6.133809e+08   \n",
       "2                    158.290852                         0  1.912092e+09   \n",
       "3                    641.441749                         1  9.151793e+10   \n",
       "4                    127.493713                         0  6.619065e+10   \n",
       "\n",
       "                         industry             sector  \n",
       "0  Medical Diagnostics & Research         Healthcare  \n",
       "1                        Airlines        Industrials  \n",
       "2    Retail - Apparel & Specialty  Consumer Cyclical  \n",
       "3               Computer Hardware         Technology  \n",
       "4              Drug Manufacturers         Healthcare  \n",
       "\n",
       "[5 rows x 87 columns]"
      ]
     },
     "execution_count": 603,
     "metadata": {},
     "output_type": "execute_result"
    }
   ],
   "source": [
    "# checking out the SandP_500 table.\n",
    "sandp = pd.read_sql_query('SELECT * FROM sandp', con=engine)\n",
    "sandp.head()"
   ]
  },
  {
   "cell_type": "code",
   "execution_count": 604,
   "metadata": {},
   "outputs": [
    {
     "data": {
      "text/plain": [
       "0    299\n",
       "1    169\n",
       "Name: above_below_sandp_return, dtype: int64"
      ]
     },
     "execution_count": 604,
     "metadata": {},
     "output_type": "execute_result"
    }
   ],
   "source": [
    "sandp['above_below_sandp_return'].value_counts()"
   ]
  },
  {
   "cell_type": "code",
   "execution_count": 605,
   "metadata": {},
   "outputs": [],
   "source": [
    "# converting industry columns into 1's and 0's.\n",
    "industry = pd.get_dummies(sandp['industry'])"
   ]
  },
  {
   "cell_type": "code",
   "execution_count": 606,
   "metadata": {},
   "outputs": [],
   "source": [
    "# converting sector columns into 1's and 0's.\n",
    "sector = pd.get_dummies(sandp['sector'])"
   ]
  },
  {
   "cell_type": "code",
   "execution_count": 607,
   "metadata": {},
   "outputs": [],
   "source": [
    "# bringing everything together.\n",
    "sandp = pd.concat([sandp, industry, sector], axis=1)"
   ]
  },
  {
   "cell_type": "code",
   "execution_count": 608,
   "metadata": {},
   "outputs": [],
   "source": [
    "# dropping industry and sector columns.\n",
    "sandp.drop(['industry', 'sector'], axis=1, inplace=True)"
   ]
  },
  {
   "cell_type": "code",
   "execution_count": 609,
   "metadata": {},
   "outputs": [],
   "source": [
    "sandp = sandp.drop(columns=['symbol', 'name'])"
   ]
  },
  {
   "cell_type": "code",
   "execution_count": 610,
   "metadata": {},
   "outputs": [],
   "source": [
    "# dropping unnecessary columns.\n",
    "sandp.drop(['percent_return_on_investment'], axis=1, inplace=True)"
   ]
  },
  {
   "cell_type": "code",
   "execution_count": 611,
   "metadata": {},
   "outputs": [],
   "source": [
    "names = []\n",
    "for x in sandp.columns:\n",
    "    names.append(x)"
   ]
  },
  {
   "cell_type": "code",
   "execution_count": 612,
   "metadata": {},
   "outputs": [],
   "source": [
    "X = sandp[['net_income_growth','short_term_coverage_ratio','eps_diluted_growth', 'gross_profit_margin', 'price_to_book', 'price_to_sales', 'price_to_free_cash_flow', 'asset_growth', 'Airlines',\n",
    "'Computer Hardware','Drug Manufacturers', 'Medical Devices','Application Software', 'Semiconductors','Consumer Packaged Goods', \n",
    "'Business Services', 'Credit Services','Utilities - Regulated', 'Insurance - Life', 'REITs','Brokers & Exchanges','Biotechnology',\n",
    "'Asset Management', 'Online Media','Oil & Gas - E&P','Autos', 'Banks', 'Travel & Leisure', 'Entertainment','Agriculture',\n",
    "'Transportation & Logistics','Oil & Gas - Integrated','Industrial Distribution','Metals & Mining','Oil & Gas - Services',\n",
    "'Personal Services','Engineering & Construction', 'Oil & Gas - Midstream','Beverages - Non-Alcoholic', 'Truck Manufacturing', \n",
    "'Employment Services', 'Forest Products']]\n",
    "target = sandp['above_below_sandp_return']"
   ]
  },
  {
   "cell_type": "code",
   "execution_count": 613,
   "metadata": {},
   "outputs": [],
   "source": [
    "from sklearn.model_selection import train_test_split\n",
    "X_train, X_test, target_train, target_test = train_test_split(X, target, random_state=76)"
   ]
  },
  {
   "cell_type": "code",
   "execution_count": 614,
   "metadata": {},
   "outputs": [
    {
     "data": {
      "text/plain": [
       "LogisticRegression(C=1.0, class_weight=None, dual=False, fit_intercept=True,\n",
       "                   intercept_scaling=1, l1_ratio=None, max_iter=100,\n",
       "                   multi_class='warn', n_jobs=None, penalty='l2',\n",
       "                   random_state=None, solver='warn', tol=0.0001, verbose=0,\n",
       "                   warm_start=False)"
      ]
     },
     "execution_count": 614,
     "metadata": {},
     "output_type": "execute_result"
    }
   ],
   "source": [
    "from sklearn.linear_model import LogisticRegression\n",
    "classifier = LogisticRegression()\n",
    "classifier"
   ]
  },
  {
   "cell_type": "code",
   "execution_count": 615,
   "metadata": {},
   "outputs": [
    {
     "name": "stderr",
     "output_type": "stream",
     "text": [
      "C:\\Users\\natha\\Anaconda3\\lib\\site-packages\\sklearn\\linear_model\\logistic.py:432: FutureWarning: Default solver will be changed to 'lbfgs' in 0.22. Specify a solver to silence this warning.\n",
      "  FutureWarning)\n"
     ]
    },
    {
     "data": {
      "text/plain": [
       "LogisticRegression(C=1.0, class_weight=None, dual=False, fit_intercept=True,\n",
       "                   intercept_scaling=1, l1_ratio=None, max_iter=100,\n",
       "                   multi_class='warn', n_jobs=None, penalty='l2',\n",
       "                   random_state=None, solver='warn', tol=0.0001, verbose=0,\n",
       "                   warm_start=False)"
      ]
     },
     "execution_count": 615,
     "metadata": {},
     "output_type": "execute_result"
    }
   ],
   "source": [
    "classifier.fit(X_train, target_train)"
   ]
  },
  {
   "cell_type": "code",
   "execution_count": 616,
   "metadata": {},
   "outputs": [
    {
     "name": "stdout",
     "output_type": "stream",
     "text": [
      "Training Data Score: 0.717948717948718\n",
      "Testing Data Score: 0.7521367521367521\n"
     ]
    }
   ],
   "source": [
    "print(f'Training Data Score: {classifier.score(X_train, target_train)}')\n",
    "print(f'Testing Data Score: {classifier.score(X_test, target_test)}')"
   ]
  },
  {
   "cell_type": "code",
   "execution_count": 617,
   "metadata": {},
   "outputs": [
    {
     "data": {
      "text/html": [
       "<div>\n",
       "<style scoped>\n",
       "    .dataframe tbody tr th:only-of-type {\n",
       "        vertical-align: middle;\n",
       "    }\n",
       "\n",
       "    .dataframe tbody tr th {\n",
       "        vertical-align: top;\n",
       "    }\n",
       "\n",
       "    .dataframe thead th {\n",
       "        text-align: right;\n",
       "    }\n",
       "</style>\n",
       "<table border=\"1\" class=\"dataframe\">\n",
       "  <thead>\n",
       "    <tr style=\"text-align: right;\">\n",
       "      <th></th>\n",
       "      <th>Prediction</th>\n",
       "      <th>Actual</th>\n",
       "    </tr>\n",
       "  </thead>\n",
       "  <tbody>\n",
       "    <tr>\n",
       "      <th>0</th>\n",
       "      <td>1</td>\n",
       "      <td>1</td>\n",
       "    </tr>\n",
       "    <tr>\n",
       "      <th>1</th>\n",
       "      <td>0</td>\n",
       "      <td>0</td>\n",
       "    </tr>\n",
       "    <tr>\n",
       "      <th>2</th>\n",
       "      <td>1</td>\n",
       "      <td>1</td>\n",
       "    </tr>\n",
       "    <tr>\n",
       "      <th>3</th>\n",
       "      <td>1</td>\n",
       "      <td>1</td>\n",
       "    </tr>\n",
       "    <tr>\n",
       "      <th>4</th>\n",
       "      <td>0</td>\n",
       "      <td>0</td>\n",
       "    </tr>\n",
       "  </tbody>\n",
       "</table>\n",
       "</div>"
      ],
      "text/plain": [
       "   Prediction  Actual\n",
       "0           1       1\n",
       "1           0       0\n",
       "2           1       1\n",
       "3           1       1\n",
       "4           0       0"
      ]
     },
     "execution_count": 617,
     "metadata": {},
     "output_type": "execute_result"
    }
   ],
   "source": [
    "predictions = classifier.predict(X_test)\n",
    "pd.DataFrame({'Prediction': predictions, 'Actual': target_test}).reset_index(drop=True).head()"
   ]
  },
  {
   "cell_type": "code",
   "execution_count": 618,
   "metadata": {},
   "outputs": [
    {
     "data": {
      "text/plain": [
       "0    80\n",
       "1    37\n",
       "Name: above_below_sandp_return, dtype: int64"
      ]
     },
     "execution_count": 618,
     "metadata": {},
     "output_type": "execute_result"
    }
   ],
   "source": [
    "target_test.value_counts()"
   ]
  },
  {
   "cell_type": "code",
   "execution_count": 619,
   "metadata": {},
   "outputs": [
    {
     "data": {
      "text/plain": [
       "0.3162393162393162"
      ]
     },
     "execution_count": 619,
     "metadata": {},
     "output_type": "execute_result"
    }
   ],
   "source": [
    "target_test.mean()"
   ]
  },
  {
   "cell_type": "code",
   "execution_count": 620,
   "metadata": {},
   "outputs": [
    {
     "name": "stdout",
     "output_type": "stream",
     "text": [
      "              precision    recall  f1-score   support\n",
      "\n",
      "           0       0.78      0.89      0.83        80\n",
      "           1       0.65      0.46      0.54        37\n",
      "\n",
      "    accuracy                           0.75       117\n",
      "   macro avg       0.72      0.67      0.69       117\n",
      "weighted avg       0.74      0.75      0.74       117\n",
      "\n"
     ]
    }
   ],
   "source": [
    "from sklearn.metrics import classification_report\n",
    "print(classification_report(target_test, predictions))"
   ]
  },
  {
   "cell_type": "code",
   "execution_count": 621,
   "metadata": {},
   "outputs": [
    {
     "data": {
      "text/html": [
       "<div>\n",
       "<style scoped>\n",
       "    .dataframe tbody tr th:only-of-type {\n",
       "        vertical-align: middle;\n",
       "    }\n",
       "\n",
       "    .dataframe tbody tr th {\n",
       "        vertical-align: top;\n",
       "    }\n",
       "\n",
       "    .dataframe thead th {\n",
       "        text-align: right;\n",
       "    }\n",
       "</style>\n",
       "<table border=\"1\" class=\"dataframe\">\n",
       "  <thead>\n",
       "    <tr style=\"text-align: right;\">\n",
       "      <th></th>\n",
       "      <th>Prediction</th>\n",
       "      <th>Actual</th>\n",
       "    </tr>\n",
       "  </thead>\n",
       "  <tbody>\n",
       "    <tr>\n",
       "      <th>0</th>\n",
       "      <td>0</td>\n",
       "      <td>0</td>\n",
       "    </tr>\n",
       "    <tr>\n",
       "      <th>1</th>\n",
       "      <td>1</td>\n",
       "      <td>1</td>\n",
       "    </tr>\n",
       "    <tr>\n",
       "      <th>2</th>\n",
       "      <td>0</td>\n",
       "      <td>0</td>\n",
       "    </tr>\n",
       "    <tr>\n",
       "      <th>3</th>\n",
       "      <td>0</td>\n",
       "      <td>1</td>\n",
       "    </tr>\n",
       "    <tr>\n",
       "      <th>4</th>\n",
       "      <td>0</td>\n",
       "      <td>0</td>\n",
       "    </tr>\n",
       "  </tbody>\n",
       "</table>\n",
       "</div>"
      ],
      "text/plain": [
       "   Prediction  Actual\n",
       "0           0       0\n",
       "1           1       1\n",
       "2           0       0\n",
       "3           0       1\n",
       "4           0       0"
      ]
     },
     "execution_count": 621,
     "metadata": {},
     "output_type": "execute_result"
    }
   ],
   "source": [
    "predictions2 = classifier.predict(X)\n",
    "pd.DataFrame({'Prediction': predictions2, 'Actual': target}).reset_index(drop=True).head()"
   ]
  },
  {
   "cell_type": "code",
   "execution_count": 622,
   "metadata": {},
   "outputs": [
    {
     "data": {
      "text/html": [
       "<div>\n",
       "<style scoped>\n",
       "    .dataframe tbody tr th:only-of-type {\n",
       "        vertical-align: middle;\n",
       "    }\n",
       "\n",
       "    .dataframe tbody tr th {\n",
       "        vertical-align: top;\n",
       "    }\n",
       "\n",
       "    .dataframe thead th {\n",
       "        text-align: right;\n",
       "    }\n",
       "</style>\n",
       "<table border=\"1\" class=\"dataframe\">\n",
       "  <thead>\n",
       "    <tr style=\"text-align: right;\">\n",
       "      <th></th>\n",
       "      <th>symbol</th>\n",
       "      <th>name</th>\n",
       "      <th>price_to_bookvalue</th>\n",
       "      <th>price_to_book</th>\n",
       "      <th>price_to_sales</th>\n",
       "      <th>price_to_earnings</th>\n",
       "      <th>receivables_turnover</th>\n",
       "      <th>price_to_free_cash_flow</th>\n",
       "      <th>price_to_operating_cash_flow</th>\n",
       "      <th>enterprise_value_multiple</th>\n",
       "      <th>...</th>\n",
       "      <th>asset_growth</th>\n",
       "      <th>book_value_per_share_growth</th>\n",
       "      <th>debt_growth</th>\n",
       "      <th>randd_expense_growth</th>\n",
       "      <th>sganda_expense_growth</th>\n",
       "      <th>percent_return_on_investment</th>\n",
       "      <th>above_below_sandp_return</th>\n",
       "      <th>market_cap</th>\n",
       "      <th>industry</th>\n",
       "      <th>sector</th>\n",
       "    </tr>\n",
       "  </thead>\n",
       "  <tbody>\n",
       "    <tr>\n",
       "      <th>0</th>\n",
       "      <td>A</td>\n",
       "      <td>Agilent Technologies, Inc.</td>\n",
       "      <td>2.55170</td>\n",
       "      <td>5.17165</td>\n",
       "      <td>1.48130</td>\n",
       "      <td>6.30885</td>\n",
       "      <td>7.0014</td>\n",
       "      <td>18.1807</td>\n",
       "      <td>13.57995</td>\n",
       "      <td>16.746223</td>\n",
       "      <td>...</td>\n",
       "      <td>0.18005</td>\n",
       "      <td>0.15185</td>\n",
       "      <td>0.31885</td>\n",
       "      <td>-0.0674</td>\n",
       "      <td>0.01880</td>\n",
       "      <td>215.407785</td>\n",
       "      <td>0</td>\n",
       "      <td>7.462700e+09</td>\n",
       "      <td>Medical Diagnostics &amp; Research</td>\n",
       "      <td>Healthcare</td>\n",
       "    </tr>\n",
       "    <tr>\n",
       "      <th>1</th>\n",
       "      <td>AAL</td>\n",
       "      <td>American Airlines Group, Inc.</td>\n",
       "      <td>-99.00000</td>\n",
       "      <td>-99.00000</td>\n",
       "      <td>0.11565</td>\n",
       "      <td>-99.00000</td>\n",
       "      <td>27.3348</td>\n",
       "      <td>-99.0000</td>\n",
       "      <td>2.20925</td>\n",
       "      <td>61.812855</td>\n",
       "      <td>...</td>\n",
       "      <td>-0.00170</td>\n",
       "      <td>-0.06235</td>\n",
       "      <td>0.00975</td>\n",
       "      <td>-99.0000</td>\n",
       "      <td>0.01435</td>\n",
       "      <td>492.976589</td>\n",
       "      <td>1</td>\n",
       "      <td>6.133809e+08</td>\n",
       "      <td>Airlines</td>\n",
       "      <td>Industrials</td>\n",
       "    </tr>\n",
       "    <tr>\n",
       "      <th>2</th>\n",
       "      <td>AAP</td>\n",
       "      <td>Advance Auto Parts, Inc.</td>\n",
       "      <td>2.95660</td>\n",
       "      <td>3.10380</td>\n",
       "      <td>0.70600</td>\n",
       "      <td>14.16840</td>\n",
       "      <td>57.0461</td>\n",
       "      <td>7.4185</td>\n",
       "      <td>5.46130</td>\n",
       "      <td>0.499984</td>\n",
       "      <td>...</td>\n",
       "      <td>0.03670</td>\n",
       "      <td>0.19520</td>\n",
       "      <td>-0.57150</td>\n",
       "      <td>-99.0000</td>\n",
       "      <td>0.10360</td>\n",
       "      <td>158.290852</td>\n",
       "      <td>0</td>\n",
       "      <td>1.912092e+09</td>\n",
       "      <td>Retail - Apparel &amp; Specialty</td>\n",
       "      <td>Consumer Cyclical</td>\n",
       "    </tr>\n",
       "    <tr>\n",
       "      <th>3</th>\n",
       "      <td>AAPL</td>\n",
       "      <td>Apple, Inc.</td>\n",
       "      <td>5.42765</td>\n",
       "      <td>4.62715</td>\n",
       "      <td>3.98235</td>\n",
       "      <td>19.54495</td>\n",
       "      <td>10.0906</td>\n",
       "      <td>17.3279</td>\n",
       "      <td>15.35960</td>\n",
       "      <td>0.493341</td>\n",
       "      <td>...</td>\n",
       "      <td>0.44800</td>\n",
       "      <td>0.44245</td>\n",
       "      <td>-99.00000</td>\n",
       "      <td>0.2694</td>\n",
       "      <td>0.21645</td>\n",
       "      <td>641.441749</td>\n",
       "      <td>1</td>\n",
       "      <td>9.151793e+10</td>\n",
       "      <td>Computer Hardware</td>\n",
       "      <td>Technology</td>\n",
       "    </tr>\n",
       "    <tr>\n",
       "      <th>4</th>\n",
       "      <td>ABBV</td>\n",
       "      <td>AbbVie, Inc.</td>\n",
       "      <td>16.46870</td>\n",
       "      <td>-99.00000</td>\n",
       "      <td>3.01900</td>\n",
       "      <td>10.48360</td>\n",
       "      <td>-99.0000</td>\n",
       "      <td>9.2123</td>\n",
       "      <td>8.74540</td>\n",
       "      <td>0.001609</td>\n",
       "      <td>...</td>\n",
       "      <td>-99.00000</td>\n",
       "      <td>-99.00000</td>\n",
       "      <td>-99.00000</td>\n",
       "      <td>0.4613</td>\n",
       "      <td>0.14080</td>\n",
       "      <td>127.493713</td>\n",
       "      <td>0</td>\n",
       "      <td>6.619065e+10</td>\n",
       "      <td>Drug Manufacturers</td>\n",
       "      <td>Healthcare</td>\n",
       "    </tr>\n",
       "  </tbody>\n",
       "</table>\n",
       "<p>5 rows × 87 columns</p>\n",
       "</div>"
      ],
      "text/plain": [
       "  symbol                           name  price_to_bookvalue  price_to_book  \\\n",
       "0      A     Agilent Technologies, Inc.             2.55170        5.17165   \n",
       "1    AAL  American Airlines Group, Inc.           -99.00000      -99.00000   \n",
       "2    AAP       Advance Auto Parts, Inc.             2.95660        3.10380   \n",
       "3   AAPL                    Apple, Inc.             5.42765        4.62715   \n",
       "4   ABBV                   AbbVie, Inc.            16.46870      -99.00000   \n",
       "\n",
       "   price_to_sales  price_to_earnings  receivables_turnover  \\\n",
       "0         1.48130            6.30885                7.0014   \n",
       "1         0.11565          -99.00000               27.3348   \n",
       "2         0.70600           14.16840               57.0461   \n",
       "3         3.98235           19.54495               10.0906   \n",
       "4         3.01900           10.48360              -99.0000   \n",
       "\n",
       "   price_to_free_cash_flow  price_to_operating_cash_flow  \\\n",
       "0                  18.1807                      13.57995   \n",
       "1                 -99.0000                       2.20925   \n",
       "2                   7.4185                       5.46130   \n",
       "3                  17.3279                      15.35960   \n",
       "4                   9.2123                       8.74540   \n",
       "\n",
       "   enterprise_value_multiple  ...  asset_growth  book_value_per_share_growth  \\\n",
       "0                  16.746223  ...       0.18005                      0.15185   \n",
       "1                  61.812855  ...      -0.00170                     -0.06235   \n",
       "2                   0.499984  ...       0.03670                      0.19520   \n",
       "3                   0.493341  ...       0.44800                      0.44245   \n",
       "4                   0.001609  ...     -99.00000                    -99.00000   \n",
       "\n",
       "   debt_growth  randd_expense_growth  sganda_expense_growth  \\\n",
       "0      0.31885               -0.0674                0.01880   \n",
       "1      0.00975              -99.0000                0.01435   \n",
       "2     -0.57150              -99.0000                0.10360   \n",
       "3    -99.00000                0.2694                0.21645   \n",
       "4    -99.00000                0.4613                0.14080   \n",
       "\n",
       "   percent_return_on_investment  above_below_sandp_return    market_cap  \\\n",
       "0                    215.407785                         0  7.462700e+09   \n",
       "1                    492.976589                         1  6.133809e+08   \n",
       "2                    158.290852                         0  1.912092e+09   \n",
       "3                    641.441749                         1  9.151793e+10   \n",
       "4                    127.493713                         0  6.619065e+10   \n",
       "\n",
       "                         industry             sector  \n",
       "0  Medical Diagnostics & Research         Healthcare  \n",
       "1                        Airlines        Industrials  \n",
       "2    Retail - Apparel & Specialty  Consumer Cyclical  \n",
       "3               Computer Hardware         Technology  \n",
       "4              Drug Manufacturers         Healthcare  \n",
       "\n",
       "[5 rows x 87 columns]"
      ]
     },
     "execution_count": 622,
     "metadata": {},
     "output_type": "execute_result"
    }
   ],
   "source": [
    "# checking out the SandP_500 table.\n",
    "sandp = pd.read_sql_query('SELECT * FROM sandp', con=engine)\n",
    "sandp.head()"
   ]
  },
  {
   "cell_type": "code",
   "execution_count": 623,
   "metadata": {},
   "outputs": [],
   "source": [
    "sandp = sandp[['name', 'percent_return_on_investment', 'above_below_sandp_return']]"
   ]
  },
  {
   "cell_type": "code",
   "execution_count": 624,
   "metadata": {},
   "outputs": [
    {
     "data": {
      "text/html": [
       "<div>\n",
       "<style scoped>\n",
       "    .dataframe tbody tr th:only-of-type {\n",
       "        vertical-align: middle;\n",
       "    }\n",
       "\n",
       "    .dataframe tbody tr th {\n",
       "        vertical-align: top;\n",
       "    }\n",
       "\n",
       "    .dataframe thead th {\n",
       "        text-align: right;\n",
       "    }\n",
       "</style>\n",
       "<table border=\"1\" class=\"dataframe\">\n",
       "  <thead>\n",
       "    <tr style=\"text-align: right;\">\n",
       "      <th></th>\n",
       "      <th>name</th>\n",
       "      <th>percent_return_on_investment</th>\n",
       "      <th>above_below_sandp_return</th>\n",
       "    </tr>\n",
       "  </thead>\n",
       "  <tbody>\n",
       "    <tr>\n",
       "      <th>0</th>\n",
       "      <td>Agilent Technologies, Inc.</td>\n",
       "      <td>215.407785</td>\n",
       "      <td>0</td>\n",
       "    </tr>\n",
       "    <tr>\n",
       "      <th>1</th>\n",
       "      <td>American Airlines Group, Inc.</td>\n",
       "      <td>492.976589</td>\n",
       "      <td>1</td>\n",
       "    </tr>\n",
       "    <tr>\n",
       "      <th>2</th>\n",
       "      <td>Advance Auto Parts, Inc.</td>\n",
       "      <td>158.290852</td>\n",
       "      <td>0</td>\n",
       "    </tr>\n",
       "    <tr>\n",
       "      <th>3</th>\n",
       "      <td>Apple, Inc.</td>\n",
       "      <td>641.441749</td>\n",
       "      <td>1</td>\n",
       "    </tr>\n",
       "    <tr>\n",
       "      <th>4</th>\n",
       "      <td>AbbVie, Inc.</td>\n",
       "      <td>127.493713</td>\n",
       "      <td>0</td>\n",
       "    </tr>\n",
       "  </tbody>\n",
       "</table>\n",
       "</div>"
      ],
      "text/plain": [
       "                            name  percent_return_on_investment  \\\n",
       "0     Agilent Technologies, Inc.                    215.407785   \n",
       "1  American Airlines Group, Inc.                    492.976589   \n",
       "2       Advance Auto Parts, Inc.                    158.290852   \n",
       "3                    Apple, Inc.                    641.441749   \n",
       "4                   AbbVie, Inc.                    127.493713   \n",
       "\n",
       "   above_below_sandp_return  \n",
       "0                         0  \n",
       "1                         1  \n",
       "2                         0  \n",
       "3                         1  \n",
       "4                         0  "
      ]
     },
     "execution_count": 624,
     "metadata": {},
     "output_type": "execute_result"
    }
   ],
   "source": [
    "sandp.head()"
   ]
  },
  {
   "cell_type": "code",
   "execution_count": 625,
   "metadata": {},
   "outputs": [],
   "source": [
    "sandp['predictions'] = predictions2"
   ]
  },
  {
   "cell_type": "code",
   "execution_count": 626,
   "metadata": {},
   "outputs": [
    {
     "data": {
      "text/html": [
       "<div>\n",
       "<style scoped>\n",
       "    .dataframe tbody tr th:only-of-type {\n",
       "        vertical-align: middle;\n",
       "    }\n",
       "\n",
       "    .dataframe tbody tr th {\n",
       "        vertical-align: top;\n",
       "    }\n",
       "\n",
       "    .dataframe thead th {\n",
       "        text-align: right;\n",
       "    }\n",
       "</style>\n",
       "<table border=\"1\" class=\"dataframe\">\n",
       "  <thead>\n",
       "    <tr style=\"text-align: right;\">\n",
       "      <th></th>\n",
       "      <th>name</th>\n",
       "      <th>percent_return_on_investment</th>\n",
       "      <th>above_below_sandp_return</th>\n",
       "      <th>predictions</th>\n",
       "    </tr>\n",
       "  </thead>\n",
       "  <tbody>\n",
       "    <tr>\n",
       "      <th>0</th>\n",
       "      <td>Agilent Technologies, Inc.</td>\n",
       "      <td>215.407785</td>\n",
       "      <td>0</td>\n",
       "      <td>0</td>\n",
       "    </tr>\n",
       "    <tr>\n",
       "      <th>1</th>\n",
       "      <td>American Airlines Group, Inc.</td>\n",
       "      <td>492.976589</td>\n",
       "      <td>1</td>\n",
       "      <td>1</td>\n",
       "    </tr>\n",
       "    <tr>\n",
       "      <th>2</th>\n",
       "      <td>Advance Auto Parts, Inc.</td>\n",
       "      <td>158.290852</td>\n",
       "      <td>0</td>\n",
       "      <td>0</td>\n",
       "    </tr>\n",
       "    <tr>\n",
       "      <th>3</th>\n",
       "      <td>Apple, Inc.</td>\n",
       "      <td>641.441749</td>\n",
       "      <td>1</td>\n",
       "      <td>0</td>\n",
       "    </tr>\n",
       "    <tr>\n",
       "      <th>4</th>\n",
       "      <td>AbbVie, Inc.</td>\n",
       "      <td>127.493713</td>\n",
       "      <td>0</td>\n",
       "      <td>0</td>\n",
       "    </tr>\n",
       "  </tbody>\n",
       "</table>\n",
       "</div>"
      ],
      "text/plain": [
       "                            name  percent_return_on_investment  \\\n",
       "0     Agilent Technologies, Inc.                    215.407785   \n",
       "1  American Airlines Group, Inc.                    492.976589   \n",
       "2       Advance Auto Parts, Inc.                    158.290852   \n",
       "3                    Apple, Inc.                    641.441749   \n",
       "4                   AbbVie, Inc.                    127.493713   \n",
       "\n",
       "   above_below_sandp_return  predictions  \n",
       "0                         0            0  \n",
       "1                         1            1  \n",
       "2                         0            0  \n",
       "3                         1            0  \n",
       "4                         0            0  "
      ]
     },
     "execution_count": 626,
     "metadata": {},
     "output_type": "execute_result"
    }
   ],
   "source": [
    "sandp.head()"
   ]
  },
  {
   "cell_type": "code",
   "execution_count": 627,
   "metadata": {},
   "outputs": [
    {
     "data": {
      "text/plain": [
       "0    361\n",
       "1    107\n",
       "Name: predictions, dtype: int64"
      ]
     },
     "execution_count": 627,
     "metadata": {},
     "output_type": "execute_result"
    }
   ],
   "source": [
    "sandp['predictions'].value_counts()"
   ]
  },
  {
   "cell_type": "code",
   "execution_count": 628,
   "metadata": {},
   "outputs": [
    {
     "name": "stdout",
     "output_type": "stream",
     "text": [
      "74\n"
     ]
    }
   ],
   "source": [
    "r = 0\n",
    "predicted_positives = []\n",
    "for (x,y) in zip(sandp['predictions'],sandp['percent_return_on_investment']):\n",
    "    if x == 1:\n",
    "        predicted_positives.append(y)\n",
    "        if y > 228:\n",
    "            r += 1\n",
    "print(r)"
   ]
  },
  {
   "cell_type": "code",
   "execution_count": 629,
   "metadata": {},
   "outputs": [],
   "source": [
    "predicted = pd.DataFrame(predicted_positives)"
   ]
  },
  {
   "cell_type": "code",
   "execution_count": 630,
   "metadata": {},
   "outputs": [
    {
     "data": {
      "text/plain": [
       "107"
      ]
     },
     "execution_count": 630,
     "metadata": {},
     "output_type": "execute_result"
    }
   ],
   "source": [
    "len(predicted)"
   ]
  },
  {
   "cell_type": "code",
   "execution_count": 631,
   "metadata": {},
   "outputs": [
    {
     "data": {
      "text/plain": [
       "0.6915887850467289"
      ]
     },
     "execution_count": 631,
     "metadata": {},
     "output_type": "execute_result"
    }
   ],
   "source": [
    "r/len(predicted)"
   ]
  },
  {
   "cell_type": "code",
   "execution_count": 632,
   "metadata": {},
   "outputs": [],
   "source": [
    "for x in predicted[0]:\n",
    "    if x < 0:\n",
    "        print(x)"
   ]
  },
  {
   "cell_type": "code",
   "execution_count": 633,
   "metadata": {},
   "outputs": [],
   "source": [
    "gain = predicted.sum()"
   ]
  },
  {
   "cell_type": "code",
   "execution_count": 634,
   "metadata": {},
   "outputs": [
    {
     "data": {
      "text/plain": [
       "0    39688.326776\n",
       "dtype: float64"
      ]
     },
     "execution_count": 634,
     "metadata": {},
     "output_type": "execute_result"
    }
   ],
   "source": [
    "gain"
   ]
  },
  {
   "cell_type": "code",
   "execution_count": 635,
   "metadata": {},
   "outputs": [
    {
     "data": {
      "text/plain": [
       "0    369.918942\n",
       "dtype: float64"
      ]
     },
     "execution_count": 635,
     "metadata": {},
     "output_type": "execute_result"
    }
   ],
   "source": [
    "(gain - len(predicted))/len(predicted)"
   ]
  },
  {
   "cell_type": "code",
   "execution_count": 636,
   "metadata": {},
   "outputs": [],
   "source": [
    "sandp_gain = sandp['percent_return_on_investment'].sum()"
   ]
  },
  {
   "cell_type": "code",
   "execution_count": 637,
   "metadata": {},
   "outputs": [
    {
     "data": {
      "text/plain": [
       "228.6078093352651"
      ]
     },
     "execution_count": 637,
     "metadata": {},
     "output_type": "execute_result"
    }
   ],
   "source": [
    "(sandp_gain - len(sandp['percent_return_on_investment']))/len(sandp['percent_return_on_investment'])"
   ]
  },
  {
   "cell_type": "code",
   "execution_count": 560,
   "metadata": {},
   "outputs": [],
   "source": [
    "# import pickle\n",
    "# # Save the trained model as a pickle string.\n",
    "# saved_model = pickle.dumps(classifier)"
   ]
  },
  {
   "cell_type": "code",
   "execution_count": 429,
   "metadata": {},
   "outputs": [],
   "source": [
    "# saved_model"
   ]
  },
  {
   "cell_type": "code",
   "execution_count": 170,
   "metadata": {},
   "outputs": [],
   "source": [
    "# # Load the pickled model\n",
    "# clf_from_pickle = pickle.loads(saved_model)\n",
    "\n",
    "# # Use the loaded pickled model to make predictions\n",
    "# predictions = clf_from_pickle.predict(X)\n",
    "\n",
    "# pd.DataFrame({'Prediction': predictions.ravel(), 'Actual': X}).head()"
   ]
  },
  {
   "cell_type": "code",
   "execution_count": null,
   "metadata": {},
   "outputs": [],
   "source": []
  },
  {
   "cell_type": "code",
   "execution_count": null,
   "metadata": {},
   "outputs": [],
   "source": []
  }
 ],
 "metadata": {
  "kernelspec": {
   "display_name": "Python 3",
   "language": "python",
   "name": "python3"
  },
  "language_info": {
   "codemirror_mode": {
    "name": "ipython",
    "version": 3
   },
   "file_extension": ".py",
   "mimetype": "text/x-python",
   "name": "python",
   "nbconvert_exporter": "python",
   "pygments_lexer": "ipython3",
   "version": "3.7.3"
  }
 },
 "nbformat": 4,
 "nbformat_minor": 2
}
