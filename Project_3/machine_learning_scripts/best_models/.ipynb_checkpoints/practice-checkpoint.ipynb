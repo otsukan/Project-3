{
 "cells": [
  {
   "cell_type": "code",
   "execution_count": 132,
   "metadata": {},
   "outputs": [],
   "source": [
    "# importing necessary modules.\n",
    "import pandas as pd\n",
    "import config7 as cfg\n",
    "from sqlalchemy import create_engine\n",
    "import numpy as np\n",
    "import matplotlib.pyplot as plt"
   ]
  },
  {
   "cell_type": "code",
   "execution_count": 133,
   "metadata": {},
   "outputs": [],
   "source": [
    "# creating a connection to an aws rds postgres cloud database.\n",
    "rds_connection_string = f'postgres:{cfg.password}@test-db.cy2enoewwvsi.us-east-2.rds.amazonaws.com:5432/stocks_db'\n",
    "engine = create_engine(f'postgres://{rds_connection_string}')"
   ]
  },
  {
   "cell_type": "code",
   "execution_count": 134,
   "metadata": {},
   "outputs": [
    {
     "data": {
      "text/plain": [
       "['sandp', 'avg_sandp', 'russell_2000', 'sandp_russell', 'new_route', 'sandp2']"
      ]
     },
     "execution_count": 134,
     "metadata": {},
     "output_type": "execute_result"
    }
   ],
   "source": [
    "# checking out the table names in the database.\n",
    "engine.table_names()"
   ]
  },
  {
   "cell_type": "code",
   "execution_count": 135,
   "metadata": {},
   "outputs": [
    {
     "data": {
      "text/html": [
       "<div>\n",
       "<style scoped>\n",
       "    .dataframe tbody tr th:only-of-type {\n",
       "        vertical-align: middle;\n",
       "    }\n",
       "\n",
       "    .dataframe tbody tr th {\n",
       "        vertical-align: top;\n",
       "    }\n",
       "\n",
       "    .dataframe thead th {\n",
       "        text-align: right;\n",
       "    }\n",
       "</style>\n",
       "<table border=\"1\" class=\"dataframe\">\n",
       "  <thead>\n",
       "    <tr style=\"text-align: right;\">\n",
       "      <th></th>\n",
       "      <th>symbol</th>\n",
       "      <th>name</th>\n",
       "      <th>price_to_bookvalue</th>\n",
       "      <th>price_to_book</th>\n",
       "      <th>price_to_sales</th>\n",
       "      <th>price_to_earnings</th>\n",
       "      <th>receivables_turnover</th>\n",
       "      <th>price_to_free_cash_flow</th>\n",
       "      <th>price_to_operating_cash_flow</th>\n",
       "      <th>enterprise_value_multiple</th>\n",
       "      <th>...</th>\n",
       "      <th>asset_growth</th>\n",
       "      <th>book_value_per_share_growth</th>\n",
       "      <th>debt_growth</th>\n",
       "      <th>randd_expense_growth</th>\n",
       "      <th>sganda_expense_growth</th>\n",
       "      <th>percent_return_on_investment</th>\n",
       "      <th>above_below_sandp_return</th>\n",
       "      <th>market_cap</th>\n",
       "      <th>industry</th>\n",
       "      <th>sector</th>\n",
       "    </tr>\n",
       "  </thead>\n",
       "  <tbody>\n",
       "    <tr>\n",
       "      <th>0</th>\n",
       "      <td>A</td>\n",
       "      <td>Agilent Technologies, Inc.</td>\n",
       "      <td>2.55170</td>\n",
       "      <td>5.17165</td>\n",
       "      <td>1.48130</td>\n",
       "      <td>6.30885</td>\n",
       "      <td>7.0014</td>\n",
       "      <td>18.1807</td>\n",
       "      <td>13.57995</td>\n",
       "      <td>16.746223</td>\n",
       "      <td>...</td>\n",
       "      <td>0.18005</td>\n",
       "      <td>0.15185</td>\n",
       "      <td>0.31885</td>\n",
       "      <td>-0.0674</td>\n",
       "      <td>0.01880</td>\n",
       "      <td>215.407785</td>\n",
       "      <td>1</td>\n",
       "      <td>7.462700e+09</td>\n",
       "      <td>Medical Diagnostics &amp; Research</td>\n",
       "      <td>Healthcare</td>\n",
       "    </tr>\n",
       "    <tr>\n",
       "      <th>1</th>\n",
       "      <td>AAL</td>\n",
       "      <td>American Airlines Group, Inc.</td>\n",
       "      <td>-99.00000</td>\n",
       "      <td>-99.00000</td>\n",
       "      <td>0.11565</td>\n",
       "      <td>-99.00000</td>\n",
       "      <td>27.3348</td>\n",
       "      <td>-99.0000</td>\n",
       "      <td>2.20925</td>\n",
       "      <td>61.812855</td>\n",
       "      <td>...</td>\n",
       "      <td>-0.00170</td>\n",
       "      <td>-0.06235</td>\n",
       "      <td>0.00975</td>\n",
       "      <td>-99.0000</td>\n",
       "      <td>0.01435</td>\n",
       "      <td>492.976589</td>\n",
       "      <td>1</td>\n",
       "      <td>6.133809e+08</td>\n",
       "      <td>Airlines</td>\n",
       "      <td>Industrials</td>\n",
       "    </tr>\n",
       "    <tr>\n",
       "      <th>2</th>\n",
       "      <td>AAP</td>\n",
       "      <td>Advance Auto Parts, Inc.</td>\n",
       "      <td>2.95660</td>\n",
       "      <td>3.10380</td>\n",
       "      <td>0.70600</td>\n",
       "      <td>14.16840</td>\n",
       "      <td>57.0461</td>\n",
       "      <td>7.4185</td>\n",
       "      <td>5.46130</td>\n",
       "      <td>0.499984</td>\n",
       "      <td>...</td>\n",
       "      <td>0.03670</td>\n",
       "      <td>0.19520</td>\n",
       "      <td>-0.57150</td>\n",
       "      <td>-99.0000</td>\n",
       "      <td>0.10360</td>\n",
       "      <td>158.290852</td>\n",
       "      <td>1</td>\n",
       "      <td>1.912092e+09</td>\n",
       "      <td>Retail - Apparel &amp; Specialty</td>\n",
       "      <td>Consumer Cyclical</td>\n",
       "    </tr>\n",
       "    <tr>\n",
       "      <th>3</th>\n",
       "      <td>AAPL</td>\n",
       "      <td>Apple, Inc.</td>\n",
       "      <td>5.42765</td>\n",
       "      <td>4.62715</td>\n",
       "      <td>3.98235</td>\n",
       "      <td>19.54495</td>\n",
       "      <td>10.0906</td>\n",
       "      <td>17.3279</td>\n",
       "      <td>15.35960</td>\n",
       "      <td>0.493341</td>\n",
       "      <td>...</td>\n",
       "      <td>0.44800</td>\n",
       "      <td>0.44245</td>\n",
       "      <td>-99.00000</td>\n",
       "      <td>0.2694</td>\n",
       "      <td>0.21645</td>\n",
       "      <td>641.441749</td>\n",
       "      <td>1</td>\n",
       "      <td>9.151793e+10</td>\n",
       "      <td>Computer Hardware</td>\n",
       "      <td>Technology</td>\n",
       "    </tr>\n",
       "    <tr>\n",
       "      <th>4</th>\n",
       "      <td>ABBV</td>\n",
       "      <td>AbbVie, Inc.</td>\n",
       "      <td>16.46870</td>\n",
       "      <td>-99.00000</td>\n",
       "      <td>3.01900</td>\n",
       "      <td>10.48360</td>\n",
       "      <td>-99.0000</td>\n",
       "      <td>9.2123</td>\n",
       "      <td>8.74540</td>\n",
       "      <td>0.001609</td>\n",
       "      <td>...</td>\n",
       "      <td>-99.00000</td>\n",
       "      <td>-99.00000</td>\n",
       "      <td>-99.00000</td>\n",
       "      <td>0.4613</td>\n",
       "      <td>0.14080</td>\n",
       "      <td>127.493713</td>\n",
       "      <td>0</td>\n",
       "      <td>6.619065e+10</td>\n",
       "      <td>Drug Manufacturers</td>\n",
       "      <td>Healthcare</td>\n",
       "    </tr>\n",
       "  </tbody>\n",
       "</table>\n",
       "<p>5 rows × 87 columns</p>\n",
       "</div>"
      ],
      "text/plain": [
       "  symbol                           name  price_to_bookvalue  price_to_book  \\\n",
       "0      A     Agilent Technologies, Inc.             2.55170        5.17165   \n",
       "1    AAL  American Airlines Group, Inc.           -99.00000      -99.00000   \n",
       "2    AAP       Advance Auto Parts, Inc.             2.95660        3.10380   \n",
       "3   AAPL                    Apple, Inc.             5.42765        4.62715   \n",
       "4   ABBV                   AbbVie, Inc.            16.46870      -99.00000   \n",
       "\n",
       "   price_to_sales  price_to_earnings  receivables_turnover  \\\n",
       "0         1.48130            6.30885                7.0014   \n",
       "1         0.11565          -99.00000               27.3348   \n",
       "2         0.70600           14.16840               57.0461   \n",
       "3         3.98235           19.54495               10.0906   \n",
       "4         3.01900           10.48360              -99.0000   \n",
       "\n",
       "   price_to_free_cash_flow  price_to_operating_cash_flow  \\\n",
       "0                  18.1807                      13.57995   \n",
       "1                 -99.0000                       2.20925   \n",
       "2                   7.4185                       5.46130   \n",
       "3                  17.3279                      15.35960   \n",
       "4                   9.2123                       8.74540   \n",
       "\n",
       "   enterprise_value_multiple  ...  asset_growth  book_value_per_share_growth  \\\n",
       "0                  16.746223  ...       0.18005                      0.15185   \n",
       "1                  61.812855  ...      -0.00170                     -0.06235   \n",
       "2                   0.499984  ...       0.03670                      0.19520   \n",
       "3                   0.493341  ...       0.44800                      0.44245   \n",
       "4                   0.001609  ...     -99.00000                    -99.00000   \n",
       "\n",
       "   debt_growth  randd_expense_growth  sganda_expense_growth  \\\n",
       "0      0.31885               -0.0674                0.01880   \n",
       "1      0.00975              -99.0000                0.01435   \n",
       "2     -0.57150              -99.0000                0.10360   \n",
       "3    -99.00000                0.2694                0.21645   \n",
       "4    -99.00000                0.4613                0.14080   \n",
       "\n",
       "   percent_return_on_investment  above_below_sandp_return    market_cap  \\\n",
       "0                    215.407785                         1  7.462700e+09   \n",
       "1                    492.976589                         1  6.133809e+08   \n",
       "2                    158.290852                         1  1.912092e+09   \n",
       "3                    641.441749                         1  9.151793e+10   \n",
       "4                    127.493713                         0  6.619065e+10   \n",
       "\n",
       "                         industry             sector  \n",
       "0  Medical Diagnostics & Research         Healthcare  \n",
       "1                        Airlines        Industrials  \n",
       "2    Retail - Apparel & Specialty  Consumer Cyclical  \n",
       "3               Computer Hardware         Technology  \n",
       "4              Drug Manufacturers         Healthcare  \n",
       "\n",
       "[5 rows x 87 columns]"
      ]
     },
     "execution_count": 135,
     "metadata": {},
     "output_type": "execute_result"
    }
   ],
   "source": [
    "# checking out the SandP_500 table.\n",
    "sandp = pd.read_sql_query('SELECT * FROM sandp', con=engine)\n",
    "sandp.head()"
   ]
  },
  {
   "cell_type": "code",
   "execution_count": 136,
   "metadata": {},
   "outputs": [],
   "source": [
    "industry_column = sandp['industry']\n",
    "sector_column = sandp['sector']"
   ]
  },
  {
   "cell_type": "code",
   "execution_count": 137,
   "metadata": {},
   "outputs": [],
   "source": [
    "sandp = sandp.drop(columns=['symbol', 'name'])\n",
    "# dropping industry and sector columns.\n",
    "sandp.drop(['industry', 'sector'], axis=1, inplace=True)"
   ]
  },
  {
   "cell_type": "code",
   "execution_count": 138,
   "metadata": {},
   "outputs": [],
   "source": [
    "# from sklearn.impute import SimpleImputer\n",
    "# for x in sandp.columns:\n",
    "#     imr = SimpleImputer(missing_values=-99, strategy='mean')\n",
    "#     imr = imr.fit(sandp[[x]])\n",
    "#     sandp[x] = imr.transform(sandp[[x]]).ravel()"
   ]
  },
  {
   "cell_type": "code",
   "execution_count": 139,
   "metadata": {},
   "outputs": [],
   "source": [
    "for column in sandp.columns:\n",
    "    lower_bound = sandp[column].quantile(0.25)\n",
    "    upper_bound = sandp[column].quantile(0.75)\n",
    "    median = sandp[column].quantile(.5)\n",
    "    \n",
    "    sandp[column] = np.where(sandp[column] > upper_bound, median,sandp[column])\n",
    "    sandp[column] = np.where(sandp[column] < lower_bound, median,sandp[column])\n"
   ]
  },
  {
   "cell_type": "code",
   "execution_count": 140,
   "metadata": {},
   "outputs": [],
   "source": [
    "# sns.boxplot(x=sandp['price_to_bookvalue'])"
   ]
  },
  {
   "cell_type": "code",
   "execution_count": 141,
   "metadata": {},
   "outputs": [],
   "source": [
    "sandp = pd.concat([sandp, industry_column, sector_column], axis=1)"
   ]
  },
  {
   "cell_type": "code",
   "execution_count": 142,
   "metadata": {},
   "outputs": [],
   "source": [
    "# converting industry columns into 1's and 0's.\n",
    "industry = pd.get_dummies(sandp['industry'])"
   ]
  },
  {
   "cell_type": "code",
   "execution_count": 143,
   "metadata": {},
   "outputs": [],
   "source": [
    "# converting sector columns into 1's and 0's.\n",
    "sector = pd.get_dummies(sandp['sector'])"
   ]
  },
  {
   "cell_type": "code",
   "execution_count": 144,
   "metadata": {},
   "outputs": [],
   "source": [
    "# bringing everything together.\n",
    "sandp = pd.concat([sandp, industry, sector], axis=1)"
   ]
  },
  {
   "cell_type": "code",
   "execution_count": 145,
   "metadata": {},
   "outputs": [],
   "source": [
    "# dropping industry and sector columns.\n",
    "sandp.drop(['industry', 'sector'], axis=1, inplace=True)"
   ]
  },
  {
   "cell_type": "code",
   "execution_count": 146,
   "metadata": {},
   "outputs": [],
   "source": [
    "# dropping unnecessary columns.\n",
    "sandp.drop(['percent_return_on_investment'], axis=1, inplace=True)"
   ]
  },
  {
   "cell_type": "code",
   "execution_count": 64,
   "metadata": {},
   "outputs": [],
   "source": [
    "sandp.to_sql(name='avg_sandp', con=engine, if_exists='replace', index=False)"
   ]
  },
  {
   "cell_type": "code",
   "execution_count": 87,
   "metadata": {},
   "outputs": [],
   "source": [
    "sandp = pd.read_sql_query('SELECT * FROM avg_sandp', con=engine)"
   ]
  },
  {
   "cell_type": "code",
   "execution_count": 88,
   "metadata": {},
   "outputs": [
    {
     "data": {
      "text/plain": [
       "['price_to_bookvalue',\n",
       " 'price_to_book',\n",
       " 'price_to_sales',\n",
       " 'price_to_earnings',\n",
       " 'receivables_turnover',\n",
       " 'price_to_free_cash_flow',\n",
       " 'price_to_operating_cash_flow',\n",
       " 'enterprise_value_multiple',\n",
       " 'gross_profit_margin',\n",
       " 'pretax_profit_margin',\n",
       " 'net_profit_margin',\n",
       " 'tax_rate',\n",
       " 'return_on_assets',\n",
       " 'return_on_equity',\n",
       " 'return_on_capital_employed',\n",
       " 'receivables_turnover_1',\n",
       " 'payables_turnover',\n",
       " 'inventory_turnover',\n",
       " 'fixed_asset_turnover',\n",
       " 'asset_turnover',\n",
       " 'current_ratio',\n",
       " 'quick_ratio',\n",
       " 'cash_ratio',\n",
       " 'days_of_sales_outstanding',\n",
       " 'days_of_inventory_outstanding',\n",
       " 'operating_cycle',\n",
       " 'days_of_payables_outstanding',\n",
       " 'cash_conversion_cycle',\n",
       " 'debt_ratio',\n",
       " 'debt_to_equity_ratio',\n",
       " 'longterm_debt_to_capitalization',\n",
       " 'total_debt_to_capitalization',\n",
       " 'interest_coverage',\n",
       " 'cash_flow_to_debt',\n",
       " 'company_equity_multiplier',\n",
       " 'operating_cash_flow_per_share',\n",
       " 'free_cash_flow_per_share',\n",
       " 'cash_per_share',\n",
       " 'payout_ratio',\n",
       " 'receivables_turnover_2',\n",
       " 'operating_cash_flow_to_sales',\n",
       " 'free_cash_flow_to_operating_cash_flow',\n",
       " 'cash_flow_coverage_ratio',\n",
       " 'short_term_coverage_ratio',\n",
       " 'capital_expenditure_coverage_ratio',\n",
       " 'dividend_capex_coverage_ratio',\n",
       " 'dividend_payout_ratio',\n",
       " 'gross_profit_growth',\n",
       " 'ebit_growth',\n",
       " 'operating_income_growth',\n",
       " 'net_income_growth',\n",
       " 'eps_growth',\n",
       " 'eps_diluted_growth',\n",
       " 'weighted_average_share_growth',\n",
       " 'weighted_averages_shares_diluted_growth',\n",
       " 'dividents_per_share_growth',\n",
       " 'operating_cash_flow_growth',\n",
       " 'free_cash_flow_growth',\n",
       " 'ten_year_revenue_growth_per_share',\n",
       " 'five_year_revenue_growth_per_share',\n",
       " 'three_year_revenue_growth_per_share',\n",
       " 'ten_year_operating_cf_growth_per_share',\n",
       " 'five_year_operating_cf_growth_per_share',\n",
       " 'three_year_operating_cf_growth_per_share',\n",
       " 'ten_year_net_income_growth_per_share',\n",
       " 'five_year_net_income_growth_per_share',\n",
       " 'three_year_net_income_growth_per_share',\n",
       " 'ten_year_shareholders_equity_growth_per_share',\n",
       " 'five_year_shareholders_equity_growth_per_share',\n",
       " 'three_year_shareholders_equity_growth_per_share',\n",
       " 'ten_year_dividend_growth_per_share',\n",
       " 'five_year_dividend_growth_per_share',\n",
       " 'three_year_dividend_growth_per_share',\n",
       " 'receivables_growh',\n",
       " 'inventory_growth',\n",
       " 'asset_growth',\n",
       " 'book_value_per_share_growth',\n",
       " 'debt_growth',\n",
       " 'randd_expense_growth',\n",
       " 'sganda_expense_growth',\n",
       " 'above_below_sandp_return',\n",
       " 'market_cap',\n",
       " 'Advertising & Marketing Services',\n",
       " 'Aerospace & Defense',\n",
       " 'Agriculture',\n",
       " 'Airlines',\n",
       " 'Application Software',\n",
       " 'Asset Management',\n",
       " 'Autos',\n",
       " 'Banks',\n",
       " 'Beverages - Alcoholic',\n",
       " 'Beverages - Non-Alcoholic',\n",
       " 'Biotechnology',\n",
       " 'Brokers & Exchanges',\n",
       " 'Building Materials',\n",
       " 'Business Services',\n",
       " 'Chemicals',\n",
       " 'Communication Equipment',\n",
       " 'Communication Services',\n",
       " 'Computer Hardware',\n",
       " 'Conglomerates',\n",
       " 'Consulting & Outsourcing',\n",
       " 'Consumer Packaged Goods',\n",
       " 'Credit Services',\n",
       " 'Drug Manufacturers',\n",
       " 'Employment Services',\n",
       " 'Engineering & Construction',\n",
       " 'Entertainment',\n",
       " 'Farm & Construction Machinery',\n",
       " 'Forest Products',\n",
       " 'Health Care Plans',\n",
       " 'Health Care Providers',\n",
       " 'Homebuilding & Construction',\n",
       " 'Industrial Distribution',\n",
       " 'Industrial Products',\n",
       " 'Insurance',\n",
       " 'Insurance - Life',\n",
       " 'Insurance - Property & Casualty',\n",
       " 'Insurance - Specialty',\n",
       " 'Insurance—Life',\n",
       " 'Manufacturing - Apparel & Furniture',\n",
       " 'Medical Devices',\n",
       " 'Medical Diagnostics & Research',\n",
       " 'Medical Distribution',\n",
       " 'Medical Instruments & Equipment',\n",
       " 'Metals & Mining',\n",
       " 'Oil & Gas - Drilling',\n",
       " 'Oil & Gas - E&P',\n",
       " 'Oil & Gas - Integrated',\n",
       " 'Oil & Gas - Midstream',\n",
       " 'Oil & Gas - Refining & Marketing',\n",
       " 'Oil & Gas - Services',\n",
       " 'Online Media',\n",
       " 'Packaging & Containers',\n",
       " 'Personal Services',\n",
       " 'REITs',\n",
       " 'Real Estate Services',\n",
       " 'Restaurants',\n",
       " 'Retail - Apparel & Specialty',\n",
       " 'Retail - Defensive',\n",
       " 'Semiconductors',\n",
       " 'Steel',\n",
       " 'Tobacco Products',\n",
       " 'Transportation & Logistics',\n",
       " 'Travel & Leisure',\n",
       " 'Truck Manufacturing',\n",
       " 'Utilities - Independent Power Producers',\n",
       " 'Utilities - Regulated',\n",
       " 'Waste Management',\n",
       " 'Basic Materials',\n",
       " 'Consumer Cyclical',\n",
       " 'Consumer Defensive',\n",
       " 'Energy',\n",
       " 'Financial Services',\n",
       " 'Healthcare',\n",
       " 'Industrials',\n",
       " 'Real Estate',\n",
       " 'Technology',\n",
       " 'Utilities']"
      ]
     },
     "execution_count": 88,
     "metadata": {},
     "output_type": "execute_result"
    }
   ],
   "source": [
    "names = []\n",
    "for x in sandp.columns:\n",
    "    names.append(x)\n",
    "names"
   ]
  },
  {
   "cell_type": "code",
   "execution_count": 147,
   "metadata": {},
   "outputs": [],
   "source": [
    "X = sandp[[ 'price_to_earnings','net_income_growth','short_term_coverage_ratio','eps_diluted_growth', 'gross_profit_margin', 'price_to_bookvalue', 'price_to_sales', 'price_to_free_cash_flow', 'asset_growth', 'Airlines',\n",
    "'Computer Hardware','Drug Manufacturers', 'Medical Devices','Application Software', 'Semiconductors','Consumer Packaged Goods', \n",
    "'Business Services', 'Credit Services','Utilities - Regulated', 'Insurance - Life', 'REITs','Brokers & Exchanges','Biotechnology',\n",
    "'Asset Management', 'Online Media','Oil & Gas - E&P','Autos', 'Banks', 'Travel & Leisure', 'Entertainment','Agriculture',\n",
    "'Transportation & Logistics','Oil & Gas - Integrated','Industrial Distribution','Metals & Mining','Oil & Gas - Services',\n",
    "'Personal Services','Engineering & Construction', 'Oil & Gas - Midstream','Beverages - Non-Alcoholic', 'Truck Manufacturing', \n",
    "'Employment Services', 'Forest Products']]\n",
    "target = sandp['above_below_sandp_return']"
   ]
  },
  {
   "cell_type": "code",
   "execution_count": 158,
   "metadata": {},
   "outputs": [],
   "source": [
    "from sklearn.model_selection import train_test_split\n",
    "X_train, X_test, target_train, target_test = train_test_split(X, target, random_state=34)"
   ]
  },
  {
   "cell_type": "code",
   "execution_count": 159,
   "metadata": {},
   "outputs": [
    {
     "data": {
      "text/plain": [
       "LogisticRegression(C=1.0, class_weight=None, dual=False, fit_intercept=True,\n",
       "                   intercept_scaling=1, l1_ratio=None, max_iter=100,\n",
       "                   multi_class='warn', n_jobs=None, penalty='l2',\n",
       "                   random_state=None, solver='warn', tol=0.0001, verbose=0,\n",
       "                   warm_start=False)"
      ]
     },
     "execution_count": 159,
     "metadata": {},
     "output_type": "execute_result"
    }
   ],
   "source": [
    "from sklearn.linear_model import LogisticRegression\n",
    "classifier = LogisticRegression()\n",
    "classifier"
   ]
  },
  {
   "cell_type": "code",
   "execution_count": 160,
   "metadata": {},
   "outputs": [
    {
     "name": "stderr",
     "output_type": "stream",
     "text": [
      "C:\\Users\\natha\\Anaconda3\\lib\\site-packages\\sklearn\\linear_model\\logistic.py:432: FutureWarning: Default solver will be changed to 'lbfgs' in 0.22. Specify a solver to silence this warning.\n",
      "  FutureWarning)\n"
     ]
    },
    {
     "data": {
      "text/plain": [
       "LogisticRegression(C=1.0, class_weight=None, dual=False, fit_intercept=True,\n",
       "                   intercept_scaling=1, l1_ratio=None, max_iter=100,\n",
       "                   multi_class='warn', n_jobs=None, penalty='l2',\n",
       "                   random_state=None, solver='warn', tol=0.0001, verbose=0,\n",
       "                   warm_start=False)"
      ]
     },
     "execution_count": 160,
     "metadata": {},
     "output_type": "execute_result"
    }
   ],
   "source": [
    "classifier.fit(X_train, target_train)"
   ]
  },
  {
   "cell_type": "code",
   "execution_count": 161,
   "metadata": {},
   "outputs": [
    {
     "name": "stdout",
     "output_type": "stream",
     "text": [
      "Training Data Score: 0.7236467236467237\n",
      "Testing Data Score: 0.6752136752136753\n"
     ]
    }
   ],
   "source": [
    "print(f'Training Data Score: {classifier.score(X_train, target_train)}')\n",
    "print(f'Testing Data Score: {classifier.score(X_test, target_test)}')"
   ]
  },
  {
   "cell_type": "code",
   "execution_count": 162,
   "metadata": {},
   "outputs": [
    {
     "data": {
      "text/html": [
       "<div>\n",
       "<style scoped>\n",
       "    .dataframe tbody tr th:only-of-type {\n",
       "        vertical-align: middle;\n",
       "    }\n",
       "\n",
       "    .dataframe tbody tr th {\n",
       "        vertical-align: top;\n",
       "    }\n",
       "\n",
       "    .dataframe thead th {\n",
       "        text-align: right;\n",
       "    }\n",
       "</style>\n",
       "<table border=\"1\" class=\"dataframe\">\n",
       "  <thead>\n",
       "    <tr style=\"text-align: right;\">\n",
       "      <th></th>\n",
       "      <th>Prediction</th>\n",
       "      <th>Actual</th>\n",
       "    </tr>\n",
       "  </thead>\n",
       "  <tbody>\n",
       "    <tr>\n",
       "      <th>0</th>\n",
       "      <td>1.0</td>\n",
       "      <td>1.0</td>\n",
       "    </tr>\n",
       "    <tr>\n",
       "      <th>1</th>\n",
       "      <td>1.0</td>\n",
       "      <td>0.0</td>\n",
       "    </tr>\n",
       "    <tr>\n",
       "      <th>2</th>\n",
       "      <td>1.0</td>\n",
       "      <td>1.0</td>\n",
       "    </tr>\n",
       "    <tr>\n",
       "      <th>3</th>\n",
       "      <td>0.0</td>\n",
       "      <td>0.0</td>\n",
       "    </tr>\n",
       "    <tr>\n",
       "      <th>4</th>\n",
       "      <td>0.0</td>\n",
       "      <td>0.0</td>\n",
       "    </tr>\n",
       "  </tbody>\n",
       "</table>\n",
       "</div>"
      ],
      "text/plain": [
       "   Prediction  Actual\n",
       "0         1.0     1.0\n",
       "1         1.0     0.0\n",
       "2         1.0     1.0\n",
       "3         0.0     0.0\n",
       "4         0.0     0.0"
      ]
     },
     "execution_count": 162,
     "metadata": {},
     "output_type": "execute_result"
    }
   ],
   "source": [
    "predictions = classifier.predict(X_test)\n",
    "pd.DataFrame({'Prediction': predictions, 'Actual': target_test}).reset_index(drop=True).head()"
   ]
  },
  {
   "cell_type": "code",
   "execution_count": 163,
   "metadata": {},
   "outputs": [
    {
     "data": {
      "text/plain": [
       "1.0    69\n",
       "0.0    48\n",
       "Name: above_below_sandp_return, dtype: int64"
      ]
     },
     "execution_count": 163,
     "metadata": {},
     "output_type": "execute_result"
    }
   ],
   "source": [
    "target_test.value_counts()"
   ]
  },
  {
   "cell_type": "code",
   "execution_count": 164,
   "metadata": {},
   "outputs": [
    {
     "data": {
      "text/plain": [
       "0.5897435897435898"
      ]
     },
     "execution_count": 164,
     "metadata": {},
     "output_type": "execute_result"
    }
   ],
   "source": [
    "target_test.mean()"
   ]
  },
  {
   "cell_type": "code",
   "execution_count": 165,
   "metadata": {},
   "outputs": [
    {
     "name": "stdout",
     "output_type": "stream",
     "text": [
      "              precision    recall  f1-score   support\n",
      "\n",
      "         0.0       0.62      0.52      0.57        48\n",
      "         1.0       0.70      0.78      0.74        69\n",
      "\n",
      "    accuracy                           0.68       117\n",
      "   macro avg       0.66      0.65      0.65       117\n",
      "weighted avg       0.67      0.68      0.67       117\n",
      "\n"
     ]
    }
   ],
   "source": [
    "from sklearn.metrics import classification_report\n",
    "print(classification_report(target_test, predictions))"
   ]
  },
  {
   "cell_type": "code",
   "execution_count": 103,
   "metadata": {},
   "outputs": [],
   "source": [
    "# import pickle\n",
    "# # Save the trained model as a pickle string.\n",
    "# saved_model = pickle.dumps(classifier)"
   ]
  },
  {
   "cell_type": "code",
   "execution_count": 104,
   "metadata": {},
   "outputs": [],
   "source": [
    "# saved_model"
   ]
  },
  {
   "cell_type": "code",
   "execution_count": 643,
   "metadata": {},
   "outputs": [],
   "source": [
    "# # Load the pickled model\n",
    "# clf_from_pickle = pickle.loads(saved_model)\n",
    "\n",
    "# # Use the loaded pickled model to make predictions\n",
    "# predictions = clf_from_pickle.predict(X)\n",
    "\n",
    "# pd.DataFrame({'Prediction': predictions.ravel(), 'Actual': X}).head()"
   ]
  },
  {
   "cell_type": "code",
   "execution_count": null,
   "metadata": {},
   "outputs": [],
   "source": [
    "# print(sandp < (Q1 - 1.5 * IQR)) or (sandp > (Q3 + 1.5 * IQR))\n",
    "sandp_out = sandp[((sandp < (Q1 - 1.5 * IQR)) | (sandp > (Q3 + 1.5 * IQR))).any(axis=1)]\n",
    "Q1 = sandp.quantile(0.25)\n",
    "Q3 = sandp.quantile(0.75)\n",
    "# IQR = Q3 - Q1\n",
    "# print(IQR)"
   ]
  }
 ],
 "metadata": {
  "kernelspec": {
   "display_name": "Python 3",
   "language": "python",
   "name": "python3"
  },
  "language_info": {
   "codemirror_mode": {
    "name": "ipython",
    "version": 3
   },
   "file_extension": ".py",
   "mimetype": "text/x-python",
   "name": "python",
   "nbconvert_exporter": "python",
   "pygments_lexer": "ipython3",
   "version": "3.7.3"
  }
 },
 "nbformat": 4,
 "nbformat_minor": 2
}
